{
 "cells": [
  {
   "cell_type": "code",
   "execution_count": 1,
   "metadata": {},
   "outputs": [],
   "source": [
    "from xml.dom import minidom\n",
    "import pandas as pd\n",
    "import numpy as np\n",
    "import matplotlib.pyplot as plt\n",
    "import matplotlib.dates as mdates\n",
    "import datetime"
   ]
  },
  {
   "cell_type": "markdown",
   "metadata": {},
   "source": [
    "# Extracting and claning the data"
   ]
  },
  {
   "cell_type": "markdown",
   "metadata": {},
   "source": [
    "I'm using the minidom module to read in the data in the xml file."
   ]
  },
  {
   "cell_type": "code",
   "execution_count": 2,
   "metadata": {},
   "outputs": [],
   "source": [
    "f = minidom.parse('export.xml')\n",
    "itemlist = f.getElementsByTagName('Record')"
   ]
  },
  {
   "cell_type": "markdown",
   "metadata": {},
   "source": [
    "I want to put the data into a data frame so I start by creating an empty dictionary where each key is the to-be column in the data frame."
   ]
  },
  {
   "cell_type": "code",
   "execution_count": 3,
   "metadata": {},
   "outputs": [],
   "source": [
    "obj = {}\n",
    "\n",
    "obj['record_type'] = []\n",
    "obj['value'] = []\n",
    "obj['creation_date'] = []"
   ]
  },
  {
   "cell_type": "markdown",
   "metadata": {},
   "source": [
    "Next, I fill in the dictionary values."
   ]
  },
  {
   "cell_type": "code",
   "execution_count": 4,
   "metadata": {},
   "outputs": [],
   "source": [
    "for item in itemlist:\n",
    "    obj['record_type'].append(item.attributes['type'].value.replace('HKQuantityTypeIdentifier', ''))\n",
    "    obj['value'].append(item.attributes['value'].value)\n",
    "    obj['creation_date'].append(item.attributes['creationDate'].value)"
   ]
  },
  {
   "cell_type": "markdown",
   "metadata": {},
   "source": [
    "And now I can use the dictionary to create a data frame."
   ]
  },
  {
   "cell_type": "code",
   "execution_count": 5,
   "metadata": {},
   "outputs": [
    {
     "data": {
      "text/html": [
       "<div>\n",
       "<style scoped>\n",
       "    .dataframe tbody tr th:only-of-type {\n",
       "        vertical-align: middle;\n",
       "    }\n",
       "\n",
       "    .dataframe tbody tr th {\n",
       "        vertical-align: top;\n",
       "    }\n",
       "\n",
       "    .dataframe thead th {\n",
       "        text-align: right;\n",
       "    }\n",
       "</style>\n",
       "<table border=\"1\" class=\"dataframe\">\n",
       "  <thead>\n",
       "    <tr style=\"text-align: right;\">\n",
       "      <th></th>\n",
       "      <th>record_type</th>\n",
       "      <th>value</th>\n",
       "      <th>creation_date</th>\n",
       "    </tr>\n",
       "  </thead>\n",
       "  <tbody>\n",
       "    <tr>\n",
       "      <th>0</th>\n",
       "      <td>StepCount</td>\n",
       "      <td>14</td>\n",
       "      <td>2016-07-10 11:04:05 +0300</td>\n",
       "    </tr>\n",
       "    <tr>\n",
       "      <th>1</th>\n",
       "      <td>StepCount</td>\n",
       "      <td>47</td>\n",
       "      <td>2016-07-10 12:05:18 +0300</td>\n",
       "    </tr>\n",
       "    <tr>\n",
       "      <th>2</th>\n",
       "      <td>StepCount</td>\n",
       "      <td>177</td>\n",
       "      <td>2016-07-10 12:05:18 +0300</td>\n",
       "    </tr>\n",
       "    <tr>\n",
       "      <th>3</th>\n",
       "      <td>StepCount</td>\n",
       "      <td>347</td>\n",
       "      <td>2016-07-10 12:05:18 +0300</td>\n",
       "    </tr>\n",
       "    <tr>\n",
       "      <th>4</th>\n",
       "      <td>StepCount</td>\n",
       "      <td>524</td>\n",
       "      <td>2016-07-10 12:05:18 +0300</td>\n",
       "    </tr>\n",
       "  </tbody>\n",
       "</table>\n",
       "</div>"
      ],
      "text/plain": [
       "  record_type value              creation_date\n",
       "0   StepCount    14  2016-07-10 11:04:05 +0300\n",
       "1   StepCount    47  2016-07-10 12:05:18 +0300\n",
       "2   StepCount   177  2016-07-10 12:05:18 +0300\n",
       "3   StepCount   347  2016-07-10 12:05:18 +0300\n",
       "4   StepCount   524  2016-07-10 12:05:18 +0300"
      ]
     },
     "execution_count": 5,
     "metadata": {},
     "output_type": "execute_result"
    }
   ],
   "source": [
    "df = pd.DataFrame(obj)\n",
    "df.head()"
   ]
  },
  {
   "cell_type": "markdown",
   "metadata": {},
   "source": [
    "Correcting the data types."
   ]
  },
  {
   "cell_type": "code",
   "execution_count": 6,
   "metadata": {},
   "outputs": [],
   "source": [
    "df = df.astype({\"value\": float})\n",
    "df['creation_date'] = pd.to_datetime(df['creation_date'].str[:-6])\n",
    "df['creation_dt'] = df['creation_date'].dt.to_period('D').dt.to_timestamp()"
   ]
  },
  {
   "cell_type": "markdown",
   "metadata": {},
   "source": [
    "I'm only interested in the \"FlightsClimbed\" data for the first 5 months of 2019, so I'm only keeping those rows."
   ]
  },
  {
   "cell_type": "code",
   "execution_count": 7,
   "metadata": {},
   "outputs": [],
   "source": [
    "df = df[(df['record_type'] == 'FlightsClimbed') & \n",
    "        (df['creation_dt'] > '2018-12-31') & \n",
    "        (df['creation_dt'] < '2019-06-01')]"
   ]
  },
  {
   "cell_type": "markdown",
   "metadata": {},
   "source": [
    "Then I group the data by date because I want only one data row per day."
   ]
  },
  {
   "cell_type": "code",
   "execution_count": 8,
   "metadata": {},
   "outputs": [
    {
     "data": {
      "text/html": [
       "<div>\n",
       "<style scoped>\n",
       "    .dataframe tbody tr th:only-of-type {\n",
       "        vertical-align: middle;\n",
       "    }\n",
       "\n",
       "    .dataframe tbody tr th {\n",
       "        vertical-align: top;\n",
       "    }\n",
       "\n",
       "    .dataframe thead th {\n",
       "        text-align: right;\n",
       "    }\n",
       "</style>\n",
       "<table border=\"1\" class=\"dataframe\">\n",
       "  <thead>\n",
       "    <tr style=\"text-align: right;\">\n",
       "      <th></th>\n",
       "      <th>steps</th>\n",
       "    </tr>\n",
       "    <tr>\n",
       "      <th>creation_dt</th>\n",
       "      <th></th>\n",
       "    </tr>\n",
       "  </thead>\n",
       "  <tbody>\n",
       "    <tr>\n",
       "      <th>2019-01-01</th>\n",
       "      <td>5.0</td>\n",
       "    </tr>\n",
       "    <tr>\n",
       "      <th>2019-01-02</th>\n",
       "      <td>47.0</td>\n",
       "    </tr>\n",
       "    <tr>\n",
       "      <th>2019-01-03</th>\n",
       "      <td>25.0</td>\n",
       "    </tr>\n",
       "    <tr>\n",
       "      <th>2019-01-04</th>\n",
       "      <td>29.0</td>\n",
       "    </tr>\n",
       "    <tr>\n",
       "      <th>2019-01-05</th>\n",
       "      <td>6.0</td>\n",
       "    </tr>\n",
       "  </tbody>\n",
       "</table>\n",
       "</div>"
      ],
      "text/plain": [
       "             steps\n",
       "creation_dt       \n",
       "2019-01-01     5.0\n",
       "2019-01-02    47.0\n",
       "2019-01-03    25.0\n",
       "2019-01-04    29.0\n",
       "2019-01-05     6.0"
      ]
     },
     "execution_count": 8,
     "metadata": {},
     "output_type": "execute_result"
    }
   ],
   "source": [
    "df = df.groupby(['creation_dt'])[['value']].sum()\n",
    "df = df.rename(columns={\"value\": \"steps\"})\n",
    "df.head()"
   ]
  },
  {
   "cell_type": "markdown",
   "metadata": {},
   "source": [
    "Last but not least, I convert the number of steps into meters and also add cumulative steps amount. According to Apple, a flight of stairs is approximately 10 feet which is 3.048 meters."
   ]
  },
  {
   "cell_type": "code",
   "execution_count": 9,
   "metadata": {},
   "outputs": [
    {
     "data": {
      "text/html": [
       "<div>\n",
       "<style scoped>\n",
       "    .dataframe tbody tr th:only-of-type {\n",
       "        vertical-align: middle;\n",
       "    }\n",
       "\n",
       "    .dataframe tbody tr th {\n",
       "        vertical-align: top;\n",
       "    }\n",
       "\n",
       "    .dataframe thead th {\n",
       "        text-align: right;\n",
       "    }\n",
       "</style>\n",
       "<table border=\"1\" class=\"dataframe\">\n",
       "  <thead>\n",
       "    <tr style=\"text-align: right;\">\n",
       "      <th></th>\n",
       "      <th>steps</th>\n",
       "      <th>steps_m</th>\n",
       "      <th>cum_steps</th>\n",
       "      <th>cum_steps_m</th>\n",
       "    </tr>\n",
       "    <tr>\n",
       "      <th>creation_dt</th>\n",
       "      <th></th>\n",
       "      <th></th>\n",
       "      <th></th>\n",
       "      <th></th>\n",
       "    </tr>\n",
       "  </thead>\n",
       "  <tbody>\n",
       "    <tr>\n",
       "      <th>2019-01-01</th>\n",
       "      <td>5.0</td>\n",
       "      <td>15.240</td>\n",
       "      <td>5.0</td>\n",
       "      <td>15.240</td>\n",
       "    </tr>\n",
       "    <tr>\n",
       "      <th>2019-01-02</th>\n",
       "      <td>47.0</td>\n",
       "      <td>143.256</td>\n",
       "      <td>52.0</td>\n",
       "      <td>158.496</td>\n",
       "    </tr>\n",
       "    <tr>\n",
       "      <th>2019-01-03</th>\n",
       "      <td>25.0</td>\n",
       "      <td>76.200</td>\n",
       "      <td>77.0</td>\n",
       "      <td>234.696</td>\n",
       "    </tr>\n",
       "    <tr>\n",
       "      <th>2019-01-04</th>\n",
       "      <td>29.0</td>\n",
       "      <td>88.392</td>\n",
       "      <td>106.0</td>\n",
       "      <td>323.088</td>\n",
       "    </tr>\n",
       "    <tr>\n",
       "      <th>2019-01-05</th>\n",
       "      <td>6.0</td>\n",
       "      <td>18.288</td>\n",
       "      <td>112.0</td>\n",
       "      <td>341.376</td>\n",
       "    </tr>\n",
       "  </tbody>\n",
       "</table>\n",
       "</div>"
      ],
      "text/plain": [
       "             steps  steps_m  cum_steps  cum_steps_m\n",
       "creation_dt                                        \n",
       "2019-01-01     5.0   15.240        5.0       15.240\n",
       "2019-01-02    47.0  143.256       52.0      158.496\n",
       "2019-01-03    25.0   76.200       77.0      234.696\n",
       "2019-01-04    29.0   88.392      106.0      323.088\n",
       "2019-01-05     6.0   18.288      112.0      341.376"
      ]
     },
     "execution_count": 9,
     "metadata": {},
     "output_type": "execute_result"
    }
   ],
   "source": [
    "df['steps_m'] = df['steps']*3.048\n",
    "df['cum_steps'] = df['steps'].cumsum()\n",
    "df['cum_steps_m'] = df['cum_steps']*3.048\n",
    "df.head()"
   ]
  },
  {
   "cell_type": "markdown",
   "metadata": {},
   "source": [
    "# Visualization"
   ]
  },
  {
   "cell_type": "markdown",
   "metadata": {},
   "source": [
    "First, let's see what has been the distribution of steps by day over this 5 month period."
   ]
  },
  {
   "cell_type": "code",
   "execution_count": 10,
   "metadata": {},
   "outputs": [],
   "source": [
    "from pandas.plotting import register_matplotlib_converters\n",
    "register_matplotlib_converters()"
   ]
  },
  {
   "cell_type": "code",
   "execution_count": 11,
   "metadata": {
    "scrolled": false
   },
   "outputs": [
    {
     "data": {
      "image/png": "[encoded data removed]",
      "text/plain": [
       "<Figure size 1080x360 with 1 Axes>"
      ]
     },
     "metadata": {
      "needs_background": "light"
     },
     "output_type": "display_data"
    }
   ],
   "source": [
    "fig,ax = plt.subplots(figsize = (15, 5))\n",
    "\n",
    "months = mdates.MonthLocator()\n",
    "plt.gca().xaxis.set_major_locator(months)\n",
    "plt.gca().xaxis.set_major_formatter(mdates.DateFormatter('%b %Y'))\n",
    "\n",
    "plt.xlim([datetime.date(2018, 12, 31), datetime.date(2019, 6, 1)])\n",
    "plt.ylim(0,160)\n",
    "\n",
    "plt.grid(b=None, which='major', axis='y', linestyle='-', color='#FFFFFF')\n",
    "\n",
    "plt.bar(df.index, df['steps_m'])\n",
    "\n",
    "ax.spines['top'].set_visible(False)\n",
    "ax.spines['right'].set_visible(False)\n",
    "\n",
    "# plt.savefig('flights_climbed_timeline.png', dpi=200, bbox_inches='tight')\n",
    "\n",
    "plt.show()"
   ]
  },
  {
   "cell_type": "markdown",
   "metadata": {},
   "source": [
    "Then let's see the cumulative progress of flights climbed in meters. For comparison, I add some milestones to compare the progress."
   ]
  },
  {
   "cell_type": "markdown",
   "metadata": {},
   "source": [
    "For the milestones, I first create a dictionary with their names and the actual hight. I then create two more empty dictionaries, one for the date when I passed the milestone and the other for the flights climbed in meters for the day I passed the milestone."
   ]
  },
  {
   "cell_type": "code",
   "execution_count": 12,
   "metadata": {},
   "outputs": [],
   "source": [
    "milestones = {'Burj Khalifa': 828, 'Mont Blanc':4810, 'Mount Kilimanjaro': 5895, \n",
    "              'Mount Everest': 8848, 'Commercial airplane altitude':10600}\n",
    "milestones_dates = {}\n",
    "milestones_values = {}"
   ]
  },
  {
   "cell_type": "markdown",
   "metadata": {},
   "source": [
    "And then I fill in the two empty dictionaries with the corresponding data."
   ]
  },
  {
   "cell_type": "code",
   "execution_count": 13,
   "metadata": {},
   "outputs": [],
   "source": [
    "for milestone in milestones:\n",
    "    for i, timestamp in enumerate(df.index):\n",
    "        if df['cum_steps_m'][i] < milestones[milestone]:\n",
    "            pass\n",
    "        else:\n",
    "            milestones_dates[milestone] = timestamp\n",
    "            milestones_values[milestone] = df['cum_steps_m'][i]\n",
    "            break"
   ]
  },
  {
   "cell_type": "markdown",
   "metadata": {},
   "source": [
    "And lastly, I'm able to put all that into another data frame."
   ]
  },
  {
   "cell_type": "code",
   "execution_count": 14,
   "metadata": {},
   "outputs": [
    {
     "data": {
      "text/html": [
       "<div>\n",
       "<style scoped>\n",
       "    .dataframe tbody tr th:only-of-type {\n",
       "        vertical-align: middle;\n",
       "    }\n",
       "\n",
       "    .dataframe tbody tr th {\n",
       "        vertical-align: top;\n",
       "    }\n",
       "\n",
       "    .dataframe thead th {\n",
       "        text-align: right;\n",
       "    }\n",
       "</style>\n",
       "<table border=\"1\" class=\"dataframe\">\n",
       "  <thead>\n",
       "    <tr style=\"text-align: right;\">\n",
       "      <th></th>\n",
       "      <th>value</th>\n",
       "      <th>date_value</th>\n",
       "      <th>date</th>\n",
       "    </tr>\n",
       "  </thead>\n",
       "  <tbody>\n",
       "    <tr>\n",
       "      <th>Burj Khalifa</th>\n",
       "      <td>828</td>\n",
       "      <td>850.392</td>\n",
       "      <td>2019-01-13</td>\n",
       "    </tr>\n",
       "    <tr>\n",
       "      <th>Mont Blanc</th>\n",
       "      <td>4810</td>\n",
       "      <td>4907.28</td>\n",
       "      <td>2019-03-04</td>\n",
       "    </tr>\n",
       "    <tr>\n",
       "      <th>Mount Kilimanjaro</th>\n",
       "      <td>5895</td>\n",
       "      <td>5925.31</td>\n",
       "      <td>2019-03-15</td>\n",
       "    </tr>\n",
       "    <tr>\n",
       "      <th>Mount Everest</th>\n",
       "      <td>8848</td>\n",
       "      <td>8924.54</td>\n",
       "      <td>2019-04-18</td>\n",
       "    </tr>\n",
       "    <tr>\n",
       "      <th>Commercial airplane altitude</th>\n",
       "      <td>10600</td>\n",
       "      <td>10668</td>\n",
       "      <td>2019-05-17</td>\n",
       "    </tr>\n",
       "  </tbody>\n",
       "</table>\n",
       "</div>"
      ],
      "text/plain": [
       "                              value date_value       date\n",
       "Burj Khalifa                    828    850.392 2019-01-13\n",
       "Mont Blanc                     4810    4907.28 2019-03-04\n",
       "Mount Kilimanjaro              5895    5925.31 2019-03-15\n",
       "Mount Everest                  8848    8924.54 2019-04-18\n",
       "Commercial airplane altitude  10600      10668 2019-05-17"
      ]
     },
     "execution_count": 14,
     "metadata": {},
     "output_type": "execute_result"
    }
   ],
   "source": [
    "data = [milestones, milestones_values, milestones_dates] \n",
    "df_milestones = pd.DataFrame(data, index =['value', 'date_value', 'date'])\n",
    "df_milestones = df_milestones.transpose()\n",
    "df_milestones.head()"
   ]
  },
  {
   "cell_type": "code",
   "execution_count": 15,
   "metadata": {},
   "outputs": [
    {
     "data": {
      "image/png": "[encoded data removed]",
      "text/plain": [
       "<Figure size 720x720 with 1 Axes>"
      ]
     },
     "metadata": {
      "needs_background": "light"
     },
     "output_type": "display_data"
    }
   ],
   "source": [
    "fig,ax = plt.subplots(figsize = (10, 10))\n",
    "\n",
    "# tweak axes and gridlines\n",
    "plt.gca().xaxis.set_major_locator(months)\n",
    "plt.gca().xaxis.set_major_formatter(mdates.DateFormatter('%b %Y'))\n",
    "plt.xlim([datetime.date(2019, 1, 1), datetime.date(2019, 6, 2)])\n",
    "plt.ylim(-1, 12000)\n",
    "plt.grid(which='major', color='#F0F0F0', axis='both')\n",
    "\n",
    "# plot cumulative steps and milestones\n",
    "plt.plot(df.index, df['cum_steps_m'], color='#ff7f0e', linewidth=2)\n",
    "plt.scatter(df_milestones['date'], df_milestones['date_value'], color='red', zorder=99)\n",
    "\n",
    "# add milestone labels\n",
    "for i, index in enumerate(df_milestones.index):\n",
    "    if i <= 1:\n",
    "        plt.text(x=df_milestones['date'][i] + pd.DateOffset(2),\n",
    "                 y=df_milestones['date_value'][i], \n",
    "                 s=index+\" \"+str(df_milestones['value'][i])+\"m\", \n",
    "                 ha='left',\n",
    "                 va='center')\n",
    "    else:\n",
    "        plt.text(x=df_milestones['date'][i] + pd.DateOffset(-2),\n",
    "                 y=df_milestones['date_value'][i], \n",
    "                 s=index+\" \"+str(df_milestones['value'][i])+\"m\", \n",
    "                 ha='right',\n",
    "                 va='center')\n",
    "\n",
    "# some more tweaks\n",
    "ax.tick_params(axis=u'both', which=u'both',length=4, color='#F0F0F0')\n",
    "ax.spines['top'].set_visible(False)\n",
    "ax.spines['right'].set_visible(False)\n",
    "ax.spines['bottom'].set_color('#F0F0F0')\n",
    "ax.spines['left'].set_visible(False)\n",
    "ax.set_ylabel('cumulative flights climbed in meters')\n",
    "\n",
    "# plt.savefig('flights_climbed_progress.png', dpi=200, bbox_inches='tight')\n",
    "\n",
    "plt.show()"
   ]
  }
 ],
 "metadata": {
  "kernelspec": {
   "display_name": "Python 3",
   "language": "python",
   "name": "python3"
  },
  "language_info": {
   "codemirror_mode": {
    "name": "ipython",
    "version": 3
   },
   "file_extension": ".py",
   "mimetype": "text/x-python",
   "name": "python",
   "nbconvert_exporter": "python",
   "pygments_lexer": "ipython3",
   "version": "3.7.6"
  }
 },
 "nbformat": 4,
 "nbformat_minor": 2
}
