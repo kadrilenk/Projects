{
 "cells": [
  {
   "cell_type": "code",
   "execution_count": 12,
   "metadata": {},
   "outputs": [],
   "source": [
    "from xml.dom import minidom\n",
    "import pandas as pd\n",
    "import numpy as np\n",
    "import matplotlib.pyplot as plt\n",
    "import matplotlib.dates as mdates\n",
    "import datetime"
   ]
  },
  {
   "cell_type": "markdown",
   "metadata": {},
   "source": [
    "# Extracting the data"
   ]
  },
  {
   "cell_type": "markdown",
   "metadata": {},
   "source": [
    "First, I'm using the minidom module to read in the data in the xml file."
   ]
  },
  {
   "cell_type": "code",
   "execution_count": 13,
   "metadata": {},
   "outputs": [],
   "source": [
    "f = minidom.parse('export.xml')\n",
    "itemlist = f.getElementsByTagName('Record')"
   ]
  },
  {
   "cell_type": "code",
   "execution_count": 14,
   "metadata": {},
   "outputs": [],
   "source": [
    "obj = {}\n",
    "\n",
    "obj['record_type'] = []\n",
    "obj['value'] = []\n",
    "obj['unit'] = []\n",
    "obj['creation_date'] = []\n",
    "obj['start_date'] = []\n",
    "obj['end_date'] = []"
   ]
  },
  {
   "cell_type": "code",
   "execution_count": 15,
   "metadata": {},
   "outputs": [],
   "source": [
    "for item in itemlist:\n",
    "    obj['record_type'].append(item.attributes['type'].value.replace('HKQuantityTypeIdentifier', ''))\n",
    "    obj['value'].append(item.attributes['value'].value)\n",
    "    obj['unit'].append(item.attributes['unit'].value)\n",
    "    obj['creation_date'].append(item.attributes['creationDate'].value)\n",
    "    obj['start_date'].append(item.attributes['startDate'].value)\n",
    "    obj['end_date'].append(item.attributes['endDate'].value)"
   ]
  },
  {
   "cell_type": "code",
   "execution_count": 16,
   "metadata": {},
   "outputs": [
    {
     "data": {
      "text/html": [
       "<div>\n",
       "<style scoped>\n",
       "    .dataframe tbody tr th:only-of-type {\n",
       "        vertical-align: middle;\n",
       "    }\n",
       "\n",
       "    .dataframe tbody tr th {\n",
       "        vertical-align: top;\n",
       "    }\n",
       "\n",
       "    .dataframe thead th {\n",
       "        text-align: right;\n",
       "    }\n",
       "</style>\n",
       "<table border=\"1\" class=\"dataframe\">\n",
       "  <thead>\n",
       "    <tr style=\"text-align: right;\">\n",
       "      <th></th>\n",
       "      <th>record_type</th>\n",
       "      <th>value</th>\n",
       "      <th>unit</th>\n",
       "      <th>creation_date</th>\n",
       "      <th>start_date</th>\n",
       "      <th>end_date</th>\n",
       "      <th>creation_dt</th>\n",
       "      <th>creation_date_month</th>\n",
       "    </tr>\n",
       "  </thead>\n",
       "  <tbody>\n",
       "    <tr>\n",
       "      <th>0</th>\n",
       "      <td>StepCount</td>\n",
       "      <td>14.0</td>\n",
       "      <td>count</td>\n",
       "      <td>2016-07-10 11:04:05</td>\n",
       "      <td>2016-07-10 10:54:49</td>\n",
       "      <td>2016-07-10 10:54:56</td>\n",
       "      <td>2016-07-10</td>\n",
       "      <td>2016-07-01</td>\n",
       "    </tr>\n",
       "    <tr>\n",
       "      <th>1</th>\n",
       "      <td>StepCount</td>\n",
       "      <td>47.0</td>\n",
       "      <td>count</td>\n",
       "      <td>2016-07-10 12:05:18</td>\n",
       "      <td>2016-07-10 11:09:26</td>\n",
       "      <td>2016-07-10 11:14:56</td>\n",
       "      <td>2016-07-10</td>\n",
       "      <td>2016-07-01</td>\n",
       "    </tr>\n",
       "    <tr>\n",
       "      <th>2</th>\n",
       "      <td>StepCount</td>\n",
       "      <td>177.0</td>\n",
       "      <td>count</td>\n",
       "      <td>2016-07-10 12:05:18</td>\n",
       "      <td>2016-07-10 11:14:56</td>\n",
       "      <td>2016-07-10 11:20:00</td>\n",
       "      <td>2016-07-10</td>\n",
       "      <td>2016-07-01</td>\n",
       "    </tr>\n",
       "    <tr>\n",
       "      <th>3</th>\n",
       "      <td>StepCount</td>\n",
       "      <td>347.0</td>\n",
       "      <td>count</td>\n",
       "      <td>2016-07-10 12:05:18</td>\n",
       "      <td>2016-07-10 11:20:00</td>\n",
       "      <td>2016-07-10 11:25:10</td>\n",
       "      <td>2016-07-10</td>\n",
       "      <td>2016-07-01</td>\n",
       "    </tr>\n",
       "    <tr>\n",
       "      <th>4</th>\n",
       "      <td>StepCount</td>\n",
       "      <td>524.0</td>\n",
       "      <td>count</td>\n",
       "      <td>2016-07-10 12:05:18</td>\n",
       "      <td>2016-07-10 11:25:10</td>\n",
       "      <td>2016-07-10 11:30:17</td>\n",
       "      <td>2016-07-10</td>\n",
       "      <td>2016-07-01</td>\n",
       "    </tr>\n",
       "  </tbody>\n",
       "</table>\n",
       "</div>"
      ],
      "text/plain": [
       "  record_type  value   unit       creation_date          start_date  \\\n",
       "0   StepCount   14.0  count 2016-07-10 11:04:05 2016-07-10 10:54:49   \n",
       "1   StepCount   47.0  count 2016-07-10 12:05:18 2016-07-10 11:09:26   \n",
       "2   StepCount  177.0  count 2016-07-10 12:05:18 2016-07-10 11:14:56   \n",
       "3   StepCount  347.0  count 2016-07-10 12:05:18 2016-07-10 11:20:00   \n",
       "4   StepCount  524.0  count 2016-07-10 12:05:18 2016-07-10 11:25:10   \n",
       "\n",
       "             end_date creation_dt creation_date_month  \n",
       "0 2016-07-10 10:54:56  2016-07-10          2016-07-01  \n",
       "1 2016-07-10 11:14:56  2016-07-10          2016-07-01  \n",
       "2 2016-07-10 11:20:00  2016-07-10          2016-07-01  \n",
       "3 2016-07-10 11:25:10  2016-07-10          2016-07-01  \n",
       "4 2016-07-10 11:30:17  2016-07-10          2016-07-01  "
      ]
     },
     "execution_count": 16,
     "metadata": {},
     "output_type": "execute_result"
    }
   ],
   "source": [
    "df = pd.DataFrame(obj)\n",
    "\n",
    "df = df.astype({\"value\": float})\n",
    "df['creation_date'] = pd.to_datetime(df['creation_date'].str[:-6])\n",
    "df['start_date'] = pd.to_datetime(df['start_date'].str[:-6])\n",
    "df['end_date'] = pd.to_datetime(df['end_date'].str[:-6])\n",
    "df['creation_dt'] = df['creation_date'].dt.to_period('D').dt.to_timestamp()\n",
    "df['creation_date_month'] = df['creation_date'].dt.to_period('M').dt.to_timestamp()\n",
    "df.head()\n",
    "# df[df['record_type']=='FlightsClimbed']"
   ]
  },
  {
   "cell_type": "code",
   "execution_count": 17,
   "metadata": {},
   "outputs": [
    {
     "data": {
      "text/html": [
       "<div>\n",
       "<style scoped>\n",
       "    .dataframe tbody tr th:only-of-type {\n",
       "        vertical-align: middle;\n",
       "    }\n",
       "\n",
       "    .dataframe tbody tr th {\n",
       "        vertical-align: top;\n",
       "    }\n",
       "\n",
       "    .dataframe thead th {\n",
       "        text-align: right;\n",
       "    }\n",
       "</style>\n",
       "<table border=\"1\" class=\"dataframe\">\n",
       "  <thead>\n",
       "    <tr style=\"text-align: right;\">\n",
       "      <th></th>\n",
       "      <th>steps</th>\n",
       "      <th>steps_meter</th>\n",
       "      <th>cumulative_steps</th>\n",
       "      <th>cumulative_steps_meter</th>\n",
       "    </tr>\n",
       "    <tr>\n",
       "      <th>creation_dt</th>\n",
       "      <th></th>\n",
       "      <th></th>\n",
       "      <th></th>\n",
       "      <th></th>\n",
       "    </tr>\n",
       "  </thead>\n",
       "  <tbody>\n",
       "    <tr>\n",
       "      <th>2019-01-01</th>\n",
       "      <td>5.0</td>\n",
       "      <td>15.240</td>\n",
       "      <td>5.0</td>\n",
       "      <td>15.240</td>\n",
       "    </tr>\n",
       "    <tr>\n",
       "      <th>2019-01-02</th>\n",
       "      <td>47.0</td>\n",
       "      <td>143.256</td>\n",
       "      <td>52.0</td>\n",
       "      <td>158.496</td>\n",
       "    </tr>\n",
       "    <tr>\n",
       "      <th>2019-01-03</th>\n",
       "      <td>25.0</td>\n",
       "      <td>76.200</td>\n",
       "      <td>77.0</td>\n",
       "      <td>234.696</td>\n",
       "    </tr>\n",
       "    <tr>\n",
       "      <th>2019-01-04</th>\n",
       "      <td>29.0</td>\n",
       "      <td>88.392</td>\n",
       "      <td>106.0</td>\n",
       "      <td>323.088</td>\n",
       "    </tr>\n",
       "    <tr>\n",
       "      <th>2019-01-05</th>\n",
       "      <td>6.0</td>\n",
       "      <td>18.288</td>\n",
       "      <td>112.0</td>\n",
       "      <td>341.376</td>\n",
       "    </tr>\n",
       "  </tbody>\n",
       "</table>\n",
       "</div>"
      ],
      "text/plain": [
       "             steps  steps_meter  cumulative_steps  cumulative_steps_meter\n",
       "creation_dt                                                              \n",
       "2019-01-01     5.0       15.240               5.0                  15.240\n",
       "2019-01-02    47.0      143.256              52.0                 158.496\n",
       "2019-01-03    25.0       76.200              77.0                 234.696\n",
       "2019-01-04    29.0       88.392             106.0                 323.088\n",
       "2019-01-05     6.0       18.288             112.0                 341.376"
      ]
     },
     "execution_count": 17,
     "metadata": {},
     "output_type": "execute_result"
    }
   ],
   "source": [
    "df = df[(df['record_type'] == 'FlightsClimbed') & (df['creation_dt'] > '2018-12-31') & (df['creation_dt'] < '2019-06-01')]\n",
    "df = df.groupby(['creation_dt'])[['value']].sum()\n",
    "df = df.rename(columns={\"value\": \"steps\"})\n",
    "\n",
    "# A flight of stairs is approximately 10 feet (3 meters, 3.048)\n",
    "df['steps_meter'] = df['steps']*3.048\n",
    "df['cumulative_steps'] = df['steps'].cumsum()\n",
    "df['cumulative_steps_meter'] = df['cumulative_steps']*3.048\n",
    "\n",
    "df.head()"
   ]
  },
  {
   "cell_type": "code",
   "execution_count": 18,
   "metadata": {},
   "outputs": [],
   "source": [
    "# everest\n",
    "df.loc[(df.cumulative_steps_meter > 8848), 'everest'] = df['cumulative_steps_meter']\n",
    "df.loc[(df.everest > df.everest.min()), 'everest'] = np.nan\n",
    "\n",
    "# kilimanjaro\n",
    "df.loc[(df.cumulative_steps_meter > 5895), 'kilimanjaro'] = df['cumulative_steps_meter']\n",
    "df.loc[(df.kilimanjaro > df.kilimanjaro.min()), 'kilimanjaro'] = np.nan\n",
    "\n",
    "# mont_blanc\n",
    "df.loc[(df.cumulative_steps_meter > 4810), 'mont_blanc'] = df['cumulative_steps_meter']\n",
    "df.loc[(df.mont_blanc > df.mont_blanc.min()), 'mont_blanc'] = np.nan\n",
    "\n",
    "# mount_elbrus\n",
    "df.loc[(df.cumulative_steps_meter > 5642), 'mount_elbrus'] = df['cumulative_steps_meter']\n",
    "df.loc[(df.mount_elbrus > df.mount_elbrus.min()), 'mount_elbrus'] = np.nan\n",
    "\n",
    "# burj_khalifa\n",
    "df.loc[(df.cumulative_steps_meter > 828), 'burj_khalifa'] = df['cumulative_steps_meter']\n",
    "df.loc[(df.burj_khalifa > df.burj_khalifa.min()), 'burj_khalifa'] = np.nan\n",
    "\n",
    "# commercial airplane\n",
    "df.loc[(df.cumulative_steps_meter > 10600), 'plane'] = df['cumulative_steps_meter']\n",
    "df.loc[(df.plane > df.plane.min()), 'plane'] = np.nan\n",
    "\n",
    "# df"
   ]
  },
  {
   "cell_type": "code",
   "execution_count": 19,
   "metadata": {
    "scrolled": false
   },
   "outputs": [
    {
     "data": {
      "image/png": "[encoded data removed]",
      "text/plain": [
       "<Figure size 1080x360 with 1 Axes>"
      ]
     },
     "metadata": {
      "needs_background": "light"
     },
     "output_type": "display_data"
    }
   ],
   "source": [
    "months = mdates.MonthLocator()\n",
    "\n",
    "fig,ax = plt.subplots(figsize = (15, 5))\n",
    "\n",
    "plt.gca().xaxis.set_major_locator(months)\n",
    "plt.gca().xaxis.set_major_formatter(mdates.DateFormatter('%b %Y'))\n",
    "\n",
    "plt.xlim([datetime.date(2018, 12, 31), datetime.date(2019, 6, 1)])\n",
    "plt.ylim(0,160)\n",
    "\n",
    "plt.grid(b=None, which='major', axis='y', linestyle='-', color='#FFFFFF')\n",
    "plt.bar(df.index, df['steps_meter'])\n",
    "\n",
    "ax.spines['top'].set_visible(False)\n",
    "ax.spines['right'].set_visible(False)\n",
    "\n",
    "plt.savefig('flights_climbed_timeline.svg', dpi= 192, bbox_inches='tight')\n",
    "plt.show()"
   ]
  },
  {
   "cell_type": "code",
   "execution_count": 20,
   "metadata": {},
   "outputs": [
    {
     "data": {
      "image/png": "[encoded data removed]",
      "text/plain": [
       "<Figure size 720x720 with 1 Axes>"
      ]
     },
     "metadata": {
      "needs_background": "light"
     },
     "output_type": "display_data"
    }
   ],
   "source": [
    "fig,ax = plt.subplots(figsize = (10, 10))\n",
    "\n",
    "plt.gca().xaxis.set_major_locator(months)\n",
    "plt.gca().xaxis.set_major_formatter(mdates.DateFormatter('%b %Y'))\n",
    "\n",
    "plt.xlim([datetime.date(2019, 1, 1), datetime.date(2019, 6, 2)])\n",
    "plt.ylim(-1, 12000)\n",
    "\n",
    "plt.plot(df.index, df['cumulative_steps_meter'], color='#ff7f0e', linewidth=2)\n",
    "plt.plot(df.index, df['everest'], color='red', linewidth=2, marker='o')\n",
    "plt.plot(df.index, df['burj_khalifa'], color='red', marker='o')\n",
    "plt.plot(df.index, df['kilimanjaro'], color='red', marker='o')\n",
    "plt.plot(df.index, df['mont_blanc'], color='red', marker='o')\n",
    "plt.plot(df.index, df['plane'], color='red', marker='o')\n",
    "\n",
    "\n",
    "plt.text(.69, .742, 'Mount Everest 8848m', ha='right', va='center', transform=ax.transAxes)\n",
    "plt.text(.464, .492, 'Mount Kilimanjaro 5895m', ha='right', va='center', transform=ax.transAxes)\n",
    "plt.text(.425, .4, 'Mont Blanc 4810m', ha='left', va='center', transform=ax.transAxes)\n",
    "plt.text(.1, .07, 'Burj Khalifa 828m', ha='left', va='center', transform=ax.transAxes)\n",
    "plt.text(.71, .89, 'Commercial airplane altitude 10700m', ha='center', va='center', transform=ax.transAxes)\n",
    "\n",
    "plt.grid(which='major', color='#F0F0F0', axis='both')\n",
    "\n",
    "# plt.axis('off')\n",
    "# ax.get_xaxis().set_visible(False)\n",
    "# ax.get_yaxis().set_visible(False)\n",
    "# plt.xticks([])\n",
    "# plt.yticks([])\n",
    "ax.tick_params(axis=u'both', which=u'both',length=4, color='#F0F0F0')\n",
    "ax.spines['top'].set_visible(False)\n",
    "ax.spines['right'].set_visible(False)\n",
    "ax.spines['bottom'].set_color('#F0F0F0')\n",
    "ax.spines['left'].set_visible(False)\n",
    "\n",
    "plt.savefig('flights_climbed_progress.svg', dpi= 192, bbox_inches='tight')\n",
    "plt.show()"
   ]
  },
  {
   "cell_type": "code",
   "execution_count": 21,
   "metadata": {},
   "outputs": [
    {
     "data": {
      "image/png": "[encoded data removed]",
      "text/plain": [
       "<Figure size 720x720 with 1 Axes>"
      ]
     },
     "metadata": {},
     "output_type": "display_data"
    }
   ],
   "source": [
    "fig,ax = plt.subplots(figsize = (10, 10))\n",
    "\n",
    "plt.gca().xaxis.set_major_locator(months)\n",
    "plt.gca().xaxis.set_major_formatter(mdates.DateFormatter('%b %Y'))\n",
    "\n",
    "plt.xlim([datetime.date(2019, 1, 1), datetime.date(2019, 6, 2)])\n",
    "plt.ylim(-1, 12000)\n",
    "\n",
    "plt.plot(df.index, df['cumulative_steps_meter'], color='#ff7f0e', linewidth=2)\n",
    "plt.plot(df.index, df['everest'], color='red', linewidth=2, marker='o')\n",
    "plt.plot(df.index, df['burj_khalifa'], color='red', marker='o')\n",
    "plt.plot(df.index, df['kilimanjaro'], color='red', marker='o')\n",
    "plt.plot(df.index, df['mont_blanc'], color='red', marker='o')\n",
    "plt.plot(df.index, df['plane'], color='red', marker='o')\n",
    "\n",
    "\n",
    "plt.text(.69, .742, 'Mount Everest 8848m', ha='right', va='center', transform=ax.transAxes)\n",
    "plt.text(.464, .492, 'Mount Kilimanjaro 5895m', ha='right', va='center', transform=ax.transAxes)\n",
    "plt.text(.425, .4, 'Mont Blanc 4810m', ha='left', va='center', transform=ax.transAxes)\n",
    "plt.text(.1, .07, 'Burj Khalifa 828m', ha='left', va='center', transform=ax.transAxes)\n",
    "plt.text(.71, .89, 'Commercial airplane altitude 10700m', ha='center', va='center', transform=ax.transAxes)\n",
    "\n",
    "plt.grid(which='major', color='#F0F0F0', axis='both')\n",
    "\n",
    "plt.axis('off')\n",
    "ax.get_xaxis().set_visible(False)\n",
    "ax.get_yaxis().set_visible(False)\n",
    "plt.xticks([])\n",
    "plt.yticks([])\n",
    "ax.tick_params(axis=u'both', which=u'both',length=4, color='#F0F0F0')\n",
    "ax.spines['top'].set_visible(False)\n",
    "ax.spines['right'].set_visible(False)\n",
    "ax.spines['bottom'].set_color('#F0F0F0')\n",
    "ax.spines['left'].set_visible(False)\n",
    "\n",
    "plt.savefig('flights_climbed_progress_2.svg', dpi= 192, bbox_inches='tight')\n",
    "plt.show()"
   ]
  },
  {
   "cell_type": "code",
   "execution_count": null,
   "metadata": {},
   "outputs": [],
   "source": []
  }
 ],
 "metadata": {
  "kernelspec": {
   "display_name": "Python 3",
   "language": "python",
   "name": "python3"
  },
  "language_info": {
   "codemirror_mode": {
    "name": "ipython",
    "version": 3
   },
   "file_extension": ".py",
   "mimetype": "text/x-python",
   "name": "python",
   "nbconvert_exporter": "python",
   "pygments_lexer": "ipython3",
   "version": "3.7.3"
  }
 },
 "nbformat": 4,
 "nbformat_minor": 2
}
