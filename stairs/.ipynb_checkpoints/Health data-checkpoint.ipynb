{
 "cells": [
  {
   "cell_type": "code",
   "execution_count": 25,
   "metadata": {},
   "outputs": [
    {
     "name": "stdout",
     "output_type": "stream",
     "text": [
      "46599\n"
     ]
    }
   ],
   "source": [
    "from xml.dom import minidom\n",
    "\n",
    "f = minidom.parse('healt_data.xml')\n",
    "itemlist = f.getElementsByTagName('Record')\n",
    "\n",
    "print(len(itemlist))"
   ]
  },
  {
   "cell_type": "code",
   "execution_count": 24,
   "metadata": {},
   "outputs": [
    {
     "name": "stdout",
     "output_type": "stream",
     "text": [
      "OrderedDict([('record_type', 'HKQuantityTypeIdentifierFlightsClimbed'), ('unit', 'count'), ('creation_date', '2019-03-07 09:31:32 +0200'), ('start_date', '2019-03-07 09:19:59 +0200'), ('end_date', '2019-03-07 09:21:17 +0200'), ('value', '5')])\n"
     ]
    }
   ],
   "source": [
    "record_type = ()\n",
    "unit = ()\n",
    "\n",
    "for item in itemlist:\n",
    "    #print(item.attributes['type'].value)\n",
    "    data['record_type'] = item.attributes['type'].value\n",
    "    data['unit'] = item.attributes['unit'].value\n",
    "    data['creation_date'] = item.attributes['creationDate'].value\n",
    "    data['start_date'] = item.attributes['startDate'].value\n",
    "    data['end_date'] = item.attributes['endDate'].value\n",
    "    data['value'] = item.attributes['value'].value\n",
    "    \n",
    "print(data)"
   ]
  },
  {
   "cell_type": "code",
   "execution_count": null,
   "metadata": {},
   "outputs": [],
   "source": []
  },
  {
   "cell_type": "code",
   "execution_count": null,
   "metadata": {},
   "outputs": [],
   "source": []
  }
 ],
 "metadata": {
  "kernelspec": {
   "display_name": "Python 3",
   "language": "python",
   "name": "python3"
  },
  "language_info": {
   "codemirror_mode": {
    "name": "ipython",
    "version": 3
   },
   "file_extension": ".py",
   "mimetype": "text/x-python",
   "name": "python",
   "nbconvert_exporter": "python",
   "pygments_lexer": "ipython3",
   "version": "3.7.1"
  }
 },
 "nbformat": 4,
 "nbformat_minor": 2
}
