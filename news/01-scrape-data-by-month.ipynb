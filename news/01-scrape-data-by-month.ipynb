{
 "cells": [
  {
   "cell_type": "markdown",
   "metadata": {},
   "source": [
    "https://www.err.ee/uudised"
   ]
  },
  {
   "cell_type": "code",
   "execution_count": 1,
   "metadata": {},
   "outputs": [],
   "source": [
    "import pandas as pd\n",
    "import numpy as np\n",
    "import requests\n",
    "from bs4 import BeautifulSoup\n",
    "import json\n",
    "import calendar\n",
    "import datetime"
   ]
  },
  {
   "cell_type": "code",
   "execution_count": 2,
   "metadata": {},
   "outputs": [],
   "source": [
    "headers = requests.utils.default_headers()\n",
    "headers.update({'User-Agent': 'Mozilla/5.0 (X11; Ubuntu; Linux x86_64; rv:52.0) Gecko/20100101 Firefox/52.0'})"
   ]
  },
  {
   "cell_type": "code",
   "execution_count": 3,
   "metadata": {},
   "outputs": [
    {
     "data": {
      "text/html": [
       "<div>\n",
       "<style scoped>\n",
       "    .dataframe tbody tr th:only-of-type {\n",
       "        vertical-align: middle;\n",
       "    }\n",
       "\n",
       "    .dataframe tbody tr th {\n",
       "        vertical-align: top;\n",
       "    }\n",
       "\n",
       "    .dataframe thead th {\n",
       "        text-align: right;\n",
       "    }\n",
       "</style>\n",
       "<table border=\"1\" class=\"dataframe\">\n",
       "  <thead>\n",
       "    <tr style=\"text-align: right;\">\n",
       "      <th></th>\n",
       "      <th>id</th>\n",
       "      <th>heading</th>\n",
       "      <th>lead</th>\n",
       "      <th>publishDate</th>\n",
       "      <th>updatedDate</th>\n",
       "      <th>categoryName</th>\n",
       "      <th>isPodcast</th>\n",
       "      <th>lang</th>\n",
       "      <th>url</th>\n",
       "    </tr>\n",
       "  </thead>\n",
       "  <tbody>\n",
       "  </tbody>\n",
       "</table>\n",
       "</div>"
      ],
      "text/plain": [
       "Empty DataFrame\n",
       "Columns: [id, heading, lead, publishDate, updatedDate, categoryName, isPodcast, lang, url]\n",
       "Index: []"
      ]
     },
     "execution_count": 3,
     "metadata": {},
     "output_type": "execute_result"
    }
   ],
   "source": [
    "col_names = ['id', 'heading', 'lead', 'publishDate', 'updatedDate', 'categoryName', 'isPodcast', 'lang', 'url']\n",
    "df = pd.DataFrame(columns=col_names)\n",
    "df"
   ]
  },
  {
   "cell_type": "code",
   "execution_count": 4,
   "metadata": {},
   "outputs": [],
   "source": [
    "year = 2021\n",
    "month = 12\n",
    "\n",
    "start_dates = pd.date_range(start=datetime.date(year, month, 1), \n",
    "                            end=datetime.date(year, month, calendar.monthrange(year, month)[1]))\n",
    "\n",
    "end_dates = start_dates + pd.DateOffset(1)"
   ]
  },
  {
   "cell_type": "markdown",
   "metadata": {},
   "source": [
    "# Scrape article meta info"
   ]
  },
  {
   "cell_type": "code",
   "execution_count": 5,
   "metadata": {
    "scrolled": true
   },
   "outputs": [],
   "source": [
    "def fetch_content(start_date, end_date):\n",
    "    url = f'https://www.err.ee/api/category/latest/109?from={start_date}&to={end_date}&limit=500'\n",
    "    req = requests.get(url, headers)\n",
    "    soup = BeautifulSoup(req.content, 'html.parser')\n",
    "    content_json = json.loads(soup.text)\n",
    "    return content_json"
   ]
  },
  {
   "cell_type": "code",
   "execution_count": 6,
   "metadata": {
    "scrolled": true
   },
   "outputs": [],
   "source": [
    "for s, e in zip(start_dates, end_dates):\n",
    "    start_date = s.strftime('%d.%m.%Y')\n",
    "    end_date = e.strftime('%d.%m.%Y')\n",
    "    content_json = fetch_content(start_date, end_date)\n",
    "    \n",
    "    for content in content_json:\n",
    "        values = [content['id'], \n",
    "                  content['heading'],\n",
    "                  content['lead'],\n",
    "                  pd.to_datetime(content['publicStart'], unit='s'),\n",
    "                  pd.to_datetime(content['updated'], unit='s'),\n",
    "                  content['primaryCategory']['name'],\n",
    "                  content['primaryCategory']['isPodcast'],\n",
    "                  content['primaryCategory']['lang'],\n",
    "                  content['canonicalUrl']\n",
    "                 ]\n",
    "        data = dict(zip(df.columns, values))\n",
    "        df = df.append(data, ignore_index=True)"
   ]
  },
  {
   "cell_type": "code",
   "execution_count": 7,
   "metadata": {},
   "outputs": [
    {
     "name": "stdout",
     "output_type": "stream",
     "text": [
      "<class 'pandas.core.frame.DataFrame'>\n",
      "RangeIndex: 3462 entries, 0 to 3461\n",
      "Data columns (total 9 columns):\n",
      " #   Column        Non-Null Count  Dtype         \n",
      "---  ------        --------------  -----         \n",
      " 0   id            3462 non-null   object        \n",
      " 1   heading       3462 non-null   object        \n",
      " 2   lead          3462 non-null   object        \n",
      " 3   publishDate   3462 non-null   datetime64[ns]\n",
      " 4   updatedDate   3462 non-null   datetime64[ns]\n",
      " 5   categoryName  3462 non-null   object        \n",
      " 6   isPodcast     3462 non-null   object        \n",
      " 7   lang          3462 non-null   object        \n",
      " 8   url           3462 non-null   object        \n",
      "dtypes: datetime64[ns](2), object(7)\n",
      "memory usage: 243.5+ KB\n"
     ]
    }
   ],
   "source": [
    "df.info()"
   ]
  },
  {
   "cell_type": "markdown",
   "metadata": {},
   "source": [
    "# Scrape article text"
   ]
  },
  {
   "cell_type": "code",
   "execution_count": 8,
   "metadata": {},
   "outputs": [],
   "source": [
    "def fetch_article_bodytext(url):\n",
    "    try:\n",
    "        req = requests.get(url, headers)\n",
    "        soup = BeautifulSoup(req.content, 'html.parser')\n",
    "        body = soup.find('div', {'class':'text'}).text.strip()\n",
    "        return body\n",
    "    except:\n",
    "        return 'Something went wrong'"
   ]
  },
  {
   "cell_type": "code",
   "execution_count": 9,
   "metadata": {},
   "outputs": [],
   "source": [
    "# df['articleBody'] = df['url'].apply(fetch_article_bodytext)"
   ]
  },
  {
   "cell_type": "code",
   "execution_count": 10,
   "metadata": {
    "scrolled": true
   },
   "outputs": [],
   "source": [
    "urls = list(df['url'])\n",
    "texts = []\n",
    "\n",
    "for u in urls:\n",
    "    texts.append(fetch_article_bodytext(u))\n",
    "    now = datetime.datetime.now().strftime(format='%H:%M:%S')\n",
    "    percent = round(len(texts)/len(urls)*100, 4)\n",
    "#     print(f'{now} {len(texts)}/{len(urls)} {percent}%')\n",
    "    \n",
    "df['articleText'] = texts"
   ]
  },
  {
   "cell_type": "code",
   "execution_count": 11,
   "metadata": {},
   "outputs": [
    {
     "name": "stdout",
     "output_type": "stream",
     "text": [
      "<class 'pandas.core.frame.DataFrame'>\n",
      "RangeIndex: 3462 entries, 0 to 3461\n",
      "Data columns (total 10 columns):\n",
      " #   Column        Non-Null Count  Dtype         \n",
      "---  ------        --------------  -----         \n",
      " 0   id            3462 non-null   object        \n",
      " 1   heading       3462 non-null   object        \n",
      " 2   lead          3462 non-null   object        \n",
      " 3   publishDate   3462 non-null   datetime64[ns]\n",
      " 4   updatedDate   3462 non-null   datetime64[ns]\n",
      " 5   categoryName  3462 non-null   object        \n",
      " 6   isPodcast     3462 non-null   object        \n",
      " 7   lang          3462 non-null   object        \n",
      " 8   url           3462 non-null   object        \n",
      " 9   articleText   3462 non-null   object        \n",
      "dtypes: datetime64[ns](2), object(8)\n",
      "memory usage: 270.6+ KB\n"
     ]
    }
   ],
   "source": [
    "df.info()"
   ]
  },
  {
   "cell_type": "code",
   "execution_count": 12,
   "metadata": {},
   "outputs": [],
   "source": [
    "df.to_csv(f'data/news-{year}-{month:02d}.csv', index=False)"
   ]
  }
 ],
 "metadata": {
  "kernelspec": {
   "display_name": "Python 3 (ipykernel)",
   "language": "python",
   "name": "python3"
  },
  "language_info": {
   "codemirror_mode": {
    "name": "ipython",
    "version": 3
   },
   "file_extension": ".py",
   "mimetype": "text/x-python",
   "name": "python",
   "nbconvert_exporter": "python",
   "pygments_lexer": "ipython3",
   "version": "3.9.7"
  }
 },
 "nbformat": 4,
 "nbformat_minor": 4
}
