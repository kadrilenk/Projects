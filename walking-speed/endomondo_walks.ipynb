{
 "cells": [
  {
   "cell_type": "code",
   "execution_count": 1,
   "metadata": {},
   "outputs": [],
   "source": [
    "import os, json\n",
    "import numpy as np\n",
    "import pandas as pd\n",
    "import datetime as dt\n",
    "import matplotlib.pyplot as plt"
   ]
  },
  {
   "cell_type": "markdown",
   "metadata": {},
   "source": [
    "# Reading and cleaning the data"
   ]
  },
  {
   "cell_type": "markdown",
   "metadata": {},
   "source": [
    "To extract the data from the Endomondo export, I first create a list of all workout files."
   ]
  },
  {
   "cell_type": "code",
   "execution_count": 2,
   "metadata": {},
   "outputs": [],
   "source": [
    "path_to_json = 'workouts/'\n",
    "json_files = [pos_json for pos_json in os.listdir(path_to_json) if pos_json.endswith('.json')]"
   ]
  },
  {
   "cell_type": "markdown",
   "metadata": {},
   "source": [
    "Then, from each file, I extract the data I need and append it to a list, so every list item is a json."
   ]
  },
  {
   "cell_type": "code",
   "execution_count": 3,
   "metadata": {},
   "outputs": [],
   "source": [
    "data = []\n",
    "\n",
    "for f in json_files:\n",
    "    with open('workouts/'+f) as json_file:\n",
    "        json_data = json.load(json_file)\n",
    "\n",
    "        d = {}\n",
    "        for j in json_data:\n",
    "            d.update(dict(j))\n",
    "\n",
    "        if d['sport'] == 'WALKING':\n",
    "            data.append(d)"
   ]
  },
  {
   "cell_type": "markdown",
   "metadata": {},
   "source": [
    "Then I can use the list of jsons to create a data frame."
   ]
  },
  {
   "cell_type": "code",
   "execution_count": 4,
   "metadata": {},
   "outputs": [],
   "source": [
    "df = pd.DataFrame(data)\n",
    "df = df[['start_time', 'distance_km', 'duration_s', 'speed_avg_kmh']]"
   ]
  },
  {
   "cell_type": "markdown",
   "metadata": {},
   "source": [
    "Fixing some data type and unit tings."
   ]
  },
  {
   "cell_type": "code",
   "execution_count": 5,
   "metadata": {},
   "outputs": [
    {
     "data": {
      "text/html": [
       "<div>\n",
       "<style scoped>\n",
       "    .dataframe tbody tr th:only-of-type {\n",
       "        vertical-align: middle;\n",
       "    }\n",
       "\n",
       "    .dataframe tbody tr th {\n",
       "        vertical-align: top;\n",
       "    }\n",
       "\n",
       "    .dataframe thead th {\n",
       "        text-align: right;\n",
       "    }\n",
       "</style>\n",
       "<table border=\"1\" class=\"dataframe\">\n",
       "  <thead>\n",
       "    <tr style=\"text-align: right;\">\n",
       "      <th></th>\n",
       "      <th>start_time</th>\n",
       "      <th>distance_km</th>\n",
       "      <th>duration_s</th>\n",
       "      <th>speed_avg_kmh</th>\n",
       "      <th>duration_min</th>\n",
       "    </tr>\n",
       "  </thead>\n",
       "  <tbody>\n",
       "    <tr>\n",
       "      <th>0</th>\n",
       "      <td>2020-03-13</td>\n",
       "      <td>1.179</td>\n",
       "      <td>681.77</td>\n",
       "      <td>6.225560</td>\n",
       "      <td>11.362833</td>\n",
       "    </tr>\n",
       "    <tr>\n",
       "      <th>1</th>\n",
       "      <td>2017-04-29</td>\n",
       "      <td>6.504</td>\n",
       "      <td>3686.43</td>\n",
       "      <td>6.351511</td>\n",
       "      <td>61.440500</td>\n",
       "    </tr>\n",
       "    <tr>\n",
       "      <th>2</th>\n",
       "      <td>2017-05-15</td>\n",
       "      <td>2.195</td>\n",
       "      <td>1458.99</td>\n",
       "      <td>5.416075</td>\n",
       "      <td>24.316500</td>\n",
       "    </tr>\n",
       "    <tr>\n",
       "      <th>3</th>\n",
       "      <td>2017-10-09</td>\n",
       "      <td>3.599</td>\n",
       "      <td>2351.28</td>\n",
       "      <td>5.510360</td>\n",
       "      <td>39.188000</td>\n",
       "    </tr>\n",
       "    <tr>\n",
       "      <th>4</th>\n",
       "      <td>2017-10-11</td>\n",
       "      <td>2.388</td>\n",
       "      <td>1517.30</td>\n",
       "      <td>5.665854</td>\n",
       "      <td>25.288333</td>\n",
       "    </tr>\n",
       "  </tbody>\n",
       "</table>\n",
       "</div>"
      ],
      "text/plain": [
       "  start_time  distance_km  duration_s  speed_avg_kmh  duration_min\n",
       "0 2020-03-13        1.179      681.77       6.225560     11.362833\n",
       "1 2017-04-29        6.504     3686.43       6.351511     61.440500\n",
       "2 2017-05-15        2.195     1458.99       5.416075     24.316500\n",
       "3 2017-10-09        3.599     2351.28       5.510360     39.188000\n",
       "4 2017-10-11        2.388     1517.30       5.665854     25.288333"
      ]
     },
     "execution_count": 5,
     "metadata": {},
     "output_type": "execute_result"
    }
   ],
   "source": [
    "df['start_time'] = pd.to_datetime(df['start_time'], format='%Y/%m/%d').dt.normalize()\n",
    "df['duration_min'] = df['duration_s'] / 60\n",
    "df.head()"
   ]
  },
  {
   "cell_type": "markdown",
   "metadata": {},
   "source": [
    "Since I only need data from Feb and March 2020, I filter out the rest."
   ]
  },
  {
   "cell_type": "code",
   "execution_count": 6,
   "metadata": {},
   "outputs": [
    {
     "name": "stdout",
     "output_type": "stream",
     "text": [
      "number of datapoints: 38\n"
     ]
    }
   ],
   "source": [
    "df = df[df['start_time']>='2020-02-01'].sort_values(by='start_time')\n",
    "df.reset_index(inplace=True, drop=True)\n",
    "print(f'number of datapoints: {len(df)}')"
   ]
  },
  {
   "cell_type": "markdown",
   "metadata": {},
   "source": [
    "# Analysis"
   ]
  },
  {
   "cell_type": "markdown",
   "metadata": {},
   "source": [
    "Since I'm mainly interested in average walking speed, let's see its descriptive statistics."
   ]
  },
  {
   "cell_type": "code",
   "execution_count": 7,
   "metadata": {},
   "outputs": [
    {
     "data": {
      "text/html": [
       "<div>\n",
       "<style scoped>\n",
       "    .dataframe tbody tr th:only-of-type {\n",
       "        vertical-align: middle;\n",
       "    }\n",
       "\n",
       "    .dataframe tbody tr th {\n",
       "        vertical-align: top;\n",
       "    }\n",
       "\n",
       "    .dataframe thead th {\n",
       "        text-align: right;\n",
       "    }\n",
       "</style>\n",
       "<table border=\"1\" class=\"dataframe\">\n",
       "  <thead>\n",
       "    <tr style=\"text-align: right;\">\n",
       "      <th></th>\n",
       "      <th>speed_avg_kmh</th>\n",
       "    </tr>\n",
       "  </thead>\n",
       "  <tbody>\n",
       "    <tr>\n",
       "      <th>count</th>\n",
       "      <td>38.000000</td>\n",
       "    </tr>\n",
       "    <tr>\n",
       "      <th>mean</th>\n",
       "      <td>6.026441</td>\n",
       "    </tr>\n",
       "    <tr>\n",
       "      <th>std</th>\n",
       "      <td>0.297371</td>\n",
       "    </tr>\n",
       "    <tr>\n",
       "      <th>min</th>\n",
       "      <td>5.535161</td>\n",
       "    </tr>\n",
       "    <tr>\n",
       "      <th>25%</th>\n",
       "      <td>5.780796</td>\n",
       "    </tr>\n",
       "    <tr>\n",
       "      <th>50%</th>\n",
       "      <td>6.038148</td>\n",
       "    </tr>\n",
       "    <tr>\n",
       "      <th>75%</th>\n",
       "      <td>6.219591</td>\n",
       "    </tr>\n",
       "    <tr>\n",
       "      <th>max</th>\n",
       "      <td>6.892989</td>\n",
       "    </tr>\n",
       "  </tbody>\n",
       "</table>\n",
       "</div>"
      ],
      "text/plain": [
       "       speed_avg_kmh\n",
       "count      38.000000\n",
       "mean        6.026441\n",
       "std         0.297371\n",
       "min         5.535161\n",
       "25%         5.780796\n",
       "50%         6.038148\n",
       "75%         6.219591\n",
       "max         6.892989"
      ]
     },
     "execution_count": 7,
     "metadata": {},
     "output_type": "execute_result"
    }
   ],
   "source": [
    "df[['speed_avg_kmh']].describe()"
   ]
  },
  {
   "cell_type": "markdown",
   "metadata": {},
   "source": [
    "Then, let's try to visualise the relationship between distance and duration in a scatter plot. We should see a nice linear correlation."
   ]
  },
  {
   "cell_type": "markdown",
   "metadata": {},
   "source": [
    "In order to draw the regression line, we need to calculate its formula."
   ]
  },
  {
   "cell_type": "code",
   "execution_count": 8,
   "metadata": {},
   "outputs": [],
   "source": [
    "from sklearn.linear_model import LinearRegression"
   ]
  },
  {
   "cell_type": "code",
   "execution_count": 9,
   "metadata": {},
   "outputs": [],
   "source": [
    "model = LinearRegression()"
   ]
  },
  {
   "cell_type": "code",
   "execution_count": 10,
   "metadata": {},
   "outputs": [],
   "source": [
    "x = df[['distance_km']]\n",
    "y = df[['duration_min']]\n",
    "model.fit(x, y)\n",
    "model = LinearRegression().fit(x, y)"
   ]
  },
  {
   "cell_type": "markdown",
   "metadata": {},
   "source": [
    "Now we can extract the y-intercept and the slop of the line."
   ]
  },
  {
   "cell_type": "code",
   "execution_count": 11,
   "metadata": {},
   "outputs": [
    {
     "name": "stdout",
     "output_type": "stream",
     "text": [
      "intercept: 0.3217424666737756\n",
      "slope: 9.779546814599154\n"
     ]
    }
   ],
   "source": [
    "intercept = model.intercept_[0]\n",
    "slope = model.coef_[0][0]\n",
    "\n",
    "print('intercept:', intercept)\n",
    "print('slope:', slope)"
   ]
  },
  {
   "cell_type": "markdown",
   "metadata": {},
   "source": [
    "And now finally to the visualisation."
   ]
  },
  {
   "cell_type": "code",
   "execution_count": 12,
   "metadata": {},
   "outputs": [
    {
     "data": {
      "image/png": "[encoded data removed]",
      "text/plain": [
       "<Figure size 504x504 with 1 Axes>"
      ]
     },
     "metadata": {
      "needs_background": "light"
     },
     "output_type": "display_data"
    }
   ],
   "source": [
    "fig,ax = plt.subplots(figsize = (7, 7))\n",
    "\n",
    "# plot the dots for scatter\n",
    "X = df[['distance_km']]\n",
    "Y = df[['duration_min']]\n",
    "plt.scatter(X, Y, s=100, alpha=.5, zorder=3)\n",
    "\n",
    "# plot the regression line\n",
    "x = np.linspace(np.min(X)-1, np.max(X)+1, 1000)\n",
    "y = intercept + slope * x\n",
    "plt.plot(x, y, linestyle='--', label='Regression Line', zorder=2)\n",
    "\n",
    "# tweaks\n",
    "ax.set_xlabel('distance km')\n",
    "ax.set_ylabel('duration min')\n",
    "ax.set_xlim(0, 3.5)\n",
    "ax.set_ylim(0, 35)\n",
    "plt.grid(which='major', zorder=0, color='#E8E8E8')\n",
    "\n",
    "# plt.savefig('scatter.png', bbox_inches='tight', dpi=200)\n",
    "\n",
    "plt.show()"
   ]
  },
  {
   "cell_type": "markdown",
   "metadata": {},
   "source": [
    "We already learned before that my average walking speed was 6.03 km/h. According to Google, the average walking speed is some 5.2 km/h. So how do I compare? Am I significantly faster than an average person? Let's do a t-test."
   ]
  },
  {
   "cell_type": "code",
   "execution_count": 13,
   "metadata": {},
   "outputs": [],
   "source": [
    "import scipy.stats"
   ]
  },
  {
   "cell_type": "code",
   "execution_count": 14,
   "metadata": {},
   "outputs": [
    {
     "data": {
      "text/plain": [
       "Ttest_1sampResult(statistic=17.1318870129101, pvalue=3.518159029717419e-19)"
      ]
     },
     "execution_count": 14,
     "metadata": {},
     "output_type": "execute_result"
    }
   ],
   "source": [
    "pop_mean = 5.2\n",
    "scipy.stats.ttest_1samp(df['speed_avg_kmh'], pop_mean)"
   ]
  },
  {
   "cell_type": "markdown",
   "metadata": {},
   "source": [
    "The p value is very very small, so we can conclude that I am faster than an averge person."
   ]
  }
 ],
 "metadata": {
  "kernelspec": {
   "display_name": "Python 3",
   "language": "python",
   "name": "python3"
  },
  "language_info": {
   "codemirror_mode": {
    "name": "ipython",
    "version": 3
   },
   "file_extension": ".py",
   "mimetype": "text/x-python",
   "name": "python",
   "nbconvert_exporter": "python",
   "pygments_lexer": "ipython3",
   "version": "3.7.3"
  }
 },
 "nbformat": 4,
 "nbformat_minor": 2
}
