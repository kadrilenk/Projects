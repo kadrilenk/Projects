{
 "cells": [
  {
   "cell_type": "code",
   "execution_count": 1,
   "metadata": {},
   "outputs": [],
   "source": [
    "import pandas as pd\n",
    "import numpy as np\n",
    "import re\n",
    "import operator\n",
    "import statsmodels.api as sm\n",
    "from sklearn.model_selection import train_test_split"
   ]
  },
  {
   "cell_type": "markdown",
   "metadata": {},
   "source": [
    "# Read in the data"
   ]
  },
  {
   "cell_type": "markdown",
   "metadata": {},
   "source": [
    "The data is stored in three different files so we need to read them in and merge them."
   ]
  },
  {
   "cell_type": "code",
   "execution_count": 2,
   "metadata": {},
   "outputs": [],
   "source": [
    "df_1 = pd.read_csv('avalik_1.csv', sep='\\t')\n",
    "df_2 = pd.read_csv('avalik_2.csv', sep='\\t')\n",
    "df_3 = pd.read_csv('avalik_3.csv', sep='\\t')"
   ]
  },
  {
   "cell_type": "code",
   "execution_count": 3,
   "metadata": {},
   "outputs": [],
   "source": [
    "df = df_1.append(df_2).append(df_3)\n",
    "df = df.drop_duplicates()"
   ]
  },
  {
   "cell_type": "code",
   "execution_count": 4,
   "metadata": {
    "scrolled": false
   },
   "outputs": [
    {
     "data": {
      "text/html": [
       "<div>\n",
       "<style scoped>\n",
       "    .dataframe tbody tr th:only-of-type {\n",
       "        vertical-align: middle;\n",
       "    }\n",
       "\n",
       "    .dataframe tbody tr th {\n",
       "        vertical-align: top;\n",
       "    }\n",
       "\n",
       "    .dataframe thead th {\n",
       "        text-align: right;\n",
       "    }\n",
       "</style>\n",
       "<table border=\"1\" class=\"dataframe\">\n",
       "  <thead>\n",
       "    <tr style=\"text-align: right;\">\n",
       "      <th></th>\n",
       "      <th>JuhtumId</th>\n",
       "      <th>ToimKpv</th>\n",
       "      <th>ToimKell</th>\n",
       "      <th>ToimNadalapaev</th>\n",
       "      <th>SyndmusLiik</th>\n",
       "      <th>SyndmusTaiendavStatLiik</th>\n",
       "      <th>Seadus</th>\n",
       "      <th>Paragrahv</th>\n",
       "      <th>ParagrahvTais</th>\n",
       "      <th>Loige</th>\n",
       "      <th>Kahjusumma</th>\n",
       "      <th>KohtLiik</th>\n",
       "      <th>MaakondNimetus</th>\n",
       "      <th>ValdLinnNimetus</th>\n",
       "      <th>KohtNimetus</th>\n",
       "      <th>Lest_X</th>\n",
       "      <th>Lest_Y</th>\n",
       "      <th>SyyteoLiik</th>\n",
       "    </tr>\n",
       "  </thead>\n",
       "  <tbody>\n",
       "    <tr>\n",
       "      <th>0</th>\n",
       "      <td>cf668bac-6136-18d8-83cf-eb3a78c60192</td>\n",
       "      <td>2020-09-24</td>\n",
       "      <td>02:11</td>\n",
       "      <td>Neljapäev</td>\n",
       "      <td>PISIVARGUS</td>\n",
       "      <td>NaN</td>\n",
       "      <td>Karistusseadustik</td>\n",
       "      <td>§ 218.</td>\n",
       "      <td>§ 218. Varavastane süütegu väheväärtusliku asj...</td>\n",
       "      <td>lg. 1.</td>\n",
       "      <td>0-499</td>\n",
       "      <td>AVALIK_KOHT,KAUPLUS</td>\n",
       "      <td>Harju maakond</td>\n",
       "      <td>Tallinn</td>\n",
       "      <td>Lasnamäe linnaosa</td>\n",
       "      <td>6587500-6587999</td>\n",
       "      <td>544500-544999</td>\n",
       "      <td>VT</td>\n",
       "    </tr>\n",
       "    <tr>\n",
       "      <th>1</th>\n",
       "      <td>cf668b84-6136-18d8-83cf-eb3a78c60192</td>\n",
       "      <td>2020-09-23</td>\n",
       "      <td>20:03</td>\n",
       "      <td>Kolmapäev</td>\n",
       "      <td>PISIVARGUS</td>\n",
       "      <td>NaN</td>\n",
       "      <td>Karistusseadustik</td>\n",
       "      <td>§ 218.</td>\n",
       "      <td>§ 218. Varavastane süütegu väheväärtusliku asj...</td>\n",
       "      <td>lg. 1.</td>\n",
       "      <td>0-499</td>\n",
       "      <td>AVALIK_KOHT,KAUPLUS</td>\n",
       "      <td>Harju maakond</td>\n",
       "      <td>Tallinn</td>\n",
       "      <td>Haabersti linnaosa</td>\n",
       "      <td>6587500-6587999</td>\n",
       "      <td>537000-537499</td>\n",
       "      <td>VT</td>\n",
       "    </tr>\n",
       "    <tr>\n",
       "      <th>2</th>\n",
       "      <td>961bedb4-606a-18d8-83cf-eb3a78c60192</td>\n",
       "      <td>2020-09-23</td>\n",
       "      <td>19:08</td>\n",
       "      <td>Kolmapäev</td>\n",
       "      <td>VARGUS</td>\n",
       "      <td>MUU_VARGUS</td>\n",
       "      <td>Karistusseadustik</td>\n",
       "      <td>§ 199.</td>\n",
       "      <td>§ 199. Vargus</td>\n",
       "      <td>lg. 2.</td>\n",
       "      <td>0-499</td>\n",
       "      <td>AVALIK_KOHT,KAUPLUS</td>\n",
       "      <td>Harju maakond</td>\n",
       "      <td>Tallinn</td>\n",
       "      <td>Mustamäe linnaosa</td>\n",
       "      <td>6585500-6585999</td>\n",
       "      <td>539000-539499</td>\n",
       "      <td>KT</td>\n",
       "    </tr>\n",
       "    <tr>\n",
       "      <th>3</th>\n",
       "      <td>961bed6e-606a-18d8-83cf-eb3a78c60192</td>\n",
       "      <td>2020-09-23</td>\n",
       "      <td>18:32</td>\n",
       "      <td>Kolmapäev</td>\n",
       "      <td>VARGUS</td>\n",
       "      <td>MOBIILTELEFONIVARGUS</td>\n",
       "      <td>Karistusseadustik</td>\n",
       "      <td>§ 199.</td>\n",
       "      <td>§ 199. Vargus</td>\n",
       "      <td>lg. 2.</td>\n",
       "      <td>500-4999</td>\n",
       "      <td>AVALIK_KOHT,SOOGIKOHT</td>\n",
       "      <td>Harju maakond</td>\n",
       "      <td>Tallinn</td>\n",
       "      <td>Põhja-Tallinna linnaosa</td>\n",
       "      <td>6589000-6589499</td>\n",
       "      <td>541000-541499</td>\n",
       "      <td>KT</td>\n",
       "    </tr>\n",
       "    <tr>\n",
       "      <th>4</th>\n",
       "      <td>961bed46-606a-18d8-83cf-eb3a78c60192</td>\n",
       "      <td>2020-09-23</td>\n",
       "      <td>17:55</td>\n",
       "      <td>Kolmapäev</td>\n",
       "      <td>JALGRATTA_MOPEEDI_VARGUS</td>\n",
       "      <td>JALGRATTAVARGUS</td>\n",
       "      <td>Karistusseadustik</td>\n",
       "      <td>§ 199.</td>\n",
       "      <td>§ 199. Vargus</td>\n",
       "      <td>lg. 1.</td>\n",
       "      <td>0-499</td>\n",
       "      <td>AVALIK_KOHT,TANAV_VALJAK</td>\n",
       "      <td>Harju maakond</td>\n",
       "      <td>Tallinn</td>\n",
       "      <td>Kesklinna linnaosa</td>\n",
       "      <td>6588500-6588999</td>\n",
       "      <td>542500-542999</td>\n",
       "      <td>KT</td>\n",
       "    </tr>\n",
       "  </tbody>\n",
       "</table>\n",
       "</div>"
      ],
      "text/plain": [
       "                               JuhtumId     ToimKpv ToimKell ToimNadalapaev  \\\n",
       "0  cf668bac-6136-18d8-83cf-eb3a78c60192  2020-09-24    02:11      Neljapäev   \n",
       "1  cf668b84-6136-18d8-83cf-eb3a78c60192  2020-09-23    20:03      Kolmapäev   \n",
       "2  961bedb4-606a-18d8-83cf-eb3a78c60192  2020-09-23    19:08      Kolmapäev   \n",
       "3  961bed6e-606a-18d8-83cf-eb3a78c60192  2020-09-23    18:32      Kolmapäev   \n",
       "4  961bed46-606a-18d8-83cf-eb3a78c60192  2020-09-23    17:55      Kolmapäev   \n",
       "\n",
       "                SyndmusLiik SyndmusTaiendavStatLiik             Seadus  \\\n",
       "0                PISIVARGUS                     NaN  Karistusseadustik   \n",
       "1                PISIVARGUS                     NaN  Karistusseadustik   \n",
       "2                    VARGUS              MUU_VARGUS  Karistusseadustik   \n",
       "3                    VARGUS    MOBIILTELEFONIVARGUS  Karistusseadustik   \n",
       "4  JALGRATTA_MOPEEDI_VARGUS         JALGRATTAVARGUS  Karistusseadustik   \n",
       "\n",
       "  Paragrahv                                      ParagrahvTais   Loige  \\\n",
       "0    § 218.  § 218. Varavastane süütegu väheväärtusliku asj...  lg. 1.   \n",
       "1    § 218.  § 218. Varavastane süütegu väheväärtusliku asj...  lg. 1.   \n",
       "2    § 199.                                      § 199. Vargus  lg. 2.   \n",
       "3    § 199.                                      § 199. Vargus  lg. 2.   \n",
       "4    § 199.                                      § 199. Vargus  lg. 1.   \n",
       "\n",
       "  Kahjusumma                  KohtLiik MaakondNimetus ValdLinnNimetus  \\\n",
       "0      0-499       AVALIK_KOHT,KAUPLUS  Harju maakond         Tallinn   \n",
       "1      0-499       AVALIK_KOHT,KAUPLUS  Harju maakond         Tallinn   \n",
       "2      0-499       AVALIK_KOHT,KAUPLUS  Harju maakond         Tallinn   \n",
       "3   500-4999     AVALIK_KOHT,SOOGIKOHT  Harju maakond         Tallinn   \n",
       "4      0-499  AVALIK_KOHT,TANAV_VALJAK  Harju maakond         Tallinn   \n",
       "\n",
       "               KohtNimetus           Lest_X         Lest_Y SyyteoLiik  \n",
       "0        Lasnamäe linnaosa  6587500-6587999  544500-544999         VT  \n",
       "1       Haabersti linnaosa  6587500-6587999  537000-537499         VT  \n",
       "2        Mustamäe linnaosa  6585500-6585999  539000-539499         KT  \n",
       "3  Põhja-Tallinna linnaosa  6589000-6589499  541000-541499         KT  \n",
       "4       Kesklinna linnaosa  6588500-6588999  542500-542999         KT  "
      ]
     },
     "execution_count": 4,
     "metadata": {},
     "output_type": "execute_result"
    }
   ],
   "source": [
    "df.head()"
   ]
  },
  {
   "cell_type": "markdown",
   "metadata": {},
   "source": [
    "# Cleaning the data"
   ]
  },
  {
   "cell_type": "markdown",
   "metadata": {},
   "source": [
    "Let's now prepare the data so that it will be useable for the regression model. It is also in Estonian so I will translate it as well (at least most of it)."
   ]
  },
  {
   "cell_type": "code",
   "execution_count": 5,
   "metadata": {},
   "outputs": [],
   "source": [
    "df['ToimKpv'] = pd.to_datetime(df['ToimKpv'])"
   ]
  },
  {
   "cell_type": "code",
   "execution_count": 6,
   "metadata": {},
   "outputs": [],
   "source": [
    "# only keep events in Tallinn\n",
    "df = df.loc[df['ValdLinnNimetus'].str.contains('Tallinn', regex=True, na=False)]\n",
    "# make sure 'linnaosa' (district) is also filled in\n",
    "df = df.loc[df['KohtNimetus'].str.contains('linnaosa', regex=True, na=False)]"
   ]
  },
  {
   "cell_type": "code",
   "execution_count": 7,
   "metadata": {},
   "outputs": [],
   "source": [
    "# keep only events connected to mobile phones\n",
    "df['is_mobile'] = np.where(df['SyndmusTaiendavStatLiik'].str.contains('MOBIIL', na=False), 1, 0)"
   ]
  },
  {
   "cell_type": "code",
   "execution_count": 8,
   "metadata": {},
   "outputs": [],
   "source": [
    "# keep only necessary columns and translate them\n",
    "df = df[['ToimKpv', 'ToimKell', 'ToimNadalapaev', 'KohtLiik', 'KohtNimetus', 'is_mobile']]\n",
    "df = df.rename(columns={'ToimKpv':'date', 'ToimKell':'time', 'ToimNadalapaev':'weekday', \n",
    "                        'KohtLiik':'place', 'KohtNimetus':'district'})"
   ]
  },
  {
   "cell_type": "code",
   "execution_count": 9,
   "metadata": {},
   "outputs": [],
   "source": [
    "# remove whitespace and empty values\n",
    "for col in ['weekday', 'place', 'district']:\n",
    "    df[col] = df[col].str.strip()\n",
    "df = df.dropna()"
   ]
  },
  {
   "cell_type": "code",
   "execution_count": 10,
   "metadata": {},
   "outputs": [],
   "source": [
    "# for 'place', remove too generic values like 'public place', 'street' and 'other'\n",
    "for value in ['AVALIK_KOHT', 'TANAV_VALJAK', 'MUU KOHT', 'MUU RUUM']:\n",
    "    df['place'] = df['place'].str.replace(value+',','')\n",
    "    df['place'] = df['place'].str.replace(','+value,'')"
   ]
  },
  {
   "cell_type": "code",
   "execution_count": 11,
   "metadata": {},
   "outputs": [],
   "source": [
    "# if there are multiple places separated by a comma, keep only the first one\n",
    "df['place'] = np.where(df['place'].str.contains(','),\n",
    "                       df['place'].str.extract('^(\\w+),')[0],\n",
    "                       df['place'])"
   ]
  },
  {
   "cell_type": "code",
   "execution_count": 12,
   "metadata": {},
   "outputs": [],
   "source": [
    "# translate weekdays\n",
    "df['weekday'] = df['weekday'].map({'Esmaspäev':'Mon', 'Teisipäev':'Tue', \n",
    "                                   'Kolmapäev':'Wed', 'Neljapäev':'Thu', \n",
    "                                   'Reede':'Fri', 'Laupäev':'Sat', 'Pühapäev':'Sun'})"
   ]
  },
  {
   "cell_type": "code",
   "execution_count": 13,
   "metadata": {},
   "outputs": [],
   "source": [
    "# extract season to be used by the model instead the specific month\n",
    "df['month'] = pd.to_datetime(df['date']).dt.month_name()\n",
    "df['season'] = df['month'].map({'December':'winter','January':'winter', 'February':'winter',\n",
    "                                'March':'spring', 'April':'spring', 'May':'spring',\n",
    "                                'June':'summer', 'July':'summer', 'August':'summer',\n",
    "                                'September':'autumn', 'October':'autumn', 'November':'autumn'})"
   ]
  },
  {
   "cell_type": "code",
   "execution_count": 14,
   "metadata": {
    "scrolled": true
   },
   "outputs": [],
   "source": [
    "# extract time of day\n",
    "df['hour'] = pd.to_datetime(df['time'], format='%H:%M').dt.hour\n",
    "df['timeofday'] = np.where((df['hour']>=6)&(df['hour']<=17),'day','night')\n",
    "df = df.drop(columns=['hour', 'time', 'month'])"
   ]
  },
  {
   "cell_type": "code",
   "execution_count": 15,
   "metadata": {},
   "outputs": [],
   "source": [
    "df = df.reset_index(drop=True)"
   ]
  },
  {
   "cell_type": "code",
   "execution_count": 16,
   "metadata": {},
   "outputs": [
    {
     "name": "stdout",
     "output_type": "stream",
     "text": [
      "63896\n"
     ]
    },
    {
     "data": {
      "text/html": [
       "<div>\n",
       "<style scoped>\n",
       "    .dataframe tbody tr th:only-of-type {\n",
       "        vertical-align: middle;\n",
       "    }\n",
       "\n",
       "    .dataframe tbody tr th {\n",
       "        vertical-align: top;\n",
       "    }\n",
       "\n",
       "    .dataframe thead th {\n",
       "        text-align: right;\n",
       "    }\n",
       "</style>\n",
       "<table border=\"1\" class=\"dataframe\">\n",
       "  <thead>\n",
       "    <tr style=\"text-align: right;\">\n",
       "      <th></th>\n",
       "      <th>date</th>\n",
       "      <th>weekday</th>\n",
       "      <th>place</th>\n",
       "      <th>district</th>\n",
       "      <th>is_mobile</th>\n",
       "      <th>season</th>\n",
       "      <th>timeofday</th>\n",
       "    </tr>\n",
       "  </thead>\n",
       "  <tbody>\n",
       "    <tr>\n",
       "      <th>0</th>\n",
       "      <td>2020-09-24</td>\n",
       "      <td>Thu</td>\n",
       "      <td>KAUPLUS</td>\n",
       "      <td>Lasnamäe linnaosa</td>\n",
       "      <td>0</td>\n",
       "      <td>autumn</td>\n",
       "      <td>night</td>\n",
       "    </tr>\n",
       "    <tr>\n",
       "      <th>1</th>\n",
       "      <td>2020-09-23</td>\n",
       "      <td>Wed</td>\n",
       "      <td>KAUPLUS</td>\n",
       "      <td>Haabersti linnaosa</td>\n",
       "      <td>0</td>\n",
       "      <td>autumn</td>\n",
       "      <td>night</td>\n",
       "    </tr>\n",
       "    <tr>\n",
       "      <th>2</th>\n",
       "      <td>2020-09-23</td>\n",
       "      <td>Wed</td>\n",
       "      <td>KAUPLUS</td>\n",
       "      <td>Mustamäe linnaosa</td>\n",
       "      <td>0</td>\n",
       "      <td>autumn</td>\n",
       "      <td>night</td>\n",
       "    </tr>\n",
       "    <tr>\n",
       "      <th>3</th>\n",
       "      <td>2020-09-23</td>\n",
       "      <td>Wed</td>\n",
       "      <td>SOOGIKOHT</td>\n",
       "      <td>Põhja-Tallinna linnaosa</td>\n",
       "      <td>1</td>\n",
       "      <td>autumn</td>\n",
       "      <td>night</td>\n",
       "    </tr>\n",
       "    <tr>\n",
       "      <th>4</th>\n",
       "      <td>2020-09-23</td>\n",
       "      <td>Wed</td>\n",
       "      <td>TANAV_VALJAK</td>\n",
       "      <td>Kesklinna linnaosa</td>\n",
       "      <td>0</td>\n",
       "      <td>autumn</td>\n",
       "      <td>day</td>\n",
       "    </tr>\n",
       "  </tbody>\n",
       "</table>\n",
       "</div>"
      ],
      "text/plain": [
       "        date weekday         place                 district  is_mobile  \\\n",
       "0 2020-09-24     Thu       KAUPLUS        Lasnamäe linnaosa          0   \n",
       "1 2020-09-23     Wed       KAUPLUS       Haabersti linnaosa          0   \n",
       "2 2020-09-23     Wed       KAUPLUS        Mustamäe linnaosa          0   \n",
       "3 2020-09-23     Wed     SOOGIKOHT  Põhja-Tallinna linnaosa          1   \n",
       "4 2020-09-23     Wed  TANAV_VALJAK       Kesklinna linnaosa          0   \n",
       "\n",
       "   season timeofday  \n",
       "0  autumn     night  \n",
       "1  autumn     night  \n",
       "2  autumn     night  \n",
       "3  autumn     night  \n",
       "4  autumn       day  "
      ]
     },
     "execution_count": 16,
     "metadata": {},
     "output_type": "execute_result"
    }
   ],
   "source": [
    "print(len(df)) # 63896\n",
    "df.head()"
   ]
  },
  {
   "cell_type": "markdown",
   "metadata": {},
   "source": [
    "# Data set description"
   ]
  },
  {
   "cell_type": "markdown",
   "metadata": {},
   "source": [
    "Most of the cases are not connected to mobile phones so we need to keep that in mind when we build the model."
   ]
  },
  {
   "cell_type": "code",
   "execution_count": 17,
   "metadata": {
    "scrolled": true
   },
   "outputs": [
    {
     "data": {
      "text/plain": [
       "0    59129\n",
       "1     4767\n",
       "Name: is_mobile, dtype: int64"
      ]
     },
     "execution_count": 17,
     "metadata": {},
     "output_type": "execute_result"
    }
   ],
   "source": [
    "df['is_mobile'].value_counts()"
   ]
  },
  {
   "cell_type": "markdown",
   "metadata": {},
   "source": [
    "Also the number of cases registered overall is decreasing year by year."
   ]
  },
  {
   "cell_type": "code",
   "execution_count": 18,
   "metadata": {},
   "outputs": [
    {
     "data": {
      "text/plain": [
       "2012    10306\n",
       "2013     9949\n",
       "2014     8521\n",
       "2015     8310\n",
       "2016     7081\n",
       "2017     5893\n",
       "2018     5583\n",
       "2019     4956\n",
       "2020     3297\n",
       "Name: date, dtype: int64"
      ]
     },
     "execution_count": 18,
     "metadata": {},
     "output_type": "execute_result"
    }
   ],
   "source": [
    "df['date'].dt.year.value_counts()"
   ]
  },
  {
   "cell_type": "markdown",
   "metadata": {},
   "source": [
    "# Regression 2019-2020"
   ]
  },
  {
   "cell_type": "markdown",
   "metadata": {},
   "source": [
    "Let's now start with the regression analysis. I will first write a function that furhter prepares the data for the analysis.\n",
    "\n",
    "The function will:\n",
    "1. filter out data from the interested time period (2019-2020 or 2012-2013)\n",
    "2. equalize the number of cases connected to mobiles and not connected to mobiles (otherwise the model will be too biased towards cases not connected to mobiles)\n",
    "3. filter out top 8 values for 'place' to keep the number of variables under control\n",
    "4. get dummies for all the categorical variables (which is all of them actually)\n",
    "5. calculate the benchmark dummies for each category"
   ]
  },
  {
   "cell_type": "code",
   "execution_count": 19,
   "metadata": {},
   "outputs": [],
   "source": [
    "def data_for_model(df_in, years):\n",
    "    df_out = df_in.loc[df_in['date'].dt.year.isin(years)]\n",
    "    df_out = df_out.drop(columns=['date'])\n",
    "    \n",
    "    n_to_drop = df_out['is_mobile'].value_counts()[0] - df_out['is_mobile'].value_counts()[1]\n",
    "    df_out = df_out.drop(df_out.query('is_mobile == 0').sample(n=n_to_drop, random_state=42).index)\n",
    "    \n",
    "    top_places = df_out['place'].value_counts().head(8).index\n",
    "    df_out = df_out.loc[df_out['place'].isin(top_places)]\n",
    "    \n",
    "    categories = []\n",
    "    for col in ['weekday', 'place', 'district', 'season', 'timeofday']:\n",
    "        categories.append(list(df_out[col].unique()))\n",
    "    categories = [item for sublist in categories for item in sublist]\n",
    "    \n",
    "    df_out = pd.get_dummies(df_out, drop_first=True)\n",
    "    \n",
    "    dummies = list(df_out.columns.values)\n",
    "    dummies.remove('is_mobile')\n",
    "    dummies = [i[i.find('_')+1:] for i in dummies]\n",
    "    \n",
    "    benchmarks = [cat for cat in categories if cat not in dummies]\n",
    "    \n",
    "    return df_out, benchmarks"
   ]
  },
  {
   "cell_type": "code",
   "execution_count": 20,
   "metadata": {},
   "outputs": [],
   "source": [
    "df_19 = data_for_model(df, ['2019', '2020'])[0]\n",
    "benchmarks_19 = data_for_model(df, ['2019', '2020'])[1]"
   ]
  },
  {
   "cell_type": "markdown",
   "metadata": {},
   "source": [
    "Let's also translate place values."
   ]
  },
  {
   "cell_type": "code",
   "execution_count": 21,
   "metadata": {},
   "outputs": [
    {
     "data": {
      "text/plain": [
       "['place_KAUBAMAJA',\n",
       " 'place_KAUPLUS',\n",
       " 'place_OOKLUBI_DISKOTEEK',\n",
       " 'place_SOOGIKOHT',\n",
       " 'place_TANAV_VALJAK',\n",
       " 'place_TANKLA',\n",
       " 'place_UHISSOIDUK']"
      ]
     },
     "execution_count": 21,
     "metadata": {},
     "output_type": "execute_result"
    }
   ],
   "source": [
    "[col for col in df_19.columns if 'place_' in col]"
   ]
  },
  {
   "cell_type": "code",
   "execution_count": 22,
   "metadata": {},
   "outputs": [],
   "source": [
    "df_19 = df_19.rename(columns={'place_KAUBAMAJA':'place_shopping_centre', 'place_KAUPLUS':'place_shop', \n",
    "               'place_OOKLUBI_DISKOTEEK':'place_nightclub', 'place_SOOGIKOHT':'place_restaurant',\n",
    "               'place_TANAV_VALJAK':'place_street_square', 'place_TANKLA':'place_gas_station', \n",
    "               'place_UHISSOIDUK':'place_public_transport'})"
   ]
  },
  {
   "cell_type": "markdown",
   "metadata": {},
   "source": [
    "Let's split the data set to training and testing data sets, by 80% and 20% respectively."
   ]
  },
  {
   "cell_type": "code",
   "execution_count": 23,
   "metadata": {},
   "outputs": [],
   "source": [
    "df_train_19, df_test_19 = train_test_split(df_19, test_size=0.2, random_state=42)"
   ]
  },
  {
   "cell_type": "markdown",
   "metadata": {},
   "source": [
    "And now let's train the model."
   ]
  },
  {
   "cell_type": "code",
   "execution_count": 24,
   "metadata": {
    "scrolled": false
   },
   "outputs": [
    {
     "name": "stdout",
     "output_type": "stream",
     "text": [
      "Optimization terminated successfully.\n",
      "         Current function value: 0.373823\n",
      "         Iterations 8\n"
     ]
    },
    {
     "data": {
      "text/html": [
       "<table class=\"simpletable\">\n",
       "<caption>Logit Regression Results</caption>\n",
       "<tr>\n",
       "  <th>Dep. Variable:</th>       <td>is_mobile</td>    <th>  No. Observations:  </th>  <td>   552</td>  \n",
       "</tr>\n",
       "<tr>\n",
       "  <th>Model:</th>                 <td>Logit</td>      <th>  Df Residuals:      </th>  <td>   527</td>  \n",
       "</tr>\n",
       "<tr>\n",
       "  <th>Method:</th>                 <td>MLE</td>       <th>  Df Model:          </th>  <td>    24</td>  \n",
       "</tr>\n",
       "<tr>\n",
       "  <th>Date:</th>            <td>Sat, 17 Oct 2020</td> <th>  Pseudo R-squ.:     </th>  <td>0.4572</td>  \n",
       "</tr>\n",
       "<tr>\n",
       "  <th>Time:</th>                <td>16:38:17</td>     <th>  Log-Likelihood:    </th> <td> -206.35</td> \n",
       "</tr>\n",
       "<tr>\n",
       "  <th>converged:</th>             <td>True</td>       <th>  LL-Null:           </th> <td> -380.16</td> \n",
       "</tr>\n",
       "<tr>\n",
       "  <th>Covariance Type:</th>     <td>nonrobust</td>    <th>  LLR p-value:       </th> <td>3.816e-59</td>\n",
       "</tr>\n",
       "</table>\n",
       "<table class=\"simpletable\">\n",
       "<tr>\n",
       "                  <td></td>                    <th>coef</th>     <th>std err</th>      <th>z</th>      <th>P>|z|</th>  <th>[0.025</th>    <th>0.975]</th>  \n",
       "</tr>\n",
       "<tr>\n",
       "  <th>const</th>                            <td>    2.5700</td> <td>    0.997</td> <td>    2.578</td> <td> 0.010</td> <td>    0.616</td> <td>    4.523</td>\n",
       "</tr>\n",
       "<tr>\n",
       "  <th>weekday_Mon</th>                      <td>   -0.4091</td> <td>    0.501</td> <td>   -0.816</td> <td> 0.414</td> <td>   -1.391</td> <td>    0.573</td>\n",
       "</tr>\n",
       "<tr>\n",
       "  <th>weekday_Sat</th>                      <td>    1.0183</td> <td>    0.414</td> <td>    2.460</td> <td> 0.014</td> <td>    0.207</td> <td>    1.830</td>\n",
       "</tr>\n",
       "<tr>\n",
       "  <th>weekday_Sun</th>                      <td>    0.3733</td> <td>    0.433</td> <td>    0.861</td> <td> 0.389</td> <td>   -0.476</td> <td>    1.223</td>\n",
       "</tr>\n",
       "<tr>\n",
       "  <th>weekday_Thu</th>                      <td>    0.0343</td> <td>    0.494</td> <td>    0.069</td> <td> 0.945</td> <td>   -0.935</td> <td>    1.003</td>\n",
       "</tr>\n",
       "<tr>\n",
       "  <th>weekday_Tue</th>                      <td>   -0.5617</td> <td>    0.520</td> <td>   -1.081</td> <td> 0.280</td> <td>   -1.580</td> <td>    0.457</td>\n",
       "</tr>\n",
       "<tr>\n",
       "  <th>weekday_Wed</th>                      <td>    0.0359</td> <td>    0.472</td> <td>    0.076</td> <td> 0.939</td> <td>   -0.890</td> <td>    0.962</td>\n",
       "</tr>\n",
       "<tr>\n",
       "  <th>place_shopping_centre</th>            <td>   -2.0274</td> <td>    0.854</td> <td>   -2.375</td> <td> 0.018</td> <td>   -3.700</td> <td>   -0.354</td>\n",
       "</tr>\n",
       "<tr>\n",
       "  <th>place_shop</th>                       <td>   -3.9580</td> <td>    0.723</td> <td>   -5.476</td> <td> 0.000</td> <td>   -5.375</td> <td>   -2.541</td>\n",
       "</tr>\n",
       "<tr>\n",
       "  <th>place_nightclub</th>                  <td>    2.0656</td> <td>    1.237</td> <td>    1.670</td> <td> 0.095</td> <td>   -0.359</td> <td>    4.490</td>\n",
       "</tr>\n",
       "<tr>\n",
       "  <th>place_restaurant</th>                 <td>    0.3590</td> <td>    0.743</td> <td>    0.483</td> <td> 0.629</td> <td>   -1.096</td> <td>    1.814</td>\n",
       "</tr>\n",
       "<tr>\n",
       "  <th>place_street_square</th>              <td>   -1.0502</td> <td>    0.692</td> <td>   -1.518</td> <td> 0.129</td> <td>   -2.406</td> <td>    0.306</td>\n",
       "</tr>\n",
       "<tr>\n",
       "  <th>place_gas_station</th>                <td>   -4.3307</td> <td>    1.244</td> <td>   -3.482</td> <td> 0.000</td> <td>   -6.769</td> <td>   -1.893</td>\n",
       "</tr>\n",
       "<tr>\n",
       "  <th>place_public_transport</th>           <td>    0.9126</td> <td>    0.873</td> <td>    1.046</td> <td> 0.296</td> <td>   -0.798</td> <td>    2.623</td>\n",
       "</tr>\n",
       "<tr>\n",
       "  <th>district_Kesklinna linnaosa</th>      <td>   -1.8030</td> <td>    0.633</td> <td>   -2.848</td> <td> 0.004</td> <td>   -3.044</td> <td>   -0.562</td>\n",
       "</tr>\n",
       "<tr>\n",
       "  <th>district_Kristiine linnaosa</th>      <td>   -1.8373</td> <td>    0.844</td> <td>   -2.176</td> <td> 0.030</td> <td>   -3.492</td> <td>   -0.182</td>\n",
       "</tr>\n",
       "<tr>\n",
       "  <th>district_Lasnamäe linnaosa</th>       <td>   -1.4971</td> <td>    0.639</td> <td>   -2.342</td> <td> 0.019</td> <td>   -2.750</td> <td>   -0.244</td>\n",
       "</tr>\n",
       "<tr>\n",
       "  <th>district_Mustamäe linnaosa</th>       <td>   -3.0288</td> <td>    0.801</td> <td>   -3.779</td> <td> 0.000</td> <td>   -4.600</td> <td>   -1.458</td>\n",
       "</tr>\n",
       "<tr>\n",
       "  <th>district_Nõmme linnaosa</th>          <td>   -2.4035</td> <td>    1.000</td> <td>   -2.403</td> <td> 0.016</td> <td>   -4.364</td> <td>   -0.443</td>\n",
       "</tr>\n",
       "<tr>\n",
       "  <th>district_Pirita linnaosa</th>         <td>   -2.9611</td> <td>    1.220</td> <td>   -2.428</td> <td> 0.015</td> <td>   -5.351</td> <td>   -0.571</td>\n",
       "</tr>\n",
       "<tr>\n",
       "  <th>district_Põhja-Tallinna linnaosa</th> <td>   -1.8749</td> <td>    0.664</td> <td>   -2.825</td> <td> 0.005</td> <td>   -3.176</td> <td>   -0.574</td>\n",
       "</tr>\n",
       "<tr>\n",
       "  <th>season_spring</th>                    <td>   -0.0853</td> <td>    0.407</td> <td>   -0.209</td> <td> 0.834</td> <td>   -0.884</td> <td>    0.713</td>\n",
       "</tr>\n",
       "<tr>\n",
       "  <th>season_summer</th>                    <td>    0.8506</td> <td>    0.370</td> <td>    2.296</td> <td> 0.022</td> <td>    0.125</td> <td>    1.577</td>\n",
       "</tr>\n",
       "<tr>\n",
       "  <th>season_winter</th>                    <td>    0.0086</td> <td>    0.418</td> <td>    0.021</td> <td> 0.984</td> <td>   -0.810</td> <td>    0.828</td>\n",
       "</tr>\n",
       "<tr>\n",
       "  <th>timeofday_night</th>                  <td>    0.1626</td> <td>    0.274</td> <td>    0.594</td> <td> 0.552</td> <td>   -0.374</td> <td>    0.699</td>\n",
       "</tr>\n",
       "</table>"
      ],
      "text/plain": [
       "<class 'statsmodels.iolib.summary.Summary'>\n",
       "\"\"\"\n",
       "                           Logit Regression Results                           \n",
       "==============================================================================\n",
       "Dep. Variable:              is_mobile   No. Observations:                  552\n",
       "Model:                          Logit   Df Residuals:                      527\n",
       "Method:                           MLE   Df Model:                           24\n",
       "Date:                Sat, 17 Oct 2020   Pseudo R-squ.:                  0.4572\n",
       "Time:                        16:38:17   Log-Likelihood:                -206.35\n",
       "converged:                       True   LL-Null:                       -380.16\n",
       "Covariance Type:            nonrobust   LLR p-value:                 3.816e-59\n",
       "====================================================================================================\n",
       "                                       coef    std err          z      P>|z|      [0.025      0.975]\n",
       "----------------------------------------------------------------------------------------------------\n",
       "const                                2.5700      0.997      2.578      0.010       0.616       4.523\n",
       "weekday_Mon                         -0.4091      0.501     -0.816      0.414      -1.391       0.573\n",
       "weekday_Sat                          1.0183      0.414      2.460      0.014       0.207       1.830\n",
       "weekday_Sun                          0.3733      0.433      0.861      0.389      -0.476       1.223\n",
       "weekday_Thu                          0.0343      0.494      0.069      0.945      -0.935       1.003\n",
       "weekday_Tue                         -0.5617      0.520     -1.081      0.280      -1.580       0.457\n",
       "weekday_Wed                          0.0359      0.472      0.076      0.939      -0.890       0.962\n",
       "place_shopping_centre               -2.0274      0.854     -2.375      0.018      -3.700      -0.354\n",
       "place_shop                          -3.9580      0.723     -5.476      0.000      -5.375      -2.541\n",
       "place_nightclub                      2.0656      1.237      1.670      0.095      -0.359       4.490\n",
       "place_restaurant                     0.3590      0.743      0.483      0.629      -1.096       1.814\n",
       "place_street_square                 -1.0502      0.692     -1.518      0.129      -2.406       0.306\n",
       "place_gas_station                   -4.3307      1.244     -3.482      0.000      -6.769      -1.893\n",
       "place_public_transport               0.9126      0.873      1.046      0.296      -0.798       2.623\n",
       "district_Kesklinna linnaosa         -1.8030      0.633     -2.848      0.004      -3.044      -0.562\n",
       "district_Kristiine linnaosa         -1.8373      0.844     -2.176      0.030      -3.492      -0.182\n",
       "district_Lasnamäe linnaosa          -1.4971      0.639     -2.342      0.019      -2.750      -0.244\n",
       "district_Mustamäe linnaosa          -3.0288      0.801     -3.779      0.000      -4.600      -1.458\n",
       "district_Nõmme linnaosa             -2.4035      1.000     -2.403      0.016      -4.364      -0.443\n",
       "district_Pirita linnaosa            -2.9611      1.220     -2.428      0.015      -5.351      -0.571\n",
       "district_Põhja-Tallinna linnaosa    -1.8749      0.664     -2.825      0.005      -3.176      -0.574\n",
       "season_spring                       -0.0853      0.407     -0.209      0.834      -0.884       0.713\n",
       "season_summer                        0.8506      0.370      2.296      0.022       0.125       1.577\n",
       "season_winter                        0.0086      0.418      0.021      0.984      -0.810       0.828\n",
       "timeofday_night                      0.1626      0.274      0.594      0.552      -0.374       0.699\n",
       "====================================================================================================\n",
       "\"\"\""
      ]
     },
     "execution_count": 24,
     "metadata": {},
     "output_type": "execute_result"
    }
   ],
   "source": [
    "features = list(df_19.columns)\n",
    "features.remove('is_mobile')\n",
    "\n",
    "y = df_train_19['is_mobile']\n",
    "x1 = df_train_19[features]\n",
    "\n",
    "X = sm.add_constant(x1)\n",
    "results_19 = sm.Logit(y,X).fit()\n",
    "\n",
    "results_19.summary()"
   ]
  },
  {
   "cell_type": "markdown",
   "metadata": {},
   "source": [
    "### Removing insignificant features"
   ]
  },
  {
   "cell_type": "markdown",
   "metadata": {},
   "source": [
    "As we can see, a number of the features are insignificant (p-value > 0.05). Let's remove them one by one, starting with the highest."
   ]
  },
  {
   "cell_type": "code",
   "execution_count": 25,
   "metadata": {},
   "outputs": [],
   "source": [
    "def remove_most_insignificant(df, results):\n",
    "    # use operator to find the key which belongs to the maximum value in the dictionary:\n",
    "    max_p_value = max(results.pvalues.iteritems(), key=operator.itemgetter(1))[0]\n",
    "    # this is the feature you want to drop:\n",
    "    df.drop(columns = max_p_value, inplace = True)\n",
    "    return df"
   ]
  },
  {
   "cell_type": "code",
   "execution_count": 26,
   "metadata": {
    "scrolled": false
   },
   "outputs": [
    {
     "name": "stdout",
     "output_type": "stream",
     "text": [
      "Optimization terminated successfully.\n",
      "         Current function value: 0.373823\n",
      "         Iterations 8\n",
      "Optimization terminated successfully.\n",
      "         Current function value: 0.373824\n",
      "         Iterations 8\n",
      "Optimization terminated successfully.\n",
      "         Current function value: 0.373828\n",
      "         Iterations 8\n",
      "Optimization terminated successfully.\n",
      "         Current function value: 0.373831\n",
      "         Iterations 8\n",
      "Optimization terminated successfully.\n",
      "         Current function value: 0.373897\n",
      "         Iterations 8\n",
      "Optimization terminated successfully.\n",
      "         Current function value: 0.374095\n",
      "         Iterations 8\n",
      "Optimization terminated successfully.\n",
      "         Current function value: 0.374486\n",
      "         Iterations 8\n",
      "Optimization terminated successfully.\n",
      "         Current function value: 0.375211\n",
      "         Iterations 8\n",
      "Optimization terminated successfully.\n",
      "         Current function value: 0.376059\n",
      "         Iterations 8\n",
      "Optimization terminated successfully.\n",
      "         Current function value: 0.377462\n",
      "         Iterations 8\n",
      "Optimization terminated successfully.\n",
      "         Current function value: 0.378987\n",
      "         Iterations 8\n",
      "Optimization terminated successfully.\n",
      "         Current function value: 0.383614\n",
      "         Iterations 7\n"
     ]
    }
   ],
   "source": [
    "insignificant_feature = True\n",
    "\n",
    "while insignificant_feature:\n",
    "        results_19 = sm.Logit(y,X).fit()\n",
    "        significant = [p_value < 0.05 for p_value in results_19.pvalues]\n",
    "        if all(significant):\n",
    "            insignificant_feature = False\n",
    "        else:\n",
    "            if X.shape[1] == 1:  # if there's only one insignificant variable left\n",
    "                print('No significant features found')\n",
    "                results_19 = None\n",
    "                insignificant_feature = False\n",
    "            else:            \n",
    "                X = remove_most_insignificant(X, results_19)"
   ]
  },
  {
   "cell_type": "markdown",
   "metadata": {},
   "source": [
    "And here is our final model with all insignificant features removed."
   ]
  },
  {
   "cell_type": "code",
   "execution_count": 27,
   "metadata": {},
   "outputs": [
    {
     "data": {
      "text/html": [
       "<table class=\"simpletable\">\n",
       "<caption>Logit Regression Results</caption>\n",
       "<tr>\n",
       "  <th>Dep. Variable:</th>       <td>is_mobile</td>    <th>  No. Observations:  </th>  <td>   552</td>  \n",
       "</tr>\n",
       "<tr>\n",
       "  <th>Model:</th>                 <td>Logit</td>      <th>  Df Residuals:      </th>  <td>   538</td>  \n",
       "</tr>\n",
       "<tr>\n",
       "  <th>Method:</th>                 <td>MLE</td>       <th>  Df Model:          </th>  <td>    13</td>  \n",
       "</tr>\n",
       "<tr>\n",
       "  <th>Date:</th>            <td>Sat, 17 Oct 2020</td> <th>  Pseudo R-squ.:     </th>  <td>0.4430</td>  \n",
       "</tr>\n",
       "<tr>\n",
       "  <th>Time:</th>                <td>16:38:17</td>     <th>  Log-Likelihood:    </th> <td> -211.75</td> \n",
       "</tr>\n",
       "<tr>\n",
       "  <th>converged:</th>             <td>True</td>       <th>  LL-Null:           </th> <td> -380.16</td> \n",
       "</tr>\n",
       "<tr>\n",
       "  <th>Covariance Type:</th>     <td>nonrobust</td>    <th>  LLR p-value:       </th> <td>4.579e-64</td>\n",
       "</tr>\n",
       "</table>\n",
       "<table class=\"simpletable\">\n",
       "<tr>\n",
       "                  <td></td>                    <th>coef</th>     <th>std err</th>      <th>z</th>      <th>P>|z|</th>  <th>[0.025</th>    <th>0.975]</th>  \n",
       "</tr>\n",
       "<tr>\n",
       "  <th>const</th>                            <td>    3.2385</td> <td>    0.643</td> <td>    5.037</td> <td> 0.000</td> <td>    1.978</td> <td>    4.499</td>\n",
       "</tr>\n",
       "<tr>\n",
       "  <th>weekday_Sat</th>                      <td>    1.0214</td> <td>    0.305</td> <td>    3.344</td> <td> 0.001</td> <td>    0.423</td> <td>    1.620</td>\n",
       "</tr>\n",
       "<tr>\n",
       "  <th>place_shopping_centre</th>            <td>   -2.7439</td> <td>    0.573</td> <td>   -4.792</td> <td> 0.000</td> <td>   -3.866</td> <td>   -1.622</td>\n",
       "</tr>\n",
       "<tr>\n",
       "  <th>place_shop</th>                       <td>   -4.6217</td> <td>    0.398</td> <td>  -11.610</td> <td> 0.000</td> <td>   -5.402</td> <td>   -3.841</td>\n",
       "</tr>\n",
       "<tr>\n",
       "  <th>place_street_square</th>              <td>   -1.7072</td> <td>    0.309</td> <td>   -5.524</td> <td> 0.000</td> <td>   -2.313</td> <td>   -1.102</td>\n",
       "</tr>\n",
       "<tr>\n",
       "  <th>place_gas_station</th>                <td>   -4.9159</td> <td>    1.075</td> <td>   -4.572</td> <td> 0.000</td> <td>   -7.024</td> <td>   -2.808</td>\n",
       "</tr>\n",
       "<tr>\n",
       "  <th>district_Kesklinna linnaosa</th>      <td>   -1.7410</td> <td>    0.623</td> <td>   -2.792</td> <td> 0.005</td> <td>   -2.963</td> <td>   -0.519</td>\n",
       "</tr>\n",
       "<tr>\n",
       "  <th>district_Kristiine linnaosa</th>      <td>   -1.8290</td> <td>    0.837</td> <td>   -2.185</td> <td> 0.029</td> <td>   -3.469</td> <td>   -0.189</td>\n",
       "</tr>\n",
       "<tr>\n",
       "  <th>district_Lasnamäe linnaosa</th>       <td>   -1.5161</td> <td>    0.634</td> <td>   -2.390</td> <td> 0.017</td> <td>   -2.760</td> <td>   -0.273</td>\n",
       "</tr>\n",
       "<tr>\n",
       "  <th>district_Mustamäe linnaosa</th>       <td>   -3.0353</td> <td>    0.792</td> <td>   -3.835</td> <td> 0.000</td> <td>   -4.587</td> <td>   -1.484</td>\n",
       "</tr>\n",
       "<tr>\n",
       "  <th>district_Nõmme linnaosa</th>          <td>   -2.3377</td> <td>    0.995</td> <td>   -2.348</td> <td> 0.019</td> <td>   -4.289</td> <td>   -0.387</td>\n",
       "</tr>\n",
       "<tr>\n",
       "  <th>district_Pirita linnaosa</th>         <td>   -3.0486</td> <td>    1.219</td> <td>   -2.501</td> <td> 0.012</td> <td>   -5.437</td> <td>   -0.660</td>\n",
       "</tr>\n",
       "<tr>\n",
       "  <th>district_Põhja-Tallinna linnaosa</th> <td>   -1.8174</td> <td>    0.653</td> <td>   -2.784</td> <td> 0.005</td> <td>   -3.097</td> <td>   -0.538</td>\n",
       "</tr>\n",
       "<tr>\n",
       "  <th>season_summer</th>                    <td>    0.8669</td> <td>    0.262</td> <td>    3.311</td> <td> 0.001</td> <td>    0.354</td> <td>    1.380</td>\n",
       "</tr>\n",
       "</table>"
      ],
      "text/plain": [
       "<class 'statsmodels.iolib.summary.Summary'>\n",
       "\"\"\"\n",
       "                           Logit Regression Results                           \n",
       "==============================================================================\n",
       "Dep. Variable:              is_mobile   No. Observations:                  552\n",
       "Model:                          Logit   Df Residuals:                      538\n",
       "Method:                           MLE   Df Model:                           13\n",
       "Date:                Sat, 17 Oct 2020   Pseudo R-squ.:                  0.4430\n",
       "Time:                        16:38:17   Log-Likelihood:                -211.75\n",
       "converged:                       True   LL-Null:                       -380.16\n",
       "Covariance Type:            nonrobust   LLR p-value:                 4.579e-64\n",
       "====================================================================================================\n",
       "                                       coef    std err          z      P>|z|      [0.025      0.975]\n",
       "----------------------------------------------------------------------------------------------------\n",
       "const                                3.2385      0.643      5.037      0.000       1.978       4.499\n",
       "weekday_Sat                          1.0214      0.305      3.344      0.001       0.423       1.620\n",
       "place_shopping_centre               -2.7439      0.573     -4.792      0.000      -3.866      -1.622\n",
       "place_shop                          -4.6217      0.398    -11.610      0.000      -5.402      -3.841\n",
       "place_street_square                 -1.7072      0.309     -5.524      0.000      -2.313      -1.102\n",
       "place_gas_station                   -4.9159      1.075     -4.572      0.000      -7.024      -2.808\n",
       "district_Kesklinna linnaosa         -1.7410      0.623     -2.792      0.005      -2.963      -0.519\n",
       "district_Kristiine linnaosa         -1.8290      0.837     -2.185      0.029      -3.469      -0.189\n",
       "district_Lasnamäe linnaosa          -1.5161      0.634     -2.390      0.017      -2.760      -0.273\n",
       "district_Mustamäe linnaosa          -3.0353      0.792     -3.835      0.000      -4.587      -1.484\n",
       "district_Nõmme linnaosa             -2.3377      0.995     -2.348      0.019      -4.289      -0.387\n",
       "district_Pirita linnaosa            -3.0486      1.219     -2.501      0.012      -5.437      -0.660\n",
       "district_Põhja-Tallinna linnaosa    -1.8174      0.653     -2.784      0.005      -3.097      -0.538\n",
       "season_summer                        0.8669      0.262      3.311      0.001       0.354       1.380\n",
       "====================================================================================================\n",
       "\"\"\""
      ]
     },
     "execution_count": 27,
     "metadata": {},
     "output_type": "execute_result"
    }
   ],
   "source": [
    "results_19.summary()"
   ]
  },
  {
   "cell_type": "markdown",
   "metadata": {},
   "source": [
    "Let's also compose a confusion matrix for the model's results."
   ]
  },
  {
   "cell_type": "code",
   "execution_count": 28,
   "metadata": {},
   "outputs": [],
   "source": [
    "def df_confusion_matrix(cm_array):\n",
    "    df_cm = pd.DataFrame(cm_array)\n",
    "    df_cm.columns = ['Predicted 0', 'Predicted 1']\n",
    "    df_cm = df_cm.rename(index={0:'Actual 0', 1:'Actual 1'})\n",
    "    \n",
    "    print(f'model accuracy: {((cm_array[0,0] + cm_array[1,1])/cm_array.sum()).round(4)}')\n",
    "    print(f'ppv: {(cm_array[1,1]/cm_array[1,:].sum()).round(4)}')\n",
    "    print(f'npv: {(cm_array[0,0]/cm_array[0,:].sum()).round(4)}')\n",
    "    print(f'sensitivity: {(cm_array[1,1]/cm_array[:,1].sum()).round(4)}')\n",
    "    print(f'specificity: {(cm_array[0,0]/cm_array[:,0].sum()).round(4)}')\n",
    "    \n",
    "    return df_cm"
   ]
  },
  {
   "cell_type": "code",
   "execution_count": 29,
   "metadata": {},
   "outputs": [],
   "source": [
    "def test_results(data, actual_values, model):\n",
    "        pred_values = model.predict(data)\n",
    "        bins=np.array([0,0.5,1])\n",
    "        cm = np.histogram2d(actual_values, pred_values, bins=bins)[0]\n",
    "        return cm"
   ]
  },
  {
   "cell_type": "code",
   "execution_count": 30,
   "metadata": {},
   "outputs": [
    {
     "name": "stdout",
     "output_type": "stream",
     "text": [
      "model accuracy: 0.8261\n",
      "ppv: 0.812\n",
      "npv: 0.8377\n",
      "sensitivity: 0.8056\n",
      "specificity: 0.8433\n"
     ]
    },
    {
     "data": {
      "text/html": [
       "<div>\n",
       "<style scoped>\n",
       "    .dataframe tbody tr th:only-of-type {\n",
       "        vertical-align: middle;\n",
       "    }\n",
       "\n",
       "    .dataframe tbody tr th {\n",
       "        vertical-align: top;\n",
       "    }\n",
       "\n",
       "    .dataframe thead th {\n",
       "        text-align: right;\n",
       "    }\n",
       "</style>\n",
       "<table border=\"1\" class=\"dataframe\">\n",
       "  <thead>\n",
       "    <tr style=\"text-align: right;\">\n",
       "      <th></th>\n",
       "      <th>Predicted 0</th>\n",
       "      <th>Predicted 1</th>\n",
       "    </tr>\n",
       "  </thead>\n",
       "  <tbody>\n",
       "    <tr>\n",
       "      <th>Actual 0</th>\n",
       "      <td>253.0</td>\n",
       "      <td>49.0</td>\n",
       "    </tr>\n",
       "    <tr>\n",
       "      <th>Actual 1</th>\n",
       "      <td>47.0</td>\n",
       "      <td>203.0</td>\n",
       "    </tr>\n",
       "  </tbody>\n",
       "</table>\n",
       "</div>"
      ],
      "text/plain": [
       "          Predicted 0  Predicted 1\n",
       "Actual 0        253.0         49.0\n",
       "Actual 1         47.0        203.0"
      ]
     },
     "execution_count": 30,
     "metadata": {},
     "output_type": "execute_result"
    }
   ],
   "source": [
    "df_confusion_matrix(results_19.pred_table())"
   ]
  },
  {
   "cell_type": "markdown",
   "metadata": {},
   "source": [
    "The model seems to be quite good. All the metrics are above 80% which is nice."
   ]
  },
  {
   "cell_type": "markdown",
   "metadata": {},
   "source": [
    "### Testing the model"
   ]
  },
  {
   "cell_type": "code",
   "execution_count": 31,
   "metadata": {},
   "outputs": [],
   "source": [
    "new_features = list(results_19.params.index)\n",
    "new_features.remove('const')\n",
    "\n",
    "test_actual_19 = df_test_19['is_mobile']\n",
    "test_data_19 = df_test_19[new_features]\n",
    "test_data_19 = sm.add_constant(test_data_19)"
   ]
  },
  {
   "cell_type": "code",
   "execution_count": 32,
   "metadata": {},
   "outputs": [
    {
     "name": "stdout",
     "output_type": "stream",
     "text": [
      "model accuracy: 0.7986\n",
      "ppv: 0.7333\n",
      "npv: 0.8481\n",
      "sensitivity: 0.7857\n",
      "specificity: 0.8072\n"
     ]
    },
    {
     "data": {
      "text/html": [
       "<div>\n",
       "<style scoped>\n",
       "    .dataframe tbody tr th:only-of-type {\n",
       "        vertical-align: middle;\n",
       "    }\n",
       "\n",
       "    .dataframe tbody tr th {\n",
       "        vertical-align: top;\n",
       "    }\n",
       "\n",
       "    .dataframe thead th {\n",
       "        text-align: right;\n",
       "    }\n",
       "</style>\n",
       "<table border=\"1\" class=\"dataframe\">\n",
       "  <thead>\n",
       "    <tr style=\"text-align: right;\">\n",
       "      <th></th>\n",
       "      <th>Predicted 0</th>\n",
       "      <th>Predicted 1</th>\n",
       "    </tr>\n",
       "  </thead>\n",
       "  <tbody>\n",
       "    <tr>\n",
       "      <th>Actual 0</th>\n",
       "      <td>67.0</td>\n",
       "      <td>12.0</td>\n",
       "    </tr>\n",
       "    <tr>\n",
       "      <th>Actual 1</th>\n",
       "      <td>16.0</td>\n",
       "      <td>44.0</td>\n",
       "    </tr>\n",
       "  </tbody>\n",
       "</table>\n",
       "</div>"
      ],
      "text/plain": [
       "          Predicted 0  Predicted 1\n",
       "Actual 0         67.0         12.0\n",
       "Actual 1         16.0         44.0"
      ]
     },
     "execution_count": 32,
     "metadata": {},
     "output_type": "execute_result"
    }
   ],
   "source": [
    "cm_test = test_results(test_data_19, test_actual_19, results_19)\n",
    "df_confusion_matrix(cm_test)"
   ]
  },
  {
   "cell_type": "markdown",
   "metadata": {},
   "source": [
    "Testing results are lower but sill not bad."
   ]
  },
  {
   "cell_type": "markdown",
   "metadata": {},
   "source": [
    "# Regression 2012-2013"
   ]
  },
  {
   "cell_type": "markdown",
   "metadata": {},
   "source": [
    "Let's now repeat the same process but for data from 2012-2013."
   ]
  },
  {
   "cell_type": "code",
   "execution_count": 33,
   "metadata": {},
   "outputs": [],
   "source": [
    "df_12 = data_for_model(df, ['2012', '2013'])[0]\n",
    "benchmarks_12 = data_for_model(df, ['2012', '2013'])[1]"
   ]
  },
  {
   "cell_type": "code",
   "execution_count": 34,
   "metadata": {},
   "outputs": [
    {
     "data": {
      "text/plain": [
       "['place_OOKLUBI_DISKOTEEK',\n",
       " 'place_PARKLA',\n",
       " 'place_RIIDEHOID',\n",
       " 'place_SOOGIKOHT',\n",
       " 'place_TANAV_VALJAK',\n",
       " 'place_TANKLA',\n",
       " 'place_UHISSOIDUK']"
      ]
     },
     "execution_count": 34,
     "metadata": {},
     "output_type": "execute_result"
    }
   ],
   "source": [
    "[col for col in df_12.columns if 'place_' in col]"
   ]
  },
  {
   "cell_type": "code",
   "execution_count": 35,
   "metadata": {},
   "outputs": [],
   "source": [
    "df_12 = df_12.rename(columns={'place_OOKLUBI_DISKOTEEK':'place_nightclub',\n",
    "                              'place_PARKLA':'place_car_park',\n",
    "                              'place_RIIDEHOID':'place_cloakroom',\n",
    "                              'place_SOOGIKOHT':'place_restaurant',\n",
    "                              'place_TANAV_VALJAK':'place_street_square',\n",
    "                              'place_TANKLA':'place_gas_station', \n",
    "                              'place_UHISSOIDUK':'place_public_transport'})"
   ]
  },
  {
   "cell_type": "code",
   "execution_count": 36,
   "metadata": {},
   "outputs": [],
   "source": [
    "df_train_12, df_test_12 = train_test_split(df_12, test_size=0.2, random_state=42)"
   ]
  },
  {
   "cell_type": "code",
   "execution_count": 37,
   "metadata": {},
   "outputs": [
    {
     "name": "stdout",
     "output_type": "stream",
     "text": [
      "Optimization terminated successfully.\n",
      "         Current function value: 0.446665\n",
      "         Iterations 8\n"
     ]
    }
   ],
   "source": [
    "features = list(df_12.columns)\n",
    "features.remove('is_mobile')\n",
    "\n",
    "y = df_train_12['is_mobile']\n",
    "x1 = df_train_12[features]\n",
    "\n",
    "X = sm.add_constant(x1)\n",
    "results = sm.Logit(y,X).fit()"
   ]
  },
  {
   "cell_type": "markdown",
   "metadata": {},
   "source": [
    "### Removing insignificant features"
   ]
  },
  {
   "cell_type": "code",
   "execution_count": 38,
   "metadata": {
    "scrolled": false
   },
   "outputs": [
    {
     "name": "stdout",
     "output_type": "stream",
     "text": [
      "Optimization terminated successfully.\n",
      "         Current function value: 0.446665\n",
      "         Iterations 8\n",
      "Optimization terminated successfully.\n",
      "         Current function value: 0.446677\n",
      "         Iterations 8\n",
      "Optimization terminated successfully.\n",
      "         Current function value: 0.446714\n",
      "         Iterations 8\n",
      "Optimization terminated successfully.\n",
      "         Current function value: 0.446752\n",
      "         Iterations 8\n",
      "Optimization terminated successfully.\n",
      "         Current function value: 0.446800\n",
      "         Iterations 8\n",
      "Optimization terminated successfully.\n",
      "         Current function value: 0.446861\n",
      "         Iterations 8\n",
      "Optimization terminated successfully.\n",
      "         Current function value: 0.447018\n",
      "         Iterations 8\n",
      "Optimization terminated successfully.\n",
      "         Current function value: 0.447216\n",
      "         Iterations 8\n",
      "Optimization terminated successfully.\n",
      "         Current function value: 0.447483\n",
      "         Iterations 8\n",
      "Optimization terminated successfully.\n",
      "         Current function value: 0.447661\n",
      "         Iterations 8\n",
      "Optimization terminated successfully.\n",
      "         Current function value: 0.447945\n",
      "         Iterations 8\n",
      "Optimization terminated successfully.\n",
      "         Current function value: 0.448510\n",
      "         Iterations 8\n"
     ]
    }
   ],
   "source": [
    "insignificant_feature = True\n",
    "\n",
    "while insignificant_feature:\n",
    "        results_12 = sm.Logit(y,X).fit()\n",
    "        significant = [p_value < 0.05 for p_value in results_12.pvalues]\n",
    "        if all(significant):\n",
    "            insignificant_feature = False\n",
    "        else:\n",
    "            if X.shape[1] == 1:  # if there's only one insignificant variable left\n",
    "                print('No significant features found')\n",
    "                results_12 = None\n",
    "                insignificant_feature = False\n",
    "            else:            \n",
    "                X = remove_most_insignificant(X, results_12)"
   ]
  },
  {
   "cell_type": "code",
   "execution_count": 39,
   "metadata": {},
   "outputs": [
    {
     "data": {
      "text/html": [
       "<table class=\"simpletable\">\n",
       "<caption>Logit Regression Results</caption>\n",
       "<tr>\n",
       "  <th>Dep. Variable:</th>       <td>is_mobile</td>    <th>  No. Observations:  </th>   <td>  2257</td>  \n",
       "</tr>\n",
       "<tr>\n",
       "  <th>Model:</th>                 <td>Logit</td>      <th>  Df Residuals:      </th>   <td>  2243</td>  \n",
       "</tr>\n",
       "<tr>\n",
       "  <th>Method:</th>                 <td>MLE</td>       <th>  Df Model:          </th>   <td>    13</td>  \n",
       "</tr>\n",
       "<tr>\n",
       "  <th>Date:</th>            <td>Sat, 17 Oct 2020</td> <th>  Pseudo R-squ.:     </th>   <td>0.3509</td>  \n",
       "</tr>\n",
       "<tr>\n",
       "  <th>Time:</th>                <td>16:38:18</td>     <th>  Log-Likelihood:    </th>  <td> -1012.3</td> \n",
       "</tr>\n",
       "<tr>\n",
       "  <th>converged:</th>             <td>True</td>       <th>  LL-Null:           </th>  <td> -1559.6</td> \n",
       "</tr>\n",
       "<tr>\n",
       "  <th>Covariance Type:</th>     <td>nonrobust</td>    <th>  LLR p-value:       </th> <td>7.802e-226</td>\n",
       "</tr>\n",
       "</table>\n",
       "<table class=\"simpletable\">\n",
       "<tr>\n",
       "               <td></td>                  <th>coef</th>     <th>std err</th>      <th>z</th>      <th>P>|z|</th>  <th>[0.025</th>    <th>0.975]</th>  \n",
       "</tr>\n",
       "<tr>\n",
       "  <th>const</th>                       <td>   -1.8590</td> <td>    0.141</td> <td>  -13.220</td> <td> 0.000</td> <td>   -2.135</td> <td>   -1.583</td>\n",
       "</tr>\n",
       "<tr>\n",
       "  <th>weekday_Mon</th>                 <td>   -0.3858</td> <td>    0.177</td> <td>   -2.183</td> <td> 0.029</td> <td>   -0.732</td> <td>   -0.039</td>\n",
       "</tr>\n",
       "<tr>\n",
       "  <th>weekday_Thu</th>                 <td>   -0.5366</td> <td>    0.172</td> <td>   -3.121</td> <td> 0.002</td> <td>   -0.874</td> <td>   -0.200</td>\n",
       "</tr>\n",
       "<tr>\n",
       "  <th>weekday_Tue</th>                 <td>   -0.5186</td> <td>    0.174</td> <td>   -2.987</td> <td> 0.003</td> <td>   -0.859</td> <td>   -0.178</td>\n",
       "</tr>\n",
       "<tr>\n",
       "  <th>weekday_Wed</th>                 <td>   -0.4148</td> <td>    0.185</td> <td>   -2.245</td> <td> 0.025</td> <td>   -0.777</td> <td>   -0.053</td>\n",
       "</tr>\n",
       "<tr>\n",
       "  <th>place_nightclub</th>             <td>    4.1660</td> <td>    0.315</td> <td>   13.213</td> <td> 0.000</td> <td>    3.548</td> <td>    4.784</td>\n",
       "</tr>\n",
       "<tr>\n",
       "  <th>place_car_park</th>              <td>    1.3397</td> <td>    0.226</td> <td>    5.932</td> <td> 0.000</td> <td>    0.897</td> <td>    1.782</td>\n",
       "</tr>\n",
       "<tr>\n",
       "  <th>place_cloakroom</th>             <td>    3.6626</td> <td>    0.371</td> <td>    9.881</td> <td> 0.000</td> <td>    2.936</td> <td>    4.389</td>\n",
       "</tr>\n",
       "<tr>\n",
       "  <th>place_restaurant</th>            <td>    3.6081</td> <td>    0.216</td> <td>   16.685</td> <td> 0.000</td> <td>    3.184</td> <td>    4.032</td>\n",
       "</tr>\n",
       "<tr>\n",
       "  <th>place_street_square</th>         <td>    1.7116</td> <td>    0.150</td> <td>   11.394</td> <td> 0.000</td> <td>    1.417</td> <td>    2.006</td>\n",
       "</tr>\n",
       "<tr>\n",
       "  <th>place_gas_station</th>           <td>   -1.6435</td> <td>    0.728</td> <td>   -2.259</td> <td> 0.024</td> <td>   -3.070</td> <td>   -0.217</td>\n",
       "</tr>\n",
       "<tr>\n",
       "  <th>place_public_transport</th>      <td>    3.9840</td> <td>    0.297</td> <td>   13.434</td> <td> 0.000</td> <td>    3.403</td> <td>    4.565</td>\n",
       "</tr>\n",
       "<tr>\n",
       "  <th>district_Kesklinna linnaosa</th> <td>    0.4292</td> <td>    0.124</td> <td>    3.465</td> <td> 0.001</td> <td>    0.186</td> <td>    0.672</td>\n",
       "</tr>\n",
       "<tr>\n",
       "  <th>district_Mustamäe linnaosa</th>  <td>   -0.5688</td> <td>    0.275</td> <td>   -2.065</td> <td> 0.039</td> <td>   -1.109</td> <td>   -0.029</td>\n",
       "</tr>\n",
       "</table>"
      ],
      "text/plain": [
       "<class 'statsmodels.iolib.summary.Summary'>\n",
       "\"\"\"\n",
       "                           Logit Regression Results                           \n",
       "==============================================================================\n",
       "Dep. Variable:              is_mobile   No. Observations:                 2257\n",
       "Model:                          Logit   Df Residuals:                     2243\n",
       "Method:                           MLE   Df Model:                           13\n",
       "Date:                Sat, 17 Oct 2020   Pseudo R-squ.:                  0.3509\n",
       "Time:                        16:38:18   Log-Likelihood:                -1012.3\n",
       "converged:                       True   LL-Null:                       -1559.6\n",
       "Covariance Type:            nonrobust   LLR p-value:                7.802e-226\n",
       "===============================================================================================\n",
       "                                  coef    std err          z      P>|z|      [0.025      0.975]\n",
       "-----------------------------------------------------------------------------------------------\n",
       "const                          -1.8590      0.141    -13.220      0.000      -2.135      -1.583\n",
       "weekday_Mon                    -0.3858      0.177     -2.183      0.029      -0.732      -0.039\n",
       "weekday_Thu                    -0.5366      0.172     -3.121      0.002      -0.874      -0.200\n",
       "weekday_Tue                    -0.5186      0.174     -2.987      0.003      -0.859      -0.178\n",
       "weekday_Wed                    -0.4148      0.185     -2.245      0.025      -0.777      -0.053\n",
       "place_nightclub                 4.1660      0.315     13.213      0.000       3.548       4.784\n",
       "place_car_park                  1.3397      0.226      5.932      0.000       0.897       1.782\n",
       "place_cloakroom                 3.6626      0.371      9.881      0.000       2.936       4.389\n",
       "place_restaurant                3.6081      0.216     16.685      0.000       3.184       4.032\n",
       "place_street_square             1.7116      0.150     11.394      0.000       1.417       2.006\n",
       "place_gas_station              -1.6435      0.728     -2.259      0.024      -3.070      -0.217\n",
       "place_public_transport          3.9840      0.297     13.434      0.000       3.403       4.565\n",
       "district_Kesklinna linnaosa     0.4292      0.124      3.465      0.001       0.186       0.672\n",
       "district_Mustamäe linnaosa     -0.5688      0.275     -2.065      0.039      -1.109      -0.029\n",
       "===============================================================================================\n",
       "\"\"\""
      ]
     },
     "execution_count": 39,
     "metadata": {},
     "output_type": "execute_result"
    }
   ],
   "source": [
    "results_12.summary()"
   ]
  },
  {
   "cell_type": "code",
   "execution_count": 40,
   "metadata": {},
   "outputs": [
    {
     "name": "stdout",
     "output_type": "stream",
     "text": [
      "model accuracy: 0.7926\n",
      "ppv: 0.691\n",
      "npv: 0.8819\n",
      "sensitivity: 0.837\n",
      "specificity: 0.7648\n"
     ]
    },
    {
     "data": {
      "text/html": [
       "<div>\n",
       "<style scoped>\n",
       "    .dataframe tbody tr th:only-of-type {\n",
       "        vertical-align: middle;\n",
       "    }\n",
       "\n",
       "    .dataframe tbody tr th {\n",
       "        vertical-align: top;\n",
       "    }\n",
       "\n",
       "    .dataframe thead th {\n",
       "        text-align: right;\n",
       "    }\n",
       "</style>\n",
       "<table border=\"1\" class=\"dataframe\">\n",
       "  <thead>\n",
       "    <tr style=\"text-align: right;\">\n",
       "      <th></th>\n",
       "      <th>Predicted 0</th>\n",
       "      <th>Predicted 1</th>\n",
       "    </tr>\n",
       "  </thead>\n",
       "  <tbody>\n",
       "    <tr>\n",
       "      <th>Actual 0</th>\n",
       "      <td>1060.0</td>\n",
       "      <td>142.0</td>\n",
       "    </tr>\n",
       "    <tr>\n",
       "      <th>Actual 1</th>\n",
       "      <td>326.0</td>\n",
       "      <td>729.0</td>\n",
       "    </tr>\n",
       "  </tbody>\n",
       "</table>\n",
       "</div>"
      ],
      "text/plain": [
       "          Predicted 0  Predicted 1\n",
       "Actual 0       1060.0        142.0\n",
       "Actual 1        326.0        729.0"
      ]
     },
     "execution_count": 40,
     "metadata": {},
     "output_type": "execute_result"
    }
   ],
   "source": [
    "df_confusion_matrix(results_12.pred_table())"
   ]
  },
  {
   "cell_type": "markdown",
   "metadata": {},
   "source": [
    "Here we can see a much lower PPV compared to the model for 2019-2020. This means the for those years, the model was able to correctly classify about 70% of the cases connected to mobile phones."
   ]
  },
  {
   "cell_type": "markdown",
   "metadata": {},
   "source": [
    "### Testing the model"
   ]
  },
  {
   "cell_type": "code",
   "execution_count": 41,
   "metadata": {},
   "outputs": [],
   "source": [
    "new_features = list(results_12.params.index)\n",
    "new_features.remove('const')\n",
    "\n",
    "test_actual_12 = df_test_12['is_mobile']\n",
    "test_data_12 = df_test_12[new_features]\n",
    "test_data_12 = sm.add_constant(test_data_12)"
   ]
  },
  {
   "cell_type": "code",
   "execution_count": 42,
   "metadata": {},
   "outputs": [
    {
     "name": "stdout",
     "output_type": "stream",
     "text": [
      "model accuracy: 0.7858\n",
      "ppv: 0.7138\n",
      "npv: 0.8547\n",
      "sensitivity: 0.8243\n",
      "specificity: 0.7577\n"
     ]
    },
    {
     "data": {
      "text/html": [
       "<div>\n",
       "<style scoped>\n",
       "    .dataframe tbody tr th:only-of-type {\n",
       "        vertical-align: middle;\n",
       "    }\n",
       "\n",
       "    .dataframe tbody tr th {\n",
       "        vertical-align: top;\n",
       "    }\n",
       "\n",
       "    .dataframe thead th {\n",
       "        text-align: right;\n",
       "    }\n",
       "</style>\n",
       "<table border=\"1\" class=\"dataframe\">\n",
       "  <thead>\n",
       "    <tr style=\"text-align: right;\">\n",
       "      <th></th>\n",
       "      <th>Predicted 0</th>\n",
       "      <th>Predicted 1</th>\n",
       "    </tr>\n",
       "  </thead>\n",
       "  <tbody>\n",
       "    <tr>\n",
       "      <th>Actual 0</th>\n",
       "      <td>247.0</td>\n",
       "      <td>42.0</td>\n",
       "    </tr>\n",
       "    <tr>\n",
       "      <th>Actual 1</th>\n",
       "      <td>79.0</td>\n",
       "      <td>197.0</td>\n",
       "    </tr>\n",
       "  </tbody>\n",
       "</table>\n",
       "</div>"
      ],
      "text/plain": [
       "          Predicted 0  Predicted 1\n",
       "Actual 0        247.0         42.0\n",
       "Actual 1         79.0        197.0"
      ]
     },
     "execution_count": 42,
     "metadata": {},
     "output_type": "execute_result"
    }
   ],
   "source": [
    "cm_test = test_results(test_data_12, test_actual_12, results_12)\n",
    "df_confusion_matrix(cm_test)"
   ]
  },
  {
   "cell_type": "markdown",
   "metadata": {},
   "source": [
    "Testing results are very similar to training results."
   ]
  },
  {
   "cell_type": "markdown",
   "metadata": {},
   "source": [
    "# Summary"
   ]
  },
  {
   "cell_type": "markdown",
   "metadata": {},
   "source": [
    "Let's now take a look at the summary of both models. What were the significant factors that ended up in both of the models? How have they changed over time?"
   ]
  },
  {
   "cell_type": "code",
   "execution_count": 43,
   "metadata": {
    "scrolled": false
   },
   "outputs": [
    {
     "data": {
      "text/html": [
       "<div>\n",
       "<style scoped>\n",
       "    .dataframe tbody tr th:only-of-type {\n",
       "        vertical-align: middle;\n",
       "    }\n",
       "\n",
       "    .dataframe tbody tr th {\n",
       "        vertical-align: top;\n",
       "    }\n",
       "\n",
       "    .dataframe thead th {\n",
       "        text-align: right;\n",
       "    }\n",
       "</style>\n",
       "<table border=\"1\" class=\"dataframe\">\n",
       "  <thead>\n",
       "    <tr style=\"text-align: right;\">\n",
       "      <th></th>\n",
       "      <th>2012</th>\n",
       "      <th>2019</th>\n",
       "    </tr>\n",
       "  </thead>\n",
       "  <tbody>\n",
       "    <tr>\n",
       "      <th>const</th>\n",
       "      <td>-1.859018</td>\n",
       "      <td>3.238490</td>\n",
       "    </tr>\n",
       "    <tr>\n",
       "      <th>district_Kesklinna linnaosa</th>\n",
       "      <td>0.429159</td>\n",
       "      <td>-1.741017</td>\n",
       "    </tr>\n",
       "    <tr>\n",
       "      <th>district_Kristiine linnaosa</th>\n",
       "      <td>NaN</td>\n",
       "      <td>-1.829016</td>\n",
       "    </tr>\n",
       "    <tr>\n",
       "      <th>district_Lasnamäe linnaosa</th>\n",
       "      <td>NaN</td>\n",
       "      <td>-1.516064</td>\n",
       "    </tr>\n",
       "    <tr>\n",
       "      <th>district_Mustamäe linnaosa</th>\n",
       "      <td>-0.568813</td>\n",
       "      <td>-3.035289</td>\n",
       "    </tr>\n",
       "    <tr>\n",
       "      <th>district_Nõmme linnaosa</th>\n",
       "      <td>NaN</td>\n",
       "      <td>-2.337676</td>\n",
       "    </tr>\n",
       "    <tr>\n",
       "      <th>district_Pirita linnaosa</th>\n",
       "      <td>NaN</td>\n",
       "      <td>-3.048576</td>\n",
       "    </tr>\n",
       "    <tr>\n",
       "      <th>district_Põhja-Tallinna linnaosa</th>\n",
       "      <td>NaN</td>\n",
       "      <td>-1.817427</td>\n",
       "    </tr>\n",
       "    <tr>\n",
       "      <th>place_car_park</th>\n",
       "      <td>1.339720</td>\n",
       "      <td>NaN</td>\n",
       "    </tr>\n",
       "    <tr>\n",
       "      <th>place_cloakroom</th>\n",
       "      <td>3.662574</td>\n",
       "      <td>NaN</td>\n",
       "    </tr>\n",
       "    <tr>\n",
       "      <th>place_gas_station</th>\n",
       "      <td>-1.643524</td>\n",
       "      <td>-4.915890</td>\n",
       "    </tr>\n",
       "    <tr>\n",
       "      <th>place_nightclub</th>\n",
       "      <td>4.166038</td>\n",
       "      <td>NaN</td>\n",
       "    </tr>\n",
       "    <tr>\n",
       "      <th>place_public_transport</th>\n",
       "      <td>3.983992</td>\n",
       "      <td>NaN</td>\n",
       "    </tr>\n",
       "    <tr>\n",
       "      <th>place_restaurant</th>\n",
       "      <td>3.608150</td>\n",
       "      <td>NaN</td>\n",
       "    </tr>\n",
       "    <tr>\n",
       "      <th>place_shop</th>\n",
       "      <td>NaN</td>\n",
       "      <td>-4.621686</td>\n",
       "    </tr>\n",
       "    <tr>\n",
       "      <th>place_shopping_centre</th>\n",
       "      <td>NaN</td>\n",
       "      <td>-2.743851</td>\n",
       "    </tr>\n",
       "    <tr>\n",
       "      <th>place_street_square</th>\n",
       "      <td>1.711568</td>\n",
       "      <td>-1.707204</td>\n",
       "    </tr>\n",
       "    <tr>\n",
       "      <th>season_summer</th>\n",
       "      <td>NaN</td>\n",
       "      <td>0.866928</td>\n",
       "    </tr>\n",
       "    <tr>\n",
       "      <th>weekday_Mon</th>\n",
       "      <td>-0.385818</td>\n",
       "      <td>NaN</td>\n",
       "    </tr>\n",
       "    <tr>\n",
       "      <th>weekday_Sat</th>\n",
       "      <td>NaN</td>\n",
       "      <td>1.021430</td>\n",
       "    </tr>\n",
       "    <tr>\n",
       "      <th>weekday_Thu</th>\n",
       "      <td>-0.536559</td>\n",
       "      <td>NaN</td>\n",
       "    </tr>\n",
       "    <tr>\n",
       "      <th>weekday_Tue</th>\n",
       "      <td>-0.518648</td>\n",
       "      <td>NaN</td>\n",
       "    </tr>\n",
       "    <tr>\n",
       "      <th>weekday_Wed</th>\n",
       "      <td>-0.414761</td>\n",
       "      <td>NaN</td>\n",
       "    </tr>\n",
       "  </tbody>\n",
       "</table>\n",
       "</div>"
      ],
      "text/plain": [
       "                                      2012      2019\n",
       "const                            -1.859018  3.238490\n",
       "district_Kesklinna linnaosa       0.429159 -1.741017\n",
       "district_Kristiine linnaosa            NaN -1.829016\n",
       "district_Lasnamäe linnaosa             NaN -1.516064\n",
       "district_Mustamäe linnaosa       -0.568813 -3.035289\n",
       "district_Nõmme linnaosa                NaN -2.337676\n",
       "district_Pirita linnaosa               NaN -3.048576\n",
       "district_Põhja-Tallinna linnaosa       NaN -1.817427\n",
       "place_car_park                    1.339720       NaN\n",
       "place_cloakroom                   3.662574       NaN\n",
       "place_gas_station                -1.643524 -4.915890\n",
       "place_nightclub                   4.166038       NaN\n",
       "place_public_transport            3.983992       NaN\n",
       "place_restaurant                  3.608150       NaN\n",
       "place_shop                             NaN -4.621686\n",
       "place_shopping_centre                  NaN -2.743851\n",
       "place_street_square               1.711568 -1.707204\n",
       "season_summer                          NaN  0.866928\n",
       "weekday_Mon                      -0.385818       NaN\n",
       "weekday_Sat                            NaN  1.021430\n",
       "weekday_Thu                      -0.536559       NaN\n",
       "weekday_Tue                      -0.518648       NaN\n",
       "weekday_Wed                      -0.414761       NaN"
      ]
     },
     "execution_count": 43,
     "metadata": {},
     "output_type": "execute_result"
    }
   ],
   "source": [
    "summary_12 = pd.DataFrame(data=results_12.params.rename(2012))\n",
    "summary_19 = pd.DataFrame(data=results_19.params.rename(2019))\n",
    "\n",
    "summary = summary_12.merge(summary_19, right_index=True, left_index=True, how='outer')\n",
    "summary"
   ]
  },
  {
   "cell_type": "markdown",
   "metadata": {},
   "source": [
    "Here are also the benchmarka for the dummy variables. Kauplus means shop and bussipeatus is bus stop."
   ]
  },
  {
   "cell_type": "code",
   "execution_count": 44,
   "metadata": {},
   "outputs": [
    {
     "name": "stdout",
     "output_type": "stream",
     "text": [
      "['Fri', 'KAUPLUS', 'Haabersti linnaosa', 'autumn', 'day']\n",
      "['Fri', 'BUSSIPEATUS', 'Haabersti linnaosa', 'autumn', 'day']\n"
     ]
    }
   ],
   "source": [
    "print(benchmarks_12)\n",
    "print(benchmarks_19)"
   ]
  },
  {
   "cell_type": "markdown",
   "metadata": {},
   "source": [
    "## Conclusion\n",
    "\n",
    "* It used to be that being in the city centre increased the odds of having your mobile phone stolen. These days, it is not so.\n",
    "* There also used to be a number of places which increased the odds of having your phone stolen: car park, cloakroom, nightclub, public transport, restaurant, street. Today, none of those place have any meaningful impact on the odds any more.\n",
    "* During 2019-2020, summertime and Saturday are increasing the odds. There used to be no difference in the season, and Mon-Thu decreased the odds (the baseline was Friday).\n",
    "* Time of day (day/night) plays no significant role in neither of the time periods."
   ]
  },
  {
   "cell_type": "code",
   "execution_count": null,
   "metadata": {},
   "outputs": [],
   "source": []
  }
 ],
 "metadata": {
  "kernelspec": {
   "display_name": "Python 3",
   "language": "python",
   "name": "python3"
  },
  "language_info": {
   "codemirror_mode": {
    "name": "ipython",
    "version": 3
   },
   "file_extension": ".py",
   "mimetype": "text/x-python",
   "name": "python",
   "nbconvert_exporter": "python",
   "pygments_lexer": "ipython3",
   "version": "3.7.6"
  }
 },
 "nbformat": 4,
 "nbformat_minor": 4
}
