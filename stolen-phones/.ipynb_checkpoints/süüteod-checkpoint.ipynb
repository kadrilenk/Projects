{
 "cells": [
  {
   "cell_type": "code",
   "execution_count": 1,
   "metadata": {},
   "outputs": [],
   "source": [
    "import pandas as pd\n",
    "import numpy as np\n",
    "import re\n",
    "import statsmodels.api as sm\n",
    "from sklearn.model_selection import train_test_split"
   ]
  },
  {
   "cell_type": "markdown",
   "metadata": {},
   "source": [
    "# Read in the data"
   ]
  },
  {
   "cell_type": "code",
   "execution_count": 2,
   "metadata": {},
   "outputs": [],
   "source": [
    "df_1 = pd.read_csv('avalik_1.csv', sep='\\t')\n",
    "df_2 = pd.read_csv('avalik_2.csv', sep='\\t')\n",
    "df_3 = pd.read_csv('avalik_3.csv', sep='\\t')"
   ]
  },
  {
   "cell_type": "code",
   "execution_count": 3,
   "metadata": {},
   "outputs": [],
   "source": [
    "df = df_1.append(df_2).append(df_3)\n",
    "df = df.drop_duplicates()"
   ]
  },
  {
   "cell_type": "code",
   "execution_count": 4,
   "metadata": {},
   "outputs": [],
   "source": [
    "df['ToimKpv'] = pd.to_datetime(df['ToimKpv'])\n",
    "# df = df.loc[df['ToimKpv']>='2019']"
   ]
  },
  {
   "cell_type": "markdown",
   "metadata": {},
   "source": [
    "# Clean the data"
   ]
  },
  {
   "cell_type": "code",
   "execution_count": 5,
   "metadata": {},
   "outputs": [],
   "source": [
    "# only keep Tallinn\n",
    "df = df.loc[df['ValdLinnNimetus'].str.contains('Tallinn', regex=True, na=False)]\n",
    "df = df.loc[df['KohtNimetus'].str.contains('linnaosa', regex=True, na=False)]"
   ]
  },
  {
   "cell_type": "code",
   "execution_count": 6,
   "metadata": {},
   "outputs": [],
   "source": [
    "# only interested in mobile phones\n",
    "df['is_mobile'] = np.where(df['SyndmusTaiendavStatLiik'].str.contains('MOBIIL', na=False), 1, 0)\n",
    "# df['is_bike'] = np.where(df['SyndmusTaiendavStatLiik'].str.contains('jalgrat', flags=re.IGNORECASE, regex=True, na=False), 1, 0)\n",
    "# drop roweś were botth bike and mobile are 1\n",
    "# df = df.loc[~((df['is_mobile']==1)&(df['is_bike']==1))]"
   ]
  },
  {
   "cell_type": "code",
   "execution_count": 7,
   "metadata": {},
   "outputs": [],
   "source": [
    "# only keep necessary columns\n",
    "df = df[['ToimKpv', 'ToimKell', 'ToimNadalapaev', 'KohtLiik', 'KohtNimetus', 'is_mobile']]\n",
    "\n",
    "# translate columns\n",
    "df = df.rename(columns={'ToimKpv':'date', 'ToimKell':'time', 'ToimNadalapaev':'weekday', \n",
    "                        'KohtLiik':'place', 'KohtNimetus':'district'})\n",
    "\n",
    "for col in ['weekday', 'place', 'district']:\n",
    "    df[col] = df[col].str.strip()\n",
    "\n",
    "df = df.dropna()"
   ]
  },
  {
   "cell_type": "code",
   "execution_count": 8,
   "metadata": {},
   "outputs": [],
   "source": [
    "# remove too generic place values\n",
    "for value in ['AVALIK_KOHT', 'TANAV_VALJAK', 'MUU KOHT', 'MUU RUUM']:\n",
    "    df['place'] = df['place'].str.replace(value+',','')\n",
    "    df['place'] = df['place'].str.replace(','+value,'')\n",
    "\n",
    "# if there are muliple places, keep the first one\n",
    "df['place'] = np.where(df['place'].str.contains(','),\n",
    "                       df['place'].str.extract('^(\\w+),')[0],\n",
    "                       df['place'])\n",
    "\n",
    "# only keep the top results\n",
    "top_places = df['place'].value_counts().head(8).index\n",
    "df = df.loc[df['place'].isin(top_places)]"
   ]
  },
  {
   "cell_type": "code",
   "execution_count": 9,
   "metadata": {},
   "outputs": [],
   "source": [
    "# df['district'] = np.where(df['district']=='Kesklinna linnaosa','centre','not_centre')"
   ]
  },
  {
   "cell_type": "code",
   "execution_count": 10,
   "metadata": {},
   "outputs": [],
   "source": [
    "# translated weekdays\n",
    "df['weekday'] = df['weekday'].map({'Esmaspäev':'Mon', 'Teisipäev':'Tue', 'Kolmapäev':'Wed', \n",
    "                                   'Neljapäev':'Thu', 'Reede':'Fri', 'Laupäev':'Sat', 'Pühapäev':'Sun'})\n",
    "# df['weekday'] = df['weekday'].map({'Esmaspäev':'weekday', 'Teisipäev':'weekday',\n",
    "#                                    'Kolmapäev':'weekday', 'Neljapäev':'weekday', \n",
    "#                                    'Reede':'weekday', 'Laupäev':'weekend', 'Pühapäev':'weekend'})"
   ]
  },
  {
   "cell_type": "code",
   "execution_count": 11,
   "metadata": {
    "scrolled": true
   },
   "outputs": [],
   "source": [
    "df['month'] = pd.to_datetime(df['date']).dt.month_name()\n",
    "\n",
    "df['season'] = df['month'].map({'December':'winter','January':'winter', 'February':'winter',\n",
    "                                'March':'spring', 'April':'spring', 'May':'spring',\n",
    "                                'June':'summer', 'July':'summer', 'August':'summer',\n",
    "                                'September':'autumn', 'October':'autumn', 'November':'autumn'})\n",
    "\n",
    "df['hour'] = pd.to_datetime(df['time'], format='%H:%M').dt.hour\n",
    "df['time_of_day'] = np.where((df['hour']>=6)&(df['hour']<=17),'day','night')\n",
    "\n",
    "df = df.drop(columns=['hour', 'time', 'month'])"
   ]
  },
  {
   "cell_type": "code",
   "execution_count": 12,
   "metadata": {},
   "outputs": [],
   "source": [
    "df = df.reset_index(drop=True)"
   ]
  },
  {
   "cell_type": "code",
   "execution_count": 13,
   "metadata": {},
   "outputs": [
    {
     "name": "stdout",
     "output_type": "stream",
     "text": [
      "7458\n"
     ]
    },
    {
     "data": {
      "text/html": [
       "<div>\n",
       "<style scoped>\n",
       "    .dataframe tbody tr th:only-of-type {\n",
       "        vertical-align: middle;\n",
       "    }\n",
       "\n",
       "    .dataframe tbody tr th {\n",
       "        vertical-align: top;\n",
       "    }\n",
       "\n",
       "    .dataframe thead th {\n",
       "        text-align: right;\n",
       "    }\n",
       "</style>\n",
       "<table border=\"1\" class=\"dataframe\">\n",
       "  <thead>\n",
       "    <tr style=\"text-align: right;\">\n",
       "      <th></th>\n",
       "      <th>date</th>\n",
       "      <th>weekday</th>\n",
       "      <th>place</th>\n",
       "      <th>district</th>\n",
       "      <th>is_mobile</th>\n",
       "      <th>season</th>\n",
       "      <th>time_of_day</th>\n",
       "    </tr>\n",
       "  </thead>\n",
       "  <tbody>\n",
       "    <tr>\n",
       "      <th>0</th>\n",
       "      <td>2020-09-24</td>\n",
       "      <td>Thu</td>\n",
       "      <td>KAUPLUS</td>\n",
       "      <td>Lasnamäe linnaosa</td>\n",
       "      <td>0</td>\n",
       "      <td>autumn</td>\n",
       "      <td>night</td>\n",
       "    </tr>\n",
       "    <tr>\n",
       "      <th>1</th>\n",
       "      <td>2020-09-23</td>\n",
       "      <td>Wed</td>\n",
       "      <td>KAUPLUS</td>\n",
       "      <td>Haabersti linnaosa</td>\n",
       "      <td>0</td>\n",
       "      <td>autumn</td>\n",
       "      <td>night</td>\n",
       "    </tr>\n",
       "    <tr>\n",
       "      <th>2</th>\n",
       "      <td>2020-09-23</td>\n",
       "      <td>Wed</td>\n",
       "      <td>KAUPLUS</td>\n",
       "      <td>Mustamäe linnaosa</td>\n",
       "      <td>0</td>\n",
       "      <td>autumn</td>\n",
       "      <td>night</td>\n",
       "    </tr>\n",
       "    <tr>\n",
       "      <th>3</th>\n",
       "      <td>2020-09-23</td>\n",
       "      <td>Wed</td>\n",
       "      <td>SOOGIKOHT</td>\n",
       "      <td>Põhja-Tallinna linnaosa</td>\n",
       "      <td>1</td>\n",
       "      <td>autumn</td>\n",
       "      <td>night</td>\n",
       "    </tr>\n",
       "    <tr>\n",
       "      <th>4</th>\n",
       "      <td>2020-09-23</td>\n",
       "      <td>Wed</td>\n",
       "      <td>TANAV_VALJAK</td>\n",
       "      <td>Kesklinna linnaosa</td>\n",
       "      <td>0</td>\n",
       "      <td>autumn</td>\n",
       "      <td>day</td>\n",
       "    </tr>\n",
       "  </tbody>\n",
       "</table>\n",
       "</div>"
      ],
      "text/plain": [
       "        date weekday         place                 district  is_mobile  \\\n",
       "0 2020-09-24     Thu       KAUPLUS        Lasnamäe linnaosa          0   \n",
       "1 2020-09-23     Wed       KAUPLUS       Haabersti linnaosa          0   \n",
       "2 2020-09-23     Wed       KAUPLUS        Mustamäe linnaosa          0   \n",
       "3 2020-09-23     Wed     SOOGIKOHT  Põhja-Tallinna linnaosa          1   \n",
       "4 2020-09-23     Wed  TANAV_VALJAK       Kesklinna linnaosa          0   \n",
       "\n",
       "   season time_of_day  \n",
       "0  autumn       night  \n",
       "1  autumn       night  \n",
       "2  autumn       night  \n",
       "3  autumn       night  \n",
       "4  autumn         day  "
      ]
     },
     "execution_count": 13,
     "metadata": {},
     "output_type": "execute_result"
    }
   ],
   "source": [
    "print(len(df))\n",
    "df.head()"
   ]
  },
  {
   "cell_type": "markdown",
   "metadata": {},
   "source": [
    "# Regression 2019-2020"
   ]
  },
  {
   "cell_type": "code",
   "execution_count": null,
   "metadata": {},
   "outputs": [],
   "source": [
    "df_2019 = df.loc[df['date']>='2019']"
   ]
  },
  {
   "cell_type": "code",
   "execution_count": 14,
   "metadata": {},
   "outputs": [],
   "source": [
    "df_with_dummies = pd.get_dummies(df, drop_first=True)"
   ]
  },
  {
   "cell_type": "code",
   "execution_count": 15,
   "metadata": {},
   "outputs": [],
   "source": [
    "features = list(df_with_dummies.columns)\n",
    "features.remove('is_mobile')\n",
    "features.remove('date')"
   ]
  },
  {
   "cell_type": "code",
   "execution_count": 16,
   "metadata": {},
   "outputs": [],
   "source": [
    "df_train, df_test = train_test_split(df_with_dummies, test_size=0.2, random_state=42)"
   ]
  },
  {
   "cell_type": "code",
   "execution_count": 17,
   "metadata": {
    "scrolled": false
   },
   "outputs": [
    {
     "name": "stdout",
     "output_type": "stream",
     "text": [
      "Optimization terminated successfully.\n",
      "         Current function value: 0.106940\n",
      "         Iterations 10\n"
     ]
    },
    {
     "data": {
      "text/html": [
       "<table class=\"simpletable\">\n",
       "<caption>Logit Regression Results</caption>\n",
       "<tr>\n",
       "  <th>Dep. Variable:</th>       <td>is_mobile</td>    <th>  No. Observations:  </th>  <td>  5966</td>  \n",
       "</tr>\n",
       "<tr>\n",
       "  <th>Model:</th>                 <td>Logit</td>      <th>  Df Residuals:      </th>  <td>  5941</td>  \n",
       "</tr>\n",
       "<tr>\n",
       "  <th>Method:</th>                 <td>MLE</td>       <th>  Df Model:          </th>  <td>    24</td>  \n",
       "</tr>\n",
       "<tr>\n",
       "  <th>Date:</th>            <td>Tue, 29 Sep 2020</td> <th>  Pseudo R-squ.:     </th>  <td>0.2770</td>  \n",
       "</tr>\n",
       "<tr>\n",
       "  <th>Time:</th>                <td>23:50:02</td>     <th>  Log-Likelihood:    </th> <td> -638.01</td> \n",
       "</tr>\n",
       "<tr>\n",
       "  <th>converged:</th>             <td>True</td>       <th>  LL-Null:           </th> <td> -882.43</td> \n",
       "</tr>\n",
       "<tr>\n",
       "  <th>Covariance Type:</th>     <td>nonrobust</td>    <th>  LLR p-value:       </th> <td>3.455e-88</td>\n",
       "</tr>\n",
       "</table>\n",
       "<table class=\"simpletable\">\n",
       "<tr>\n",
       "                  <td></td>                    <th>coef</th>     <th>std err</th>      <th>z</th>      <th>P>|z|</th>  <th>[0.025</th>    <th>0.975]</th>  \n",
       "</tr>\n",
       "<tr>\n",
       "  <th>const</th>                            <td>   -2.6447</td> <td>    0.562</td> <td>   -4.702</td> <td> 0.000</td> <td>   -3.747</td> <td>   -1.542</td>\n",
       "</tr>\n",
       "<tr>\n",
       "  <th>weekday_Mon</th>                      <td>   -0.1915</td> <td>    0.325</td> <td>   -0.590</td> <td> 0.555</td> <td>   -0.828</td> <td>    0.445</td>\n",
       "</tr>\n",
       "<tr>\n",
       "  <th>weekday_Sat</th>                      <td>    0.5948</td> <td>    0.251</td> <td>    2.369</td> <td> 0.018</td> <td>    0.103</td> <td>    1.087</td>\n",
       "</tr>\n",
       "<tr>\n",
       "  <th>weekday_Sun</th>                      <td>    0.2900</td> <td>    0.265</td> <td>    1.095</td> <td> 0.274</td> <td>   -0.229</td> <td>    0.809</td>\n",
       "</tr>\n",
       "<tr>\n",
       "  <th>weekday_Thu</th>                      <td>   -0.4333</td> <td>    0.334</td> <td>   -1.297</td> <td> 0.195</td> <td>   -1.088</td> <td>    0.222</td>\n",
       "</tr>\n",
       "<tr>\n",
       "  <th>weekday_Tue</th>                      <td>   -0.5920</td> <td>    0.349</td> <td>   -1.697</td> <td> 0.090</td> <td>   -1.276</td> <td>    0.092</td>\n",
       "</tr>\n",
       "<tr>\n",
       "  <th>weekday_Wed</th>                      <td>   -0.2320</td> <td>    0.320</td> <td>   -0.726</td> <td> 0.468</td> <td>   -0.859</td> <td>    0.395</td>\n",
       "</tr>\n",
       "<tr>\n",
       "  <th>place_KAUBAMAJA</th>                  <td>   -1.9286</td> <td>    0.797</td> <td>   -2.421</td> <td> 0.015</td> <td>   -3.490</td> <td>   -0.367</td>\n",
       "</tr>\n",
       "<tr>\n",
       "  <th>place_KAUPLUS</th>                    <td>   -2.3934</td> <td>    0.403</td> <td>   -5.941</td> <td> 0.000</td> <td>   -3.183</td> <td>   -1.604</td>\n",
       "</tr>\n",
       "<tr>\n",
       "  <th>place_PARKLA</th>                     <td>   -0.9435</td> <td>    0.565</td> <td>   -1.670</td> <td> 0.095</td> <td>   -2.051</td> <td>    0.164</td>\n",
       "</tr>\n",
       "<tr>\n",
       "  <th>place_SOOGIKOHT</th>                  <td>    1.5705</td> <td>    0.371</td> <td>    4.232</td> <td> 0.000</td> <td>    0.843</td> <td>    2.298</td>\n",
       "</tr>\n",
       "<tr>\n",
       "  <th>place_TANAV_VALJAK</th>               <td>   -0.1284</td> <td>    0.357</td> <td>   -0.359</td> <td> 0.719</td> <td>   -0.829</td> <td>    0.572</td>\n",
       "</tr>\n",
       "<tr>\n",
       "  <th>place_TANKLA</th>                     <td>   -2.7516</td> <td>    1.058</td> <td>   -2.600</td> <td> 0.009</td> <td>   -4.825</td> <td>   -0.678</td>\n",
       "</tr>\n",
       "<tr>\n",
       "  <th>place_UHISSOIDUK</th>                 <td>    1.5905</td> <td>    0.422</td> <td>    3.766</td> <td> 0.000</td> <td>    0.763</td> <td>    2.418</td>\n",
       "</tr>\n",
       "<tr>\n",
       "  <th>district_Kesklinna linnaosa</th>      <td>   -0.1046</td> <td>    0.423</td> <td>   -0.247</td> <td> 0.805</td> <td>   -0.934</td> <td>    0.725</td>\n",
       "</tr>\n",
       "<tr>\n",
       "  <th>district_Kristiine linnaosa</th>      <td>   -0.1879</td> <td>    0.548</td> <td>   -0.343</td> <td> 0.732</td> <td>   -1.263</td> <td>    0.887</td>\n",
       "</tr>\n",
       "<tr>\n",
       "  <th>district_Lasnamäe linnaosa</th>       <td>   -0.5302</td> <td>    0.447</td> <td>   -1.185</td> <td> 0.236</td> <td>   -1.407</td> <td>    0.347</td>\n",
       "</tr>\n",
       "<tr>\n",
       "  <th>district_Mustamäe linnaosa</th>       <td>   -0.5544</td> <td>    0.517</td> <td>   -1.073</td> <td> 0.283</td> <td>   -1.567</td> <td>    0.458</td>\n",
       "</tr>\n",
       "<tr>\n",
       "  <th>district_Nõmme linnaosa</th>          <td>    0.4126</td> <td>    0.600</td> <td>    0.688</td> <td> 0.492</td> <td>   -0.763</td> <td>    1.589</td>\n",
       "</tr>\n",
       "<tr>\n",
       "  <th>district_Pirita linnaosa</th>         <td>   -1.3833</td> <td>    1.124</td> <td>   -1.230</td> <td> 0.219</td> <td>   -3.587</td> <td>    0.820</td>\n",
       "</tr>\n",
       "<tr>\n",
       "  <th>district_Põhja-Tallinna linnaosa</th> <td>   -0.1521</td> <td>    0.439</td> <td>   -0.346</td> <td> 0.729</td> <td>   -1.013</td> <td>    0.709</td>\n",
       "</tr>\n",
       "<tr>\n",
       "  <th>season_spring</th>                    <td>   -0.4911</td> <td>    0.269</td> <td>   -1.823</td> <td> 0.068</td> <td>   -1.019</td> <td>    0.037</td>\n",
       "</tr>\n",
       "<tr>\n",
       "  <th>season_summer</th>                    <td>    0.4366</td> <td>    0.218</td> <td>    1.999</td> <td> 0.046</td> <td>    0.009</td> <td>    0.865</td>\n",
       "</tr>\n",
       "<tr>\n",
       "  <th>season_winter</th>                    <td>    0.0466</td> <td>    0.247</td> <td>    0.189</td> <td> 0.850</td> <td>   -0.437</td> <td>    0.531</td>\n",
       "</tr>\n",
       "<tr>\n",
       "  <th>time_of_day_night</th>                <td>    0.1782</td> <td>    0.165</td> <td>    1.080</td> <td> 0.280</td> <td>   -0.145</td> <td>    0.502</td>\n",
       "</tr>\n",
       "</table>"
      ],
      "text/plain": [
       "<class 'statsmodels.iolib.summary.Summary'>\n",
       "\"\"\"\n",
       "                           Logit Regression Results                           \n",
       "==============================================================================\n",
       "Dep. Variable:              is_mobile   No. Observations:                 5966\n",
       "Model:                          Logit   Df Residuals:                     5941\n",
       "Method:                           MLE   Df Model:                           24\n",
       "Date:                Tue, 29 Sep 2020   Pseudo R-squ.:                  0.2770\n",
       "Time:                        23:50:02   Log-Likelihood:                -638.01\n",
       "converged:                       True   LL-Null:                       -882.43\n",
       "Covariance Type:            nonrobust   LLR p-value:                 3.455e-88\n",
       "====================================================================================================\n",
       "                                       coef    std err          z      P>|z|      [0.025      0.975]\n",
       "----------------------------------------------------------------------------------------------------\n",
       "const                               -2.6447      0.562     -4.702      0.000      -3.747      -1.542\n",
       "weekday_Mon                         -0.1915      0.325     -0.590      0.555      -0.828       0.445\n",
       "weekday_Sat                          0.5948      0.251      2.369      0.018       0.103       1.087\n",
       "weekday_Sun                          0.2900      0.265      1.095      0.274      -0.229       0.809\n",
       "weekday_Thu                         -0.4333      0.334     -1.297      0.195      -1.088       0.222\n",
       "weekday_Tue                         -0.5920      0.349     -1.697      0.090      -1.276       0.092\n",
       "weekday_Wed                         -0.2320      0.320     -0.726      0.468      -0.859       0.395\n",
       "place_KAUBAMAJA                     -1.9286      0.797     -2.421      0.015      -3.490      -0.367\n",
       "place_KAUPLUS                       -2.3934      0.403     -5.941      0.000      -3.183      -1.604\n",
       "place_PARKLA                        -0.9435      0.565     -1.670      0.095      -2.051       0.164\n",
       "place_SOOGIKOHT                      1.5705      0.371      4.232      0.000       0.843       2.298\n",
       "place_TANAV_VALJAK                  -0.1284      0.357     -0.359      0.719      -0.829       0.572\n",
       "place_TANKLA                        -2.7516      1.058     -2.600      0.009      -4.825      -0.678\n",
       "place_UHISSOIDUK                     1.5905      0.422      3.766      0.000       0.763       2.418\n",
       "district_Kesklinna linnaosa         -0.1046      0.423     -0.247      0.805      -0.934       0.725\n",
       "district_Kristiine linnaosa         -0.1879      0.548     -0.343      0.732      -1.263       0.887\n",
       "district_Lasnamäe linnaosa          -0.5302      0.447     -1.185      0.236      -1.407       0.347\n",
       "district_Mustamäe linnaosa          -0.5544      0.517     -1.073      0.283      -1.567       0.458\n",
       "district_Nõmme linnaosa              0.4126      0.600      0.688      0.492      -0.763       1.589\n",
       "district_Pirita linnaosa            -1.3833      1.124     -1.230      0.219      -3.587       0.820\n",
       "district_Põhja-Tallinna linnaosa    -0.1521      0.439     -0.346      0.729      -1.013       0.709\n",
       "season_spring                       -0.4911      0.269     -1.823      0.068      -1.019       0.037\n",
       "season_summer                        0.4366      0.218      1.999      0.046       0.009       0.865\n",
       "season_winter                        0.0466      0.247      0.189      0.850      -0.437       0.531\n",
       "time_of_day_night                    0.1782      0.165      1.080      0.280      -0.145       0.502\n",
       "====================================================================================================\n",
       "\"\"\""
      ]
     },
     "execution_count": 17,
     "metadata": {},
     "output_type": "execute_result"
    }
   ],
   "source": [
    "y = df_train['is_mobile']\n",
    "x1 = df_train[features]\n",
    "\n",
    "x = sm.add_constant(x1)\n",
    "regression = sm.Logit(y,x).fit()\n",
    "\n",
    "regression.summary()"
   ]
  },
  {
   "cell_type": "markdown",
   "metadata": {},
   "source": [
    "### Removing insignificant features"
   ]
  },
  {
   "cell_type": "code",
   "execution_count": 18,
   "metadata": {},
   "outputs": [
    {
     "name": "stdout",
     "output_type": "stream",
     "text": [
      "Optimization terminated successfully.\n",
      "         Current function value: 0.109471\n",
      "         Iterations 10\n",
      "Optimization terminated successfully.\n",
      "         Current function value: 0.109471\n",
      "         Iterations 10\n"
     ]
    }
   ],
   "source": [
    "to_remove = [1]\n",
    "\n",
    "while len(to_remove) > 0:\n",
    "    data = regression.pvalues\n",
    "    \n",
    "    new_features = list(data.loc[data<0.05].index)\n",
    "    if 'const' in new_features: new_features.remove('const')\n",
    "    \n",
    "    y = df_train['is_mobile']\n",
    "    x1 = df_train[new_features]\n",
    "\n",
    "    x = sm.add_constant(x1)\n",
    "    regression = sm.Logit(y,x).fit()\n",
    "    \n",
    "    to_remove = list(data.loc[data>=0.05].index)\n",
    "    if 'const' in to_remove: to_remove.remove('const')"
   ]
  },
  {
   "cell_type": "code",
   "execution_count": 19,
   "metadata": {},
   "outputs": [
    {
     "name": "stdout",
     "output_type": "stream",
     "text": [
      "Optimization terminated successfully.\n",
      "         Current function value: 0.109471\n",
      "         Iterations 10\n"
     ]
    },
    {
     "data": {
      "text/html": [
       "<table class=\"simpletable\">\n",
       "<caption>Logit Regression Results</caption>\n",
       "<tr>\n",
       "  <th>Dep. Variable:</th>       <td>is_mobile</td>    <th>  No. Observations:  </th>  <td>  5966</td>  \n",
       "</tr>\n",
       "<tr>\n",
       "  <th>Model:</th>                 <td>Logit</td>      <th>  Df Residuals:      </th>  <td>  5958</td>  \n",
       "</tr>\n",
       "<tr>\n",
       "  <th>Method:</th>                 <td>MLE</td>       <th>  Df Model:          </th>  <td>     7</td>  \n",
       "</tr>\n",
       "<tr>\n",
       "  <th>Date:</th>            <td>Tue, 29 Sep 2020</td> <th>  Pseudo R-squ.:     </th>  <td>0.2599</td>  \n",
       "</tr>\n",
       "<tr>\n",
       "  <th>Time:</th>                <td>23:50:02</td>     <th>  Log-Likelihood:    </th> <td> -653.10</td> \n",
       "</tr>\n",
       "<tr>\n",
       "  <th>converged:</th>             <td>True</td>       <th>  LL-Null:           </th> <td> -882.43</td> \n",
       "</tr>\n",
       "<tr>\n",
       "  <th>Covariance Type:</th>     <td>nonrobust</td>    <th>  LLR p-value:       </th> <td>6.187e-95</td>\n",
       "</tr>\n",
       "</table>\n",
       "<table class=\"simpletable\">\n",
       "<tr>\n",
       "          <td></td>            <th>coef</th>     <th>std err</th>      <th>z</th>      <th>P>|z|</th>  <th>[0.025</th>    <th>0.975]</th>  \n",
       "</tr>\n",
       "<tr>\n",
       "  <th>const</th>            <td>   -3.2464</td> <td>    0.143</td> <td>  -22.628</td> <td> 0.000</td> <td>   -3.528</td> <td>   -2.965</td>\n",
       "</tr>\n",
       "<tr>\n",
       "  <th>weekday_Sat</th>      <td>    0.6835</td> <td>    0.174</td> <td>    3.938</td> <td> 0.000</td> <td>    0.343</td> <td>    1.024</td>\n",
       "</tr>\n",
       "<tr>\n",
       "  <th>place_KAUBAMAJA</th>  <td>   -1.6990</td> <td>    0.720</td> <td>   -2.358</td> <td> 0.018</td> <td>   -3.111</td> <td>   -0.287</td>\n",
       "</tr>\n",
       "<tr>\n",
       "  <th>place_KAUPLUS</th>    <td>   -2.2795</td> <td>    0.252</td> <td>   -9.060</td> <td> 0.000</td> <td>   -2.773</td> <td>   -1.786</td>\n",
       "</tr>\n",
       "<tr>\n",
       "  <th>place_SOOGIKOHT</th>  <td>    1.9210</td> <td>    0.181</td> <td>   10.589</td> <td> 0.000</td> <td>    1.565</td> <td>    2.277</td>\n",
       "</tr>\n",
       "<tr>\n",
       "  <th>place_TANKLA</th>     <td>   -2.6135</td> <td>    1.009</td> <td>   -2.591</td> <td> 0.010</td> <td>   -4.591</td> <td>   -0.636</td>\n",
       "</tr>\n",
       "<tr>\n",
       "  <th>place_UHISSOIDUK</th> <td>    1.7555</td> <td>    0.274</td> <td>    6.413</td> <td> 0.000</td> <td>    1.219</td> <td>    2.292</td>\n",
       "</tr>\n",
       "<tr>\n",
       "  <th>season_summer</th>    <td>    0.6012</td> <td>    0.157</td> <td>    3.838</td> <td> 0.000</td> <td>    0.294</td> <td>    0.908</td>\n",
       "</tr>\n",
       "</table>"
      ],
      "text/plain": [
       "<class 'statsmodels.iolib.summary.Summary'>\n",
       "\"\"\"\n",
       "                           Logit Regression Results                           \n",
       "==============================================================================\n",
       "Dep. Variable:              is_mobile   No. Observations:                 5966\n",
       "Model:                          Logit   Df Residuals:                     5958\n",
       "Method:                           MLE   Df Model:                            7\n",
       "Date:                Tue, 29 Sep 2020   Pseudo R-squ.:                  0.2599\n",
       "Time:                        23:50:02   Log-Likelihood:                -653.10\n",
       "converged:                       True   LL-Null:                       -882.43\n",
       "Covariance Type:            nonrobust   LLR p-value:                 6.187e-95\n",
       "====================================================================================\n",
       "                       coef    std err          z      P>|z|      [0.025      0.975]\n",
       "------------------------------------------------------------------------------------\n",
       "const               -3.2464      0.143    -22.628      0.000      -3.528      -2.965\n",
       "weekday_Sat          0.6835      0.174      3.938      0.000       0.343       1.024\n",
       "place_KAUBAMAJA     -1.6990      0.720     -2.358      0.018      -3.111      -0.287\n",
       "place_KAUPLUS       -2.2795      0.252     -9.060      0.000      -2.773      -1.786\n",
       "place_SOOGIKOHT      1.9210      0.181     10.589      0.000       1.565       2.277\n",
       "place_TANKLA        -2.6135      1.009     -2.591      0.010      -4.591      -0.636\n",
       "place_UHISSOIDUK     1.7555      0.274      6.413      0.000       1.219       2.292\n",
       "season_summer        0.6012      0.157      3.838      0.000       0.294       0.908\n",
       "====================================================================================\n",
       "\"\"\""
      ]
     },
     "execution_count": 19,
     "metadata": {},
     "output_type": "execute_result"
    }
   ],
   "source": [
    "y = df_train['is_mobile']\n",
    "x1 = df_train[new_features]\n",
    "\n",
    "x = sm.add_constant(x1)\n",
    "regression = sm.Logit(y,x).fit()\n",
    "\n",
    "regression.summary()"
   ]
  },
  {
   "cell_type": "code",
   "execution_count": 20,
   "metadata": {},
   "outputs": [],
   "source": [
    "# const\t-3.2464\t0.143\t-22.628\t0.000\t-3.528\t-2.965\n",
    "# weekday_Sat\t0.6835\t0.174\t3.938\t0.000\t0.343\t1.024\n",
    "# place_KAUBAMAJA\t-1.6990\t0.720\t-2.358\t0.018\t-3.111\t-0.287\n",
    "# place_KAUPLUS\t-2.2795\t0.252\t-9.060\t0.000\t-2.773\t-1.786\n",
    "# place_SOOGIKOHT\t1.9210\t0.181\t10.589\t0.000\t1.565\t2.277\n",
    "# place_TANKLA\t-2.6135\t1.009\t-2.591\t0.010\t-4.591\t-0.636\n",
    "# place_UHISSOIDUK\t1.7555\t0.274\t6.413\t0.000\t1.219\t2.292\n",
    "# season_summer\t0.6012\t0.157\t3.838\t0.000\t0.294\t0.908"
   ]
  },
  {
   "cell_type": "code",
   "execution_count": 21,
   "metadata": {},
   "outputs": [],
   "source": [
    "# lesson 229"
   ]
  },
  {
   "cell_type": "code",
   "execution_count": null,
   "metadata": {},
   "outputs": [],
   "source": []
  }
 ],
 "metadata": {
  "kernelspec": {
   "display_name": "Python 3",
   "language": "python",
   "name": "python3"
  },
  "language_info": {
   "codemirror_mode": {
    "name": "ipython",
    "version": 3
   },
   "file_extension": ".py",
   "mimetype": "text/x-python",
   "name": "python",
   "nbconvert_exporter": "python",
   "pygments_lexer": "ipython3",
   "version": "3.7.6"
  }
 },
 "nbformat": 4,
 "nbformat_minor": 4
}
