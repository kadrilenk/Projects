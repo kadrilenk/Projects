{
 "cells": [
  {
   "cell_type": "code",
   "execution_count": 2,
   "metadata": {},
   "outputs": [],
   "source": [
    "import math\n",
    "import numpy as np\n",
    "import matplotlib.pyplot as plt"
   ]
  },
  {
   "cell_type": "code",
   "execution_count": 14,
   "metadata": {},
   "outputs": [
    {
     "data": {
      "image/png": "[encoded data removed]",
      "text/plain": [
       "<Figure size 720x360 with 1 Axes>"
      ]
     },
     "metadata": {
      "needs_background": "light"
     },
     "output_type": "display_data"
    }
   ],
   "source": [
    "flips = 10\n",
    "P_heads = .8\n",
    "\n",
    "data = [(math.factorial(flips) / (math.factorial(i) * math.factorial(flips-i))) * # no of heads combos\n",
    "        ((P_heads**i) * (1-P_heads)**(flips-i)) # P of head combo\n",
    "        for i in range(flips+1)]\n",
    "\n",
    "fig,ax = plt.subplots(figsize = (10, 5))\n",
    "\n",
    "plt.bar(np.arange(flips+1), data)\n",
    "\n",
    "for i, d in enumerate(data):\n",
    "    plt.text(i, d, round(d, 3), ha='center', va='bottom')\n",
    "\n",
    "plt.show()"
   ]
  },
  {
   "cell_type": "code",
   "execution_count": null,
   "metadata": {},
   "outputs": [],
   "source": []
  },
  {
   "cell_type": "code",
   "execution_count": 43,
   "metadata": {},
   "outputs": [],
   "source": [
    "import statistics\n",
    "from scipy import stats"
   ]
  },
  {
   "cell_type": "code",
   "execution_count": 25,
   "metadata": {},
   "outputs": [],
   "source": [
    "data = [21, 21, 21, 21,\n",
    "        24, 24, 24, 24, 24, 24, \n",
    "        26, 26, 26, 26, 26, 26, 26, \n",
    "        29, 29, 29, 29, 29, 29, 29, 29, 29, 29, 29, 40, 40]"
   ]
  },
  {
   "cell_type": "code",
   "execution_count": 40,
   "metadata": {},
   "outputs": [
    {
     "name": "stdout",
     "output_type": "stream",
     "text": [
      "Mean: 26.97\n"
     ]
    }
   ],
   "source": [
    "mean = statistics.mean(data)\n",
    "print(f'Mean: {round(mean, 2)}')"
   ]
  },
  {
   "cell_type": "code",
   "execution_count": 42,
   "metadata": {},
   "outputs": [
    {
     "name": "stdout",
     "output_type": "stream",
     "text": [
      "Variance: 19.57\n"
     ]
    }
   ],
   "source": [
    "var = statistics.pvariance(data)\n",
    "print(f'Variance: {round(var, 2)}')"
   ]
  },
  {
   "cell_type": "code",
   "execution_count": 41,
   "metadata": {},
   "outputs": [
    {
     "name": "stdout",
     "output_type": "stream",
     "text": [
      "Standard deviation: 4.42\n"
     ]
    }
   ],
   "source": [
    "stdev = statistics.pstdev(data)\n",
    "print(f'Standard deviation: {round(stdev, 2)}')"
   ]
  },
  {
   "cell_type": "code",
   "execution_count": 45,
   "metadata": {},
   "outputs": [
    {
     "name": "stdout",
     "output_type": "stream",
     "text": [
      "t-critical: 2.045\n"
     ]
    }
   ],
   "source": [
    "t_critical = stats.t.ppf(1-0.025, len(data)-1)\n",
    "print(f't-critical: {round(t_critical, 3)}')"
   ]
  },
  {
   "cell_type": "code",
   "execution_count": 51,
   "metadata": {},
   "outputs": [
    {
     "name": "stdout",
     "output_type": "stream",
     "text": [
      "Confidence interval: +/-1.68\n"
     ]
    }
   ],
   "source": [
    "CI = t_critical * (stdev / math.sqrt(len(data)-1))\n",
    "print(f'Confidence interval: +/-{round(CI, 2)}')"
   ]
  },
  {
   "cell_type": "code",
   "execution_count": null,
   "metadata": {},
   "outputs": [],
   "source": []
  },
  {
   "cell_type": "code",
   "execution_count": null,
   "metadata": {},
   "outputs": [],
   "source": []
  }
 ],
 "metadata": {
  "kernelspec": {
   "display_name": "Python 3",
   "language": "python",
   "name": "python3"
  },
  "language_info": {
   "codemirror_mode": {
    "name": "ipython",
    "version": 3
   },
   "file_extension": ".py",
   "mimetype": "text/x-python",
   "name": "python",
   "nbconvert_exporter": "python",
   "pygments_lexer": "ipython3",
   "version": "3.7.3"
  }
 },
 "nbformat": 4,
 "nbformat_minor": 2
}
