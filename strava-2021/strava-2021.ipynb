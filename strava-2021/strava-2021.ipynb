{
 "cells": [
  {
   "cell_type": "code",
   "execution_count": 1,
   "id": "ea2480b5",
   "metadata": {},
   "outputs": [],
   "source": [
    "import pandas as pd\n",
    "import numpy as np\n",
    "import matplotlib.pyplot as plt\n",
    "import seaborn as sns"
   ]
  },
  {
   "cell_type": "code",
   "execution_count": 2,
   "id": "681eff73",
   "metadata": {},
   "outputs": [],
   "source": [
    "plt.style.use('lenk')"
   ]
  },
  {
   "cell_type": "markdown",
   "id": "2a5a3a6c",
   "metadata": {},
   "source": [
    "### Read activities file and get all 2021 runs"
   ]
  },
  {
   "cell_type": "code",
   "execution_count": 3,
   "id": "602e490a",
   "metadata": {},
   "outputs": [],
   "source": [
    "df_activities = pd.read_csv('export/activities.csv')\n",
    "df_activities = df_activities[['Activity ID', 'Activity Date', 'Filename', 'Activity Type']]\n",
    "df_activities = df_activities.loc[df_activities['Filename'].notna()]"
   ]
  },
  {
   "cell_type": "code",
   "execution_count": 4,
   "id": "38f59511",
   "metadata": {},
   "outputs": [],
   "source": [
    "df_activities = df_activities.loc[df_activities['Activity Type']=='Run']"
   ]
  },
  {
   "cell_type": "code",
   "execution_count": 5,
   "id": "dcd18e00",
   "metadata": {},
   "outputs": [],
   "source": [
    "df_activities['Activity Date'] = pd.to_datetime(df_activities['Activity Date'])\n",
    "df_activities = df_activities.loc[(df_activities['Activity Date']>='2021-01-01')&\n",
    "                                  (df_activities['Activity Date']<='2021-12-31')]"
   ]
  },
  {
   "cell_type": "code",
   "execution_count": 6,
   "id": "4f80e7af",
   "metadata": {},
   "outputs": [
    {
     "name": "stdout",
     "output_type": "stream",
     "text": [
      "<class 'pandas.core.frame.DataFrame'>\n",
      "Int64Index: 185 entries, 35 to 230\n",
      "Data columns (total 4 columns):\n",
      " #   Column         Non-Null Count  Dtype         \n",
      "---  ------         --------------  -----         \n",
      " 0   Activity ID    185 non-null    int64         \n",
      " 1   Activity Date  185 non-null    datetime64[ns]\n",
      " 2   Filename       185 non-null    object        \n",
      " 3   Activity Type  185 non-null    object        \n",
      "dtypes: datetime64[ns](1), int64(1), object(2)\n",
      "memory usage: 7.2+ KB\n"
     ]
    }
   ],
   "source": [
    "df_activities.info()"
   ]
  },
  {
   "cell_type": "code",
   "execution_count": 7,
   "id": "a7fb15a8",
   "metadata": {},
   "outputs": [],
   "source": [
    "activities_ids = df_activities['Activity ID'].values"
   ]
  },
  {
   "cell_type": "markdown",
   "id": "1eef109b",
   "metadata": {},
   "source": [
    "### Read coordinates from .gpx files"
   ]
  },
  {
   "cell_type": "code",
   "execution_count": 8,
   "id": "f1497364",
   "metadata": {},
   "outputs": [],
   "source": [
    "import gpxpy"
   ]
  },
  {
   "cell_type": "code",
   "execution_count": 9,
   "id": "3447ab4b",
   "metadata": {},
   "outputs": [],
   "source": [
    "def get_gpx(activity_id):\n",
    "    \n",
    "    gpx_path = f'export/activities/{activity_id}.gpx'\n",
    "    with open(gpx_path) as f:\n",
    "        gpx = gpxpy.parse(f)\n",
    "\n",
    "    points = []\n",
    "    for segment in gpx.tracks[0].segments:\n",
    "        for p in segment.points:\n",
    "            points.append({\n",
    "                'id':activity_id,\n",
    "                'time': p.time,\n",
    "                'latitude': p.latitude,\n",
    "                'longitude': p.longitude,\n",
    "            })\n",
    "\n",
    "    df = pd.DataFrame.from_records(points)\n",
    "    df['time_since'] = ((df['time'] - df['time'].min()) / np.timedelta64(1, 's')).astype(int)\n",
    "    return df"
   ]
  },
  {
   "cell_type": "code",
   "execution_count": 10,
   "id": "2fd5f713",
   "metadata": {},
   "outputs": [],
   "source": [
    "df_list = []\n",
    "\n",
    "for activity_id in activities_ids:\n",
    "    df_list.append(get_gpx(activity_id))\n",
    "\n",
    "gpx = pd.concat(df_list, ignore_index=True)"
   ]
  },
  {
   "cell_type": "code",
   "execution_count": 11,
   "id": "1f86dbee",
   "metadata": {},
   "outputs": [],
   "source": [
    "# excluding some runs\n",
    "gpx = gpx.loc[gpx['longitude']>0]"
   ]
  },
  {
   "cell_type": "code",
   "execution_count": 12,
   "id": "fb437dac",
   "metadata": {},
   "outputs": [
    {
     "name": "stdout",
     "output_type": "stream",
     "text": [
      "<class 'pandas.core.frame.DataFrame'>\n",
      "Int64Index: 388504 entries, 0 to 388503\n",
      "Data columns (total 5 columns):\n",
      " #   Column      Non-Null Count   Dtype                        \n",
      "---  ------      --------------   -----                        \n",
      " 0   id          388504 non-null  int64                        \n",
      " 1   time        388504 non-null  datetime64[ns, SimpleTZ(\"Z\")]\n",
      " 2   latitude    388504 non-null  float64                      \n",
      " 3   longitude   388504 non-null  float64                      \n",
      " 4   time_since  388504 non-null  int64                        \n",
      "dtypes: datetime64[ns, SimpleTZ(\"Z\")](1), float64(2), int64(2)\n",
      "memory usage: 17.8 MB\n"
     ]
    }
   ],
   "source": [
    "gpx.info()"
   ]
  },
  {
   "cell_type": "markdown",
   "id": "53795614",
   "metadata": {},
   "source": [
    "### Draw and save the map images"
   ]
  },
  {
   "cell_type": "code",
   "execution_count": 13,
   "id": "8bf0a77b",
   "metadata": {},
   "outputs": [],
   "source": [
    "image_folder = 'images'"
   ]
  },
  {
   "cell_type": "code",
   "execution_count": 14,
   "id": "b78c204c",
   "metadata": {},
   "outputs": [],
   "source": [
    "def draw_and_save_map(time_since):\n",
    "    plt.figure(figsize=(10, 10))\n",
    "\n",
    "    sns.scatterplot(x='longitude', \n",
    "                    y='latitude', \n",
    "                    data=gpx.loc[gpx['time_since']<=time_since], \n",
    "                    linewidth=0,\n",
    "                    s=5,\n",
    "                    alpha=.1)\n",
    "    sns.scatterplot(x='longitude', \n",
    "                    y='latitude', \n",
    "                    data=gpx.loc[gpx['time_since']==time_since],\n",
    "                    s=50,\n",
    "                    color='red')\n",
    "\n",
    "    plt.xlim(gpx['longitude'].min()-0.001, gpx['longitude'].max()+0.001)\n",
    "    plt.ylim(gpx['latitude'].min()-0.001, gpx['latitude'].max()+0.001)\n",
    "    plt.axis('off')\n",
    "\n",
    "    minutes = time_since // 60\n",
    "    seconds = time_since % 60\n",
    "\n",
    "    plt.annotate(f'{minutes:02d}:{seconds:02d}', (gpx['longitude'].min()+0.002, gpx['latitude'].max()-0.002), size=20)\n",
    "\n",
    "    plt.savefig(f'{image_folder}/{time_since}.png', dpi=100, bbox_inches='tight');\n",
    "    plt.close()"
   ]
  },
  {
   "cell_type": "code",
   "execution_count": 15,
   "id": "a02dbe50",
   "metadata": {},
   "outputs": [],
   "source": [
    "r = gpx['time_since'].max()\n",
    "\n",
    "for i in range(r):\n",
    "    draw_and_save_map(i)"
   ]
  },
  {
   "cell_type": "markdown",
   "id": "f9cb5afe",
   "metadata": {},
   "source": [
    "### Create the video"
   ]
  },
  {
   "cell_type": "code",
   "execution_count": 16,
   "id": "f24f43c0",
   "metadata": {},
   "outputs": [],
   "source": [
    "import cv2\n",
    "import os"
   ]
  },
  {
   "cell_type": "code",
   "execution_count": 17,
   "id": "c0efbad8",
   "metadata": {},
   "outputs": [],
   "source": [
    "fps = 100\n",
    "\n",
    "images = [str(i)+'.png' for i in range(r)]\n",
    "frame = cv2.imread(os.path.join(image_folder, images[0]))\n",
    "height, width, layers = frame.shape\n",
    "\n",
    "video = cv2.VideoWriter('video.avi', 0, fps, (width,height))\n",
    "\n",
    "for image in images:\n",
    "    video.write(cv2.imread(os.path.join(image_folder, image)))\n",
    "\n",
    "cv2.destroyAllWindows()\n",
    "video.release()"
   ]
  }
 ],
 "metadata": {
  "kernelspec": {
   "display_name": "Python 3 (ipykernel)",
   "language": "python",
   "name": "python3"
  },
  "language_info": {
   "codemirror_mode": {
    "name": "ipython",
    "version": 3
   },
   "file_extension": ".py",
   "mimetype": "text/x-python",
   "name": "python",
   "nbconvert_exporter": "python",
   "pygments_lexer": "ipython3",
   "version": "3.9.7"
  }
 },
 "nbformat": 4,
 "nbformat_minor": 5
}
