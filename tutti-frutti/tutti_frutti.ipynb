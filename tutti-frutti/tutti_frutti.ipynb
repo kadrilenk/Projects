{
 "cells": [
  {
   "cell_type": "code",
   "execution_count": 1,
   "metadata": {},
   "outputs": [],
   "source": [
    "import pandas as pd\n",
    "import numpy as np\n",
    "import matplotlib.pyplot as plt\n",
    "import scipy.stats"
   ]
  },
  {
   "cell_type": "markdown",
   "metadata": {},
   "source": [
    "As always, let's start with reading in the data."
   ]
  },
  {
   "cell_type": "code",
   "execution_count": 2,
   "metadata": {},
   "outputs": [
    {
     "data": {
      "text/html": [
       "<div>\n",
       "<style scoped>\n",
       "    .dataframe tbody tr th:only-of-type {\n",
       "        vertical-align: middle;\n",
       "    }\n",
       "\n",
       "    .dataframe tbody tr th {\n",
       "        vertical-align: top;\n",
       "    }\n",
       "\n",
       "    .dataframe thead th {\n",
       "        text-align: right;\n",
       "    }\n",
       "</style>\n",
       "<table border=\"1\" class=\"dataframe\">\n",
       "  <thead>\n",
       "    <tr style=\"text-align: right;\">\n",
       "      <th></th>\n",
       "      <th>green_butterflies</th>\n",
       "      <th>green_frogs</th>\n",
       "      <th>green_snails</th>\n",
       "      <th>yellow_butterflies</th>\n",
       "      <th>yellow_frogs</th>\n",
       "      <th>yellow_snails</th>\n",
       "      <th>red_butterflies</th>\n",
       "      <th>red_frogs</th>\n",
       "      <th>red_snails</th>\n",
       "    </tr>\n",
       "    <tr>\n",
       "      <th>sample_id</th>\n",
       "      <th></th>\n",
       "      <th></th>\n",
       "      <th></th>\n",
       "      <th></th>\n",
       "      <th></th>\n",
       "      <th></th>\n",
       "      <th></th>\n",
       "      <th></th>\n",
       "      <th></th>\n",
       "    </tr>\n",
       "  </thead>\n",
       "  <tbody>\n",
       "    <tr>\n",
       "      <th>1</th>\n",
       "      <td>2</td>\n",
       "      <td>2</td>\n",
       "      <td>4</td>\n",
       "      <td>0</td>\n",
       "      <td>3</td>\n",
       "      <td>1</td>\n",
       "      <td>2</td>\n",
       "      <td>2</td>\n",
       "      <td>2</td>\n",
       "    </tr>\n",
       "    <tr>\n",
       "      <th>2</th>\n",
       "      <td>3</td>\n",
       "      <td>2</td>\n",
       "      <td>4</td>\n",
       "      <td>1</td>\n",
       "      <td>4</td>\n",
       "      <td>1</td>\n",
       "      <td>2</td>\n",
       "      <td>1</td>\n",
       "      <td>2</td>\n",
       "    </tr>\n",
       "    <tr>\n",
       "      <th>3</th>\n",
       "      <td>4</td>\n",
       "      <td>0</td>\n",
       "      <td>1</td>\n",
       "      <td>2</td>\n",
       "      <td>3</td>\n",
       "      <td>2</td>\n",
       "      <td>2</td>\n",
       "      <td>2</td>\n",
       "      <td>3</td>\n",
       "    </tr>\n",
       "  </tbody>\n",
       "</table>\n",
       "</div>"
      ],
      "text/plain": [
       "           green_butterflies  green_frogs  green_snails  yellow_butterflies  \\\n",
       "sample_id                                                                     \n",
       "1                          2            2             4                   0   \n",
       "2                          3            2             4                   1   \n",
       "3                          4            0             1                   2   \n",
       "\n",
       "           yellow_frogs  yellow_snails  red_butterflies  red_frogs  red_snails  \n",
       "sample_id                                                                       \n",
       "1                     3              1                2          2           2  \n",
       "2                     4              1                2          1           2  \n",
       "3                     3              2                2          2           3  "
      ]
     },
     "execution_count": 2,
     "metadata": {},
     "output_type": "execute_result"
    }
   ],
   "source": [
    "df = pd.read_csv('tutti_frutti_data.csv', index_col=0)\n",
    "df.head(3)"
   ]
  },
  {
   "cell_type": "markdown",
   "metadata": {},
   "source": [
    "Since I'm going to use proportions in my analysis, let's calculate the size of each sample so that we can calculate the proportions. I store the sample sizes in a series so I can easily use it in the division calculation."
   ]
  },
  {
   "cell_type": "code",
   "execution_count": 3,
   "metadata": {},
   "outputs": [
    {
     "data": {
      "text/html": [
       "<div>\n",
       "<style scoped>\n",
       "    .dataframe tbody tr th:only-of-type {\n",
       "        vertical-align: middle;\n",
       "    }\n",
       "\n",
       "    .dataframe tbody tr th {\n",
       "        vertical-align: top;\n",
       "    }\n",
       "\n",
       "    .dataframe thead th {\n",
       "        text-align: right;\n",
       "    }\n",
       "</style>\n",
       "<table border=\"1\" class=\"dataframe\">\n",
       "  <thead>\n",
       "    <tr style=\"text-align: right;\">\n",
       "      <th></th>\n",
       "      <th>green_butterflies</th>\n",
       "      <th>green_frogs</th>\n",
       "      <th>green_snails</th>\n",
       "      <th>yellow_butterflies</th>\n",
       "      <th>yellow_frogs</th>\n",
       "      <th>yellow_snails</th>\n",
       "      <th>red_butterflies</th>\n",
       "      <th>red_frogs</th>\n",
       "      <th>red_snails</th>\n",
       "    </tr>\n",
       "    <tr>\n",
       "      <th>sample_id</th>\n",
       "      <th></th>\n",
       "      <th></th>\n",
       "      <th></th>\n",
       "      <th></th>\n",
       "      <th></th>\n",
       "      <th></th>\n",
       "      <th></th>\n",
       "      <th></th>\n",
       "      <th></th>\n",
       "    </tr>\n",
       "  </thead>\n",
       "  <tbody>\n",
       "    <tr>\n",
       "      <th>1</th>\n",
       "      <td>0.111111</td>\n",
       "      <td>0.111111</td>\n",
       "      <td>0.222222</td>\n",
       "      <td>0.000000</td>\n",
       "      <td>0.166667</td>\n",
       "      <td>0.055556</td>\n",
       "      <td>0.111111</td>\n",
       "      <td>0.111111</td>\n",
       "      <td>0.111111</td>\n",
       "    </tr>\n",
       "    <tr>\n",
       "      <th>2</th>\n",
       "      <td>0.150000</td>\n",
       "      <td>0.100000</td>\n",
       "      <td>0.200000</td>\n",
       "      <td>0.050000</td>\n",
       "      <td>0.200000</td>\n",
       "      <td>0.050000</td>\n",
       "      <td>0.100000</td>\n",
       "      <td>0.050000</td>\n",
       "      <td>0.100000</td>\n",
       "    </tr>\n",
       "    <tr>\n",
       "      <th>3</th>\n",
       "      <td>0.210526</td>\n",
       "      <td>0.000000</td>\n",
       "      <td>0.052632</td>\n",
       "      <td>0.105263</td>\n",
       "      <td>0.157895</td>\n",
       "      <td>0.105263</td>\n",
       "      <td>0.105263</td>\n",
       "      <td>0.105263</td>\n",
       "      <td>0.157895</td>\n",
       "    </tr>\n",
       "  </tbody>\n",
       "</table>\n",
       "</div>"
      ],
      "text/plain": [
       "           green_butterflies  green_frogs  green_snails  yellow_butterflies  \\\n",
       "sample_id                                                                     \n",
       "1                   0.111111     0.111111      0.222222            0.000000   \n",
       "2                   0.150000     0.100000      0.200000            0.050000   \n",
       "3                   0.210526     0.000000      0.052632            0.105263   \n",
       "\n",
       "           yellow_frogs  yellow_snails  red_butterflies  red_frogs  red_snails  \n",
       "sample_id                                                                       \n",
       "1              0.166667       0.055556         0.111111   0.111111    0.111111  \n",
       "2              0.200000       0.050000         0.100000   0.050000    0.100000  \n",
       "3              0.157895       0.105263         0.105263   0.105263    0.157895  "
      ]
     },
     "execution_count": 3,
     "metadata": {},
     "output_type": "execute_result"
    }
   ],
   "source": [
    "sample_totals = df.sum(axis=1)\n",
    "\n",
    "df_proportions = df.div(sample_totals, axis=0)\n",
    "df_proportions.head(3)"
   ]
  },
  {
   "cell_type": "markdown",
   "metadata": {},
   "source": [
    "Then let's see how the descriptive data for each type of candy looks like. Since we're doing a hypothesis test, the mean and standard deviation are the most \"interesting\" at the moment."
   ]
  },
  {
   "cell_type": "code",
   "execution_count": 4,
   "metadata": {},
   "outputs": [
    {
     "data": {
      "text/html": [
       "<div>\n",
       "<style scoped>\n",
       "    .dataframe tbody tr th:only-of-type {\n",
       "        vertical-align: middle;\n",
       "    }\n",
       "\n",
       "    .dataframe tbody tr th {\n",
       "        vertical-align: top;\n",
       "    }\n",
       "\n",
       "    .dataframe thead th {\n",
       "        text-align: right;\n",
       "    }\n",
       "</style>\n",
       "<table border=\"1\" class=\"dataframe\">\n",
       "  <thead>\n",
       "    <tr style=\"text-align: right;\">\n",
       "      <th></th>\n",
       "      <th>green_butterflies</th>\n",
       "      <th>green_frogs</th>\n",
       "      <th>green_snails</th>\n",
       "      <th>yellow_butterflies</th>\n",
       "      <th>yellow_frogs</th>\n",
       "      <th>yellow_snails</th>\n",
       "      <th>red_butterflies</th>\n",
       "      <th>red_frogs</th>\n",
       "      <th>red_snails</th>\n",
       "    </tr>\n",
       "  </thead>\n",
       "  <tbody>\n",
       "    <tr>\n",
       "      <th>count</th>\n",
       "      <td>30.000000</td>\n",
       "      <td>30.000000</td>\n",
       "      <td>30.000000</td>\n",
       "      <td>30.000000</td>\n",
       "      <td>30.000000</td>\n",
       "      <td>30.000000</td>\n",
       "      <td>30.000000</td>\n",
       "      <td>30.000000</td>\n",
       "      <td>30.000000</td>\n",
       "    </tr>\n",
       "    <tr>\n",
       "      <th>mean</th>\n",
       "      <td>0.106463</td>\n",
       "      <td>0.096918</td>\n",
       "      <td>0.102128</td>\n",
       "      <td>0.110242</td>\n",
       "      <td>0.099303</td>\n",
       "      <td>0.094238</td>\n",
       "      <td>0.127975</td>\n",
       "      <td>0.147571</td>\n",
       "      <td>0.115162</td>\n",
       "    </tr>\n",
       "    <tr>\n",
       "      <th>std</th>\n",
       "      <td>0.076527</td>\n",
       "      <td>0.056870</td>\n",
       "      <td>0.087903</td>\n",
       "      <td>0.092238</td>\n",
       "      <td>0.070182</td>\n",
       "      <td>0.062745</td>\n",
       "      <td>0.079369</td>\n",
       "      <td>0.095070</td>\n",
       "      <td>0.055025</td>\n",
       "    </tr>\n",
       "    <tr>\n",
       "      <th>min</th>\n",
       "      <td>0.000000</td>\n",
       "      <td>0.000000</td>\n",
       "      <td>0.000000</td>\n",
       "      <td>0.000000</td>\n",
       "      <td>0.000000</td>\n",
       "      <td>0.000000</td>\n",
       "      <td>0.000000</td>\n",
       "      <td>0.000000</td>\n",
       "      <td>0.000000</td>\n",
       "    </tr>\n",
       "    <tr>\n",
       "      <th>25%</th>\n",
       "      <td>0.050658</td>\n",
       "      <td>0.053363</td>\n",
       "      <td>0.052632</td>\n",
       "      <td>0.052632</td>\n",
       "      <td>0.052632</td>\n",
       "      <td>0.052632</td>\n",
       "      <td>0.066667</td>\n",
       "      <td>0.057292</td>\n",
       "      <td>0.071875</td>\n",
       "    </tr>\n",
       "    <tr>\n",
       "      <th>50%</th>\n",
       "      <td>0.108187</td>\n",
       "      <td>0.102632</td>\n",
       "      <td>0.058824</td>\n",
       "      <td>0.080409</td>\n",
       "      <td>0.105263</td>\n",
       "      <td>0.057190</td>\n",
       "      <td>0.111111</td>\n",
       "      <td>0.153947</td>\n",
       "      <td>0.111111</td>\n",
       "    </tr>\n",
       "    <tr>\n",
       "      <th>75%</th>\n",
       "      <td>0.155921</td>\n",
       "      <td>0.147833</td>\n",
       "      <td>0.157895</td>\n",
       "      <td>0.164474</td>\n",
       "      <td>0.141912</td>\n",
       "      <td>0.116013</td>\n",
       "      <td>0.164474</td>\n",
       "      <td>0.207895</td>\n",
       "      <td>0.157895</td>\n",
       "    </tr>\n",
       "    <tr>\n",
       "      <th>max</th>\n",
       "      <td>0.300000</td>\n",
       "      <td>0.222222</td>\n",
       "      <td>0.350000</td>\n",
       "      <td>0.333333</td>\n",
       "      <td>0.333333</td>\n",
       "      <td>0.250000</td>\n",
       "      <td>0.315789</td>\n",
       "      <td>0.388889</td>\n",
       "      <td>0.210526</td>\n",
       "    </tr>\n",
       "  </tbody>\n",
       "</table>\n",
       "</div>"
      ],
      "text/plain": [
       "       green_butterflies  green_frogs  green_snails  yellow_butterflies  \\\n",
       "count          30.000000    30.000000     30.000000           30.000000   \n",
       "mean            0.106463     0.096918      0.102128            0.110242   \n",
       "std             0.076527     0.056870      0.087903            0.092238   \n",
       "min             0.000000     0.000000      0.000000            0.000000   \n",
       "25%             0.050658     0.053363      0.052632            0.052632   \n",
       "50%             0.108187     0.102632      0.058824            0.080409   \n",
       "75%             0.155921     0.147833      0.157895            0.164474   \n",
       "max             0.300000     0.222222      0.350000            0.333333   \n",
       "\n",
       "       yellow_frogs  yellow_snails  red_butterflies  red_frogs  red_snails  \n",
       "count     30.000000      30.000000        30.000000  30.000000   30.000000  \n",
       "mean       0.099303       0.094238         0.127975   0.147571    0.115162  \n",
       "std        0.070182       0.062745         0.079369   0.095070    0.055025  \n",
       "min        0.000000       0.000000         0.000000   0.000000    0.000000  \n",
       "25%        0.052632       0.052632         0.066667   0.057292    0.071875  \n",
       "50%        0.105263       0.057190         0.111111   0.153947    0.111111  \n",
       "75%        0.141912       0.116013         0.164474   0.207895    0.157895  \n",
       "max        0.333333       0.250000         0.315789   0.388889    0.210526  "
      ]
     },
     "execution_count": 4,
     "metadata": {},
     "output_type": "execute_result"
    }
   ],
   "source": [
    "df_proportions.describe()"
   ]
  },
  {
   "cell_type": "markdown",
   "metadata": {},
   "source": [
    "Let's also visualise the distributions of the proportions for each type of candy."
   ]
  },
  {
   "cell_type": "code",
   "execution_count": 5,
   "metadata": {},
   "outputs": [
    {
     "data": {
      "image/png": "[encoded data removed]",
      "text/plain": [
       "<Figure size 648x648 with 9 Axes>"
      ]
     },
     "metadata": {
      "needs_background": "light"
     },
     "output_type": "display_data"
    }
   ],
   "source": [
    "nrows = 3; ncols = 3\n",
    "num_plots = nrows*ncols\n",
    "\n",
    "fig = plt.figure(figsize=(9, 9))\n",
    "axes = [plt.subplot(nrows,ncols,i) for i in range(1,num_plots+1)]\n",
    "\n",
    "plt.subplots_adjust(wspace=.2, hspace=.5)\n",
    "\n",
    "for i, col in enumerate(df_proportions.columns):\n",
    "    ax = axes[i]\n",
    "    ax.hist(df_proportions[col], \n",
    "            bins=np.arange(0, .4, .036),\n",
    "            color='lightseagreen', histtype='stepfilled', alpha=.5, ec=\"k\")\n",
    "    ax.axvline(df_proportions[col].mean(), color='#404040', linestyle='dashed', linewidth=1)\n",
    "    \n",
    "    ax.set_title(col)\n",
    "    ax.set_ylim(0, 14)\n",
    "    \n",
    "    ax.spines['top'].set_visible(False)\n",
    "    ax.spines['left'].set_visible(False)\n",
    "    ax.spines['right'].set_visible(False)\n",
    "    ax.get_yaxis().set_visible(False)    "
   ]
  },
  {
   "cell_type": "markdown",
   "metadata": {},
   "source": [
    "So far we can see that the mean for red frogs (14.8%) is the most further away from the expected value (1/9 or 11.11%). Let's now do a proper t-test to see if that is a significant difference."
   ]
  },
  {
   "cell_type": "code",
   "execution_count": 6,
   "metadata": {},
   "outputs": [
    {
     "name": "stdout",
     "output_type": "stream",
     "text": [
      "Fail to reject the null for green_butterflies: t -0.3327, p 0.7417\n",
      "Fail to reject the null for green_frogs: t -1.367, p 0.1821\n",
      "Fail to reject the null for green_snails: t -0.5597, p 0.58\n",
      "Fail to reject the null for yellow_butterflies: t -0.0516, p 0.9592\n",
      "Fail to reject the null for yellow_frogs: t -0.9215, p 0.3644\n",
      "Fail to reject the null for yellow_snails: t -1.473, p 0.1515\n",
      "Fail to reject the null for red_butterflies: t 1.1638, p 0.254\n",
      "Reject the null for red_frogs: t 2.1006, p 0.0445\n",
      "Fail to reject the null for red_snails: t 0.4032, p 0.6897\n"
     ]
    }
   ],
   "source": [
    "pop_mean = 1/9\n",
    "alpha = 0.05\n",
    "\n",
    "for col in df_proportions.columns[:9]:\n",
    "    result = scipy.stats.ttest_1samp(df_proportions[col], pop_mean)\n",
    "    if result[1] < alpha:\n",
    "        print(f'Reject the null for {col}: t {result[0].round(4)}, p {result[1].round(4)}')\n",
    "    else:\n",
    "        print(f'Fail to reject the null for {col}: t {result[0].round(4)}, p {result[1].round(4)}')"
   ]
  },
  {
   "cell_type": "markdown",
   "metadata": {},
   "source": [
    "And indeed we can see that we can reject the null hypothesis for red frogs and conclude that there are more red frogs (M = 14.8%, SD = 9.5%) than the population norm 11.1%, t(29) = 2.1006, p = .0445."
   ]
  },
  {
   "cell_type": "markdown",
   "metadata": {},
   "source": [
    "Let's also do the same analysis for each colour and each shape as well."
   ]
  },
  {
   "cell_type": "markdown",
   "metadata": {},
   "source": [
    "First, I need a slightly modified data set. I start by creating an empty data frame and add columns which are just the respective columns summed up from the original data."
   ]
  },
  {
   "cell_type": "code",
   "execution_count": 7,
   "metadata": {},
   "outputs": [
    {
     "data": {
      "text/html": [
       "<div>\n",
       "<style scoped>\n",
       "    .dataframe tbody tr th:only-of-type {\n",
       "        vertical-align: middle;\n",
       "    }\n",
       "\n",
       "    .dataframe tbody tr th {\n",
       "        vertical-align: top;\n",
       "    }\n",
       "\n",
       "    .dataframe thead th {\n",
       "        text-align: right;\n",
       "    }\n",
       "</style>\n",
       "<table border=\"1\" class=\"dataframe\">\n",
       "  <thead>\n",
       "    <tr style=\"text-align: right;\">\n",
       "      <th></th>\n",
       "      <th>green</th>\n",
       "      <th>yellow</th>\n",
       "      <th>red</th>\n",
       "      <th>butterflies</th>\n",
       "      <th>frogs</th>\n",
       "      <th>snails</th>\n",
       "    </tr>\n",
       "    <tr>\n",
       "      <th>sample_id</th>\n",
       "      <th></th>\n",
       "      <th></th>\n",
       "      <th></th>\n",
       "      <th></th>\n",
       "      <th></th>\n",
       "      <th></th>\n",
       "    </tr>\n",
       "  </thead>\n",
       "  <tbody>\n",
       "    <tr>\n",
       "      <th>1</th>\n",
       "      <td>8</td>\n",
       "      <td>4</td>\n",
       "      <td>6</td>\n",
       "      <td>4</td>\n",
       "      <td>7</td>\n",
       "      <td>7</td>\n",
       "    </tr>\n",
       "    <tr>\n",
       "      <th>2</th>\n",
       "      <td>9</td>\n",
       "      <td>6</td>\n",
       "      <td>5</td>\n",
       "      <td>6</td>\n",
       "      <td>7</td>\n",
       "      <td>7</td>\n",
       "    </tr>\n",
       "    <tr>\n",
       "      <th>3</th>\n",
       "      <td>5</td>\n",
       "      <td>7</td>\n",
       "      <td>7</td>\n",
       "      <td>8</td>\n",
       "      <td>5</td>\n",
       "      <td>6</td>\n",
       "    </tr>\n",
       "  </tbody>\n",
       "</table>\n",
       "</div>"
      ],
      "text/plain": [
       "           green  yellow  red  butterflies  frogs  snails\n",
       "sample_id                                                \n",
       "1              8       4    6            4      7       7\n",
       "2              9       6    5            6      7       7\n",
       "3              5       7    7            8      5       6"
      ]
     },
     "execution_count": 7,
     "metadata": {},
     "output_type": "execute_result"
    }
   ],
   "source": [
    "df_agg = pd.DataFrame()\n",
    "cols = ['green', 'yellow', 'red', 'butterflies', 'frogs', 'snails']\n",
    "\n",
    "for col in cols:\n",
    "    df_agg[col] = df[[i for i in df.columns if col in i]].sum(axis=1)\n",
    "    \n",
    "df_agg.head(3)"
   ]
  },
  {
   "cell_type": "markdown",
   "metadata": {},
   "source": [
    "I use the same series with sample sizes to get the proportions."
   ]
  },
  {
   "cell_type": "code",
   "execution_count": 8,
   "metadata": {},
   "outputs": [
    {
     "data": {
      "text/html": [
       "<div>\n",
       "<style scoped>\n",
       "    .dataframe tbody tr th:only-of-type {\n",
       "        vertical-align: middle;\n",
       "    }\n",
       "\n",
       "    .dataframe tbody tr th {\n",
       "        vertical-align: top;\n",
       "    }\n",
       "\n",
       "    .dataframe thead th {\n",
       "        text-align: right;\n",
       "    }\n",
       "</style>\n",
       "<table border=\"1\" class=\"dataframe\">\n",
       "  <thead>\n",
       "    <tr style=\"text-align: right;\">\n",
       "      <th></th>\n",
       "      <th>green</th>\n",
       "      <th>yellow</th>\n",
       "      <th>red</th>\n",
       "      <th>butterflies</th>\n",
       "      <th>frogs</th>\n",
       "      <th>snails</th>\n",
       "    </tr>\n",
       "    <tr>\n",
       "      <th>sample_id</th>\n",
       "      <th></th>\n",
       "      <th></th>\n",
       "      <th></th>\n",
       "      <th></th>\n",
       "      <th></th>\n",
       "      <th></th>\n",
       "    </tr>\n",
       "  </thead>\n",
       "  <tbody>\n",
       "    <tr>\n",
       "      <th>1</th>\n",
       "      <td>0.444444</td>\n",
       "      <td>0.222222</td>\n",
       "      <td>0.333333</td>\n",
       "      <td>0.222222</td>\n",
       "      <td>0.388889</td>\n",
       "      <td>0.388889</td>\n",
       "    </tr>\n",
       "    <tr>\n",
       "      <th>2</th>\n",
       "      <td>0.450000</td>\n",
       "      <td>0.300000</td>\n",
       "      <td>0.250000</td>\n",
       "      <td>0.300000</td>\n",
       "      <td>0.350000</td>\n",
       "      <td>0.350000</td>\n",
       "    </tr>\n",
       "    <tr>\n",
       "      <th>3</th>\n",
       "      <td>0.263158</td>\n",
       "      <td>0.368421</td>\n",
       "      <td>0.368421</td>\n",
       "      <td>0.421053</td>\n",
       "      <td>0.263158</td>\n",
       "      <td>0.315789</td>\n",
       "    </tr>\n",
       "  </tbody>\n",
       "</table>\n",
       "</div>"
      ],
      "text/plain": [
       "              green    yellow       red  butterflies     frogs    snails\n",
       "sample_id                                                               \n",
       "1          0.444444  0.222222  0.333333     0.222222  0.388889  0.388889\n",
       "2          0.450000  0.300000  0.250000     0.300000  0.350000  0.350000\n",
       "3          0.263158  0.368421  0.368421     0.421053  0.263158  0.315789"
      ]
     },
     "execution_count": 8,
     "metadata": {},
     "output_type": "execute_result"
    }
   ],
   "source": [
    "df_agg_proportions = df_agg.div(sample_totals, axis=0)\n",
    "df_agg_proportions.head(3)"
   ]
  },
  {
   "cell_type": "markdown",
   "metadata": {},
   "source": [
    "Then let's also see the descriptive stats on these categories as well."
   ]
  },
  {
   "cell_type": "code",
   "execution_count": 9,
   "metadata": {},
   "outputs": [
    {
     "data": {
      "text/html": [
       "<div>\n",
       "<style scoped>\n",
       "    .dataframe tbody tr th:only-of-type {\n",
       "        vertical-align: middle;\n",
       "    }\n",
       "\n",
       "    .dataframe tbody tr th {\n",
       "        vertical-align: top;\n",
       "    }\n",
       "\n",
       "    .dataframe thead th {\n",
       "        text-align: right;\n",
       "    }\n",
       "</style>\n",
       "<table border=\"1\" class=\"dataframe\">\n",
       "  <thead>\n",
       "    <tr style=\"text-align: right;\">\n",
       "      <th></th>\n",
       "      <th>green</th>\n",
       "      <th>yellow</th>\n",
       "      <th>red</th>\n",
       "      <th>butterflies</th>\n",
       "      <th>frogs</th>\n",
       "      <th>snails</th>\n",
       "    </tr>\n",
       "  </thead>\n",
       "  <tbody>\n",
       "    <tr>\n",
       "      <th>count</th>\n",
       "      <td>30.000000</td>\n",
       "      <td>30.000000</td>\n",
       "      <td>30.000000</td>\n",
       "      <td>30.000000</td>\n",
       "      <td>30.000000</td>\n",
       "      <td>30.000000</td>\n",
       "    </tr>\n",
       "    <tr>\n",
       "      <th>mean</th>\n",
       "      <td>0.305509</td>\n",
       "      <td>0.303783</td>\n",
       "      <td>0.390709</td>\n",
       "      <td>0.344680</td>\n",
       "      <td>0.343793</td>\n",
       "      <td>0.311528</td>\n",
       "    </tr>\n",
       "    <tr>\n",
       "      <th>std</th>\n",
       "      <td>0.103636</td>\n",
       "      <td>0.097211</td>\n",
       "      <td>0.101600</td>\n",
       "      <td>0.123761</td>\n",
       "      <td>0.097122</td>\n",
       "      <td>0.088734</td>\n",
       "    </tr>\n",
       "    <tr>\n",
       "      <th>min</th>\n",
       "      <td>0.105263</td>\n",
       "      <td>0.105263</td>\n",
       "      <td>0.166667</td>\n",
       "      <td>0.111111</td>\n",
       "      <td>0.210526</td>\n",
       "      <td>0.157895</td>\n",
       "    </tr>\n",
       "    <tr>\n",
       "      <th>25%</th>\n",
       "      <td>0.222222</td>\n",
       "      <td>0.229167</td>\n",
       "      <td>0.315789</td>\n",
       "      <td>0.263158</td>\n",
       "      <td>0.263158</td>\n",
       "      <td>0.238971</td>\n",
       "    </tr>\n",
       "    <tr>\n",
       "      <th>50%</th>\n",
       "      <td>0.285948</td>\n",
       "      <td>0.315789</td>\n",
       "      <td>0.421053</td>\n",
       "      <td>0.334365</td>\n",
       "      <td>0.315789</td>\n",
       "      <td>0.315789</td>\n",
       "    </tr>\n",
       "    <tr>\n",
       "      <th>75%</th>\n",
       "      <td>0.388889</td>\n",
       "      <td>0.373355</td>\n",
       "      <td>0.473684</td>\n",
       "      <td>0.421053</td>\n",
       "      <td>0.388889</td>\n",
       "      <td>0.364551</td>\n",
       "    </tr>\n",
       "    <tr>\n",
       "      <th>max</th>\n",
       "      <td>0.473684</td>\n",
       "      <td>0.444444</td>\n",
       "      <td>0.611111</td>\n",
       "      <td>0.555556</td>\n",
       "      <td>0.611111</td>\n",
       "      <td>0.500000</td>\n",
       "    </tr>\n",
       "  </tbody>\n",
       "</table>\n",
       "</div>"
      ],
      "text/plain": [
       "           green     yellow        red  butterflies      frogs     snails\n",
       "count  30.000000  30.000000  30.000000    30.000000  30.000000  30.000000\n",
       "mean    0.305509   0.303783   0.390709     0.344680   0.343793   0.311528\n",
       "std     0.103636   0.097211   0.101600     0.123761   0.097122   0.088734\n",
       "min     0.105263   0.105263   0.166667     0.111111   0.210526   0.157895\n",
       "25%     0.222222   0.229167   0.315789     0.263158   0.263158   0.238971\n",
       "50%     0.285948   0.315789   0.421053     0.334365   0.315789   0.315789\n",
       "75%     0.388889   0.373355   0.473684     0.421053   0.388889   0.364551\n",
       "max     0.473684   0.444444   0.611111     0.555556   0.611111   0.500000"
      ]
     },
     "execution_count": 9,
     "metadata": {},
     "output_type": "execute_result"
    }
   ],
   "source": [
    "df_agg_proportions.describe()"
   ]
  },
  {
   "cell_type": "markdown",
   "metadata": {},
   "source": [
    "And the visualisation."
   ]
  },
  {
   "cell_type": "code",
   "execution_count": 10,
   "metadata": {},
   "outputs": [
    {
     "data": {
      "image/png": "[encoded data removed]",
      "text/plain": [
       "<Figure size 720x360 with 6 Axes>"
      ]
     },
     "metadata": {
      "needs_background": "light"
     },
     "output_type": "display_data"
    }
   ],
   "source": [
    "nrows = 2; ncols = 3\n",
    "num_plots = nrows*ncols\n",
    "\n",
    "fig = plt.figure(figsize=(10, 5))\n",
    "axes = [plt.subplot(nrows,ncols,i) for i in range(1,num_plots+1)]\n",
    "\n",
    "plt.subplots_adjust(wspace=.2, hspace=.5)\n",
    "\n",
    "for i, col in enumerate(df_agg_proportions.columns):\n",
    "    ax = axes[i]\n",
    "    ax.hist(df_agg_proportions[col], \n",
    "            bins=np.arange(0, .7, .04),\n",
    "            color='lightseagreen', histtype='stepfilled', alpha=.5, ec=\"k\")\n",
    "    ax.axvline(df_agg_proportions[col].mean(), color='#404040', linestyle='dashed', linewidth=1)\n",
    "    \n",
    "    ax.set_title(col)\n",
    "    ax.set_ylim(0, 8)\n",
    "    \n",
    "    ax.spines['top'].set_visible(False)\n",
    "    ax.spines['left'].set_visible(False)\n",
    "    ax.spines['right'].set_visible(False)\n",
    "    ax.get_yaxis().set_visible(False)"
   ]
  },
  {
   "cell_type": "markdown",
   "metadata": {},
   "source": [
    "The mean proportion of reds (39.1%) seems to be quite a bit higher than expected (1/3 or 33.33%). From the graphs as well, we can see that the distribution is shifted to the left, compared to greens and yellows.\n",
    "The distributions of the shapes seem to be even, but of course, let the t-test speak for itself."
   ]
  },
  {
   "cell_type": "code",
   "execution_count": 11,
   "metadata": {},
   "outputs": [
    {
     "name": "stdout",
     "output_type": "stream",
     "text": [
      "Fail to reject the null for green: t -1.4705, p 0.1522\n",
      "Fail to reject the null for yellow: t -1.665, p 0.1067\n",
      "Reject the null for red: t 3.0931, p 0.0044\n",
      "Fail to reject the null for butterflies: t 0.5021, p 0.6194\n",
      "Fail to reject the null for frogs: t 0.5899, p 0.5599\n",
      "Fail to reject the null for snails: t -1.346, p 0.1887\n"
     ]
    }
   ],
   "source": [
    "pop_mean = 1/3\n",
    "alpha = 0.05\n",
    "    \n",
    "for col in df_agg_proportions.columns:\n",
    "    result = scipy.stats.ttest_1samp(df_agg_proportions[col], pop_mean)\n",
    "    if result[1] < alpha:\n",
    "        print(f'Reject the null for {col}: t {result[0].round(4)}, p {result[1].round(4)}')\n",
    "    else:\n",
    "        print(f'Fail to reject the null for {col}: t {result[0].round(4)}, p {result[1].round(4)}')"
   ]
  },
  {
   "cell_type": "markdown",
   "metadata": {},
   "source": [
    "And indeed, we can conclude that there are more red coloured Tutti Fruttis (M = 39.1%, SD = 10.2%) than others, t(29) = 3.0931, p = 0.0044.\n",
    "By shape, there is no significant difference in the distributions so we can conclude that they are distributed evenly."
   ]
  }
 ],
 "metadata": {
  "kernelspec": {
   "display_name": "Python 3",
   "language": "python",
   "name": "python3"
  },
  "language_info": {
   "codemirror_mode": {
    "name": "ipython",
    "version": 3
   },
   "file_extension": ".py",
   "mimetype": "text/x-python",
   "name": "python",
   "nbconvert_exporter": "python",
   "pygments_lexer": "ipython3",
   "version": "3.7.6"
  }
 },
 "nbformat": 4,
 "nbformat_minor": 2
}
