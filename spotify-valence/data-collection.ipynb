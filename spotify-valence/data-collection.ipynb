{
 "cells": [
  {
   "cell_type": "markdown",
   "metadata": {},
   "source": [
    "Documentation:\n",
    "\n",
    "https://developer.spotify.com/documentation/web-api/reference/#category-tracks\n",
    "\n",
    "https://spotipy.readthedocs.io/en/2.19.0/"
   ]
  },
  {
   "cell_type": "code",
   "execution_count": 9,
   "metadata": {},
   "outputs": [],
   "source": [
    "from bs4 import BeautifulSoup\n",
    "import requests\n",
    "import re"
   ]
  },
  {
   "cell_type": "code",
   "execution_count": 10,
   "metadata": {},
   "outputs": [],
   "source": [
    "headers = {'User-Agent': 'Mozilla/5.0 (Macintosh; Intel Mac OS X 10_11_5) AppleWebKit/537.36 (KHTML, like Gecko) Chrome/50.0.2661.102 Safari/537.36'}\n",
    "url = 'https://spotifycharts.com/regional/global/daily/latest'\n",
    "req = requests.get(url, headers=headers)\n",
    "soup = BeautifulSoup(req.content, 'html.parser')"
   ]
  },
  {
   "cell_type": "code",
   "execution_count": 11,
   "metadata": {},
   "outputs": [],
   "source": [
    "# scrape the available countries\n",
    "li_list = soup.find_all('li')\n",
    "codes = []\n",
    "names = []\n",
    "\n",
    "for l in li_list:\n",
    "    if len(re.findall('[a-zA-Z]+', l.text)) > 0 and l.has_attr('data-value'):\n",
    "        codes.append(l['data-value'])\n",
    "        names.append(l.text)\n",
    "    \n",
    "countries_dict = dict(zip(codes, names))"
   ]
  },
  {
   "cell_type": "code",
   "execution_count": 12,
   "metadata": {},
   "outputs": [],
   "source": [
    "# First, scrape the top 200 from spotifycharts.com with BeautifulSoup\n",
    "# func get_daily_chart\n",
    "\n",
    "# Then enrich the songs with features using audio_features\n",
    "# func get_audio_features"
   ]
  },
  {
   "cell_type": "code",
   "execution_count": 13,
   "metadata": {},
   "outputs": [],
   "source": [
    "from bs4 import BeautifulSoup\n",
    "import requests\n",
    "import pandas as pd\n",
    "import datetime\n",
    "import os\n",
    "import spotipy\n",
    "from spotipy.oauth2 import SpotifyClientCredentials"
   ]
  },
  {
   "cell_type": "code",
   "execution_count": 14,
   "metadata": {},
   "outputs": [],
   "source": [
    "def get_daily_chart(date, country):\n",
    "    headers = {'User-Agent': 'Mozilla/5.0 (Macintosh; Intel Mac OS X 10_11_5) AppleWebKit/537.36 (KHTML, like Gecko) Chrome/50.0.2661.102 Safari/537.36'}\n",
    "    url = f'https://spotifycharts.com/regional/{country}/daily/{date}'\n",
    "    req = requests.get(url, headers=headers)\n",
    "    soup = BeautifulSoup(req.content, 'html.parser')\n",
    "\n",
    "    df = pd.DataFrame(columns=['id','position','track','artist','streams'])\n",
    "\n",
    "    for tr in soup.find('tbody').findAll('tr'):\n",
    "        id = tr.find('td', {'class': 'chart-table-image'}).find(\"a\").get(\"href\").split(\"track/\")[1]\n",
    "        position = tr.find('td', {'class': 'chart-table-position'}).text\n",
    "        track = tr.find('td', {'class': 'chart-table-track'}).find('strong').text\n",
    "        artist = tr.find('td', {'class': 'chart-table-track'}).find('span').text.replace('by ','').strip()\n",
    "        streams = tr.find('td', {'class': 'chart-table-streams'}).text.replace(',','')\n",
    "        d = dict(zip(df.columns,[id,position,track,artist,streams]))    \n",
    "        df = df.append(d, ignore_index=True)\n",
    "\n",
    "    return df"
   ]
  },
  {
   "cell_type": "code",
   "execution_count": 15,
   "metadata": {},
   "outputs": [],
   "source": [
    "# need to sign up for credentials\n",
    "# https://developer.spotify.com/dashboard/login\n",
    "\n",
    "client_id = '###'\n",
    "client_secret = '###'\n",
    "\n",
    "client_credentials_manager = SpotifyClientCredentials(client_id=client_id, \n",
    "                                                      client_secret=client_secret)\n",
    "sp = spotipy.Spotify(client_credentials_manager=client_credentials_manager)"
   ]
  },
  {
   "cell_type": "code",
   "execution_count": 16,
   "metadata": {},
   "outputs": [],
   "source": [
    "def get_audio_features(ids):\n",
    "    # max is 100 ids at a time\n",
    "    if len(ids) > 100:\n",
    "        ids_1 = ids[:100]\n",
    "        ids_2 = ids[100:]\n",
    "        df_1 = pd.DataFrame(sp.audio_features(ids_1))\n",
    "        df_2 = pd.DataFrame(sp.audio_features(ids_2))\n",
    "        df = pd.concat([df_1, df_2], ignore_index=True)\n",
    "    else:\n",
    "        df = pd.DataFrame(sp.audio_features(ids))\n",
    "    df = df.drop(columns=['analysis_url', 'track_href', 'uri', 'type'])\n",
    "    return df"
   ]
  },
  {
   "cell_type": "code",
   "execution_count": 17,
   "metadata": {},
   "outputs": [],
   "source": [
    "# countries = ['global', 'us', 'gb', 'ae', 'ar', 'at', 'au', 'be', 'bg', 'bo', 'br', 'ca', 'ch', 'cl', 'co', 'cr',\n",
    "#              'cy', 'cz', 'de', 'dk', 'do', 'ec', 'ee', 'eg', 'es', 'fi', 'fr', 'gr', 'gt', 'hk', 'hn', 'hu', \n",
    "#              'id', 'ie', 'il', 'in', 'is', 'it', 'jp', 'kr', 'lt', 'lu', 'lv', 'ma', 'mx', 'my', 'ni', 'nl', \n",
    "#              'no', 'nz', 'pa', 'pe', 'ph', 'pl', 'pt', 'py', 'ro', 'ru', 'sa', 'se', 'sg', 'sk', 'sv', 'th', \n",
    "#              'tr', 'tw', 'ua', 'uy', 'vn', 'za']\n",
    "countries = ['tr', 'tw', 'ua', 'uy', 'vn', 'za']"
   ]
  },
  {
   "cell_type": "code",
   "execution_count": 18,
   "metadata": {},
   "outputs": [
    {
     "data": {
      "text/plain": [
       "1734"
      ]
     },
     "execution_count": 18,
     "metadata": {},
     "output_type": "execute_result"
    }
   ],
   "source": [
    "dates = pd.date_range(start='2017-01-01', end='2021-09-30')\n",
    "dates = [d.strftime('%Y-%m-%d') for d in dates]\n",
    "len(dates)\n",
    "# 1734"
   ]
  },
  {
   "cell_type": "code",
   "execution_count": 19,
   "metadata": {
    "scrolled": true
   },
   "outputs": [],
   "source": [
    "for country in countries:\n",
    "    for date in dates:\n",
    "        try:\n",
    "            df_basic = get_daily_chart(date, country)\n",
    "            ids = list(df_basic['id'])\n",
    "            df_features = get_audio_features(ids)\n",
    "            df_out = df_basic.merge(df_features, on='id')\n",
    "\n",
    "            filename = f'regional-{country}-daily-{date}.csv'\n",
    "            outdir = f'./data/{country}'\n",
    "            if not os.path.exists(outdir):\n",
    "                os.mkdir(outdir)\n",
    "            path = os.path.join(outdir, filename)\n",
    "\n",
    "            df_out.to_csv(path, index=False)\n",
    "        except:\n",
    "            pass"
   ]
  }
 ],
 "metadata": {
  "kernelspec": {
   "display_name": "Python 3",
   "language": "python",
   "name": "python3"
  },
  "language_info": {
   "codemirror_mode": {
    "name": "ipython",
    "version": 3
   },
   "file_extension": ".py",
   "mimetype": "text/x-python",
   "name": "python",
   "nbconvert_exporter": "python",
   "pygments_lexer": "ipython3",
   "version": "3.7.6"
  }
 },
 "nbformat": 4,
 "nbformat_minor": 4
}
