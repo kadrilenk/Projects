{
 "cells": [
  {
   "cell_type": "code",
   "execution_count": null,
   "id": "2a73c229",
   "metadata": {},
   "outputs": [],
   "source": [
    "import pandas as pd\n",
    "import numpy as np\n",
    "import requests\n",
    "from bs4 import BeautifulSoup"
   ]
  },
  {
   "cell_type": "code",
   "execution_count": null,
   "id": "b3889490",
   "metadata": {},
   "outputs": [],
   "source": [
    "headers = requests.utils.default_headers()\n",
    "headers.update({'User-Agent': 'Mozilla/5.0 (X11; Ubuntu; Linux x86_64; rv:52.0) Gecko/20100101 Firefox/52.0'})"
   ]
  },
  {
   "cell_type": "code",
   "execution_count": null,
   "id": "77536147",
   "metadata": {},
   "outputs": [],
   "source": [
    "dates = pd.date_range(start='01/01/2022', end='30/04/2022')\n",
    "dates = dates.strftime('%d.%m.%Y').to_list()\n",
    "hours = np.arange(24)"
   ]
  },
  {
   "cell_type": "code",
   "execution_count": null,
   "id": "2db1f48b",
   "metadata": {},
   "outputs": [],
   "source": [
    "def df_from_url(date, hour):\n",
    "    main_url = 'https://www.ilmateenistus.ee/ilm/ilmavaatlused/vaatlusandmed/tunniandmed/'\n",
    "    sub_url = f'?filter[date]={date}&filter[hour]={hour}'\n",
    "    req = requests.get(main_url + sub_url, headers)\n",
    "    soup = BeautifulSoup(req.content, 'html.parser')\n",
    "    table = soup.find_all('table')\n",
    "    df = pd.read_html(str(table), decimal=',', thousands='.')[0]\n",
    "    if sub_url != 'maxmin-ohutemp':\n",
    "        df.columns = [x+' '+y if x!=y else x for x, y in df.columns]\n",
    "    df = df.loc[df['Jaam']=='Tallinn-Harku']\n",
    "    df = df.drop(columns=['Jaam'])\n",
    "    df['date'] = date\n",
    "    df['hour'] = hour\n",
    "    return df"
   ]
  },
  {
   "cell_type": "code",
   "execution_count": null,
   "id": "3dc31e6f",
   "metadata": {
    "scrolled": true
   },
   "outputs": [],
   "source": [
    "df_list = []\n",
    "\n",
    "for date in dates:\n",
    "    for hour in hours:\n",
    "        print(f'{date} {hour}')\n",
    "        df_list.append(df_from_url(date, hour))"
   ]
  },
  {
   "cell_type": "code",
   "execution_count": null,
   "id": "091dcd16",
   "metadata": {},
   "outputs": [],
   "source": [
    "df_2022 = pd.concat(df_list, ignore_index=False)"
   ]
  },
  {
   "cell_type": "code",
   "execution_count": null,
   "id": "585854c6",
   "metadata": {},
   "outputs": [],
   "source": [
    "df_2022.to_csv('2022.csv', index=False)"
   ]
  },
  {
   "cell_type": "code",
   "execution_count": null,
   "id": "bc2df62a",
   "metadata": {},
   "outputs": [],
   "source": [
    "df_2022"
   ]
  },
  {
   "cell_type": "code",
   "execution_count": null,
   "id": "4fa94a01",
   "metadata": {},
   "outputs": [],
   "source": []
  }
 ],
 "metadata": {
  "kernelspec": {
   "display_name": "Python 3 (ipykernel)",
   "language": "python",
   "name": "python3"
  },
  "language_info": {
   "codemirror_mode": {
    "name": "ipython",
    "version": 3
   },
   "file_extension": ".py",
   "mimetype": "text/x-python",
   "name": "python",
   "nbconvert_exporter": "python",
   "pygments_lexer": "ipython3",
   "version": "3.9.7"
  }
 },
 "nbformat": 4,
 "nbformat_minor": 5
}
