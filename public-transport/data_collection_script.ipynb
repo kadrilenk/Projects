{
 "cells": [
  {
   "cell_type": "code",
   "execution_count": 2,
   "metadata": {},
   "outputs": [],
   "source": [
    "# set up a cronjon to run this script every minute during a certain time\n",
    "\n",
    "# crontab job:\n",
    "# 0 * * * * cd /Users/kadrilenk/Documents/Projektid/public_transport && /anaconda3/bin/python3 gps.py >> cron_log.txt 2>&1\n",
    "# * 4-23 13 5 * cd /Users/kadrilenk/Documents/Projektid/public_transport && /anaconda3/bin/python3 gps.py >> cron_log.txt 2>&1\n",
    "# * 0-1 14 5 * cd /Users/kadrilenk/Documents/Projektid/public_transport && /anaconda3/bin/python3 gps.py >> cron_log.txt 2>&1\n",
    "\n",
    "# crontab -e to start\n",
    "# press esc.\n",
    "# press i (for \"insert\") to begin editing the file.\n",
    "# paste the cron command in the file.\n",
    "# press esc again to exit editing mode.\n",
    "# type :wq to save ( w - write) and exit ( q - quit) the file.\n",
    "# crontab -l to see the scheduled jobs"
   ]
  },
  {
   "cell_type": "code",
   "execution_count": 3,
   "metadata": {},
   "outputs": [],
   "source": [
    "import urllib\n",
    "import time\n",
    "import datetime\n",
    "import pandas as pd"
   ]
  },
  {
   "cell_type": "markdown",
   "metadata": {},
   "source": [
    "First I get the current timestamp."
   ]
  },
  {
   "cell_type": "code",
   "execution_count": 4,
   "metadata": {},
   "outputs": [],
   "source": [
    "timestamp = datetime.datetime.fromtimestamp(time.time()).strftime('%Y-%m-%d %H:%M:%S')"
   ]
  },
  {
   "cell_type": "markdown",
   "metadata": {},
   "source": [
    "Then I pull the data from the url and save it into a temp_data.txt file."
   ]
  },
  {
   "cell_type": "code",
   "execution_count": 5,
   "metadata": {},
   "outputs": [
    {
     "data": {
      "text/plain": [
       "('temp_data.txt', <http.client.HTTPMessage at 0x11bb64d68>)"
      ]
     },
     "execution_count": 5,
     "metadata": {},
     "output_type": "execute_result"
    }
   ],
   "source": [
    "urllib.request.urlretrieve('https://transport.tallinn.ee/gps.txt', 'temp_data.txt')"
   ]
  },
  {
   "cell_type": "markdown",
   "metadata": {},
   "source": [
    "After that open the txt file and read it as a dataframe. I also add a column with the current timestamp."
   ]
  },
  {
   "cell_type": "code",
   "execution_count": 6,
   "metadata": {},
   "outputs": [],
   "source": [
    "data = pd.read_csv('temp_data.txt',\n",
    "                   names = [\"transport\", \"route\", \"long\", \"lat\", \"empty\", \"direction\", \"id\"],\n",
    "                   index_col=0)\n",
    "data['timestamp'] = timestamp"
   ]
  },
  {
   "cell_type": "markdown",
   "metadata": {},
   "source": [
    "Just in case I create a log file with all the data pulls."
   ]
  },
  {
   "cell_type": "code",
   "execution_count": 7,
   "metadata": {},
   "outputs": [],
   "source": [
    "with open('python_log.txt', 'a') as f:\n",
    "    f.write(str(len(data)) +' rows written to data.csv at '+ str(timestamp) + str('\\r\\n'))"
   ]
  },
  {
   "cell_type": "markdown",
   "metadata": {},
   "source": [
    "And last but not least, I append the pulled data into one csv."
   ]
  },
  {
   "cell_type": "code",
   "execution_count": 8,
   "metadata": {},
   "outputs": [],
   "source": [
    "with open('data.csv', 'a') as f:\n",
    "    data.to_csv(f, header=False)"
   ]
  },
  {
   "cell_type": "code",
   "execution_count": 9,
   "metadata": {},
   "outputs": [
    {
     "data": {
      "text/html": [
       "<div>\n",
       "<style scoped>\n",
       "    .dataframe tbody tr th:only-of-type {\n",
       "        vertical-align: middle;\n",
       "    }\n",
       "\n",
       "    .dataframe tbody tr th {\n",
       "        vertical-align: top;\n",
       "    }\n",
       "\n",
       "    .dataframe thead th {\n",
       "        text-align: right;\n",
       "    }\n",
       "</style>\n",
       "<table border=\"1\" class=\"dataframe\">\n",
       "  <thead>\n",
       "    <tr style=\"text-align: right;\">\n",
       "      <th></th>\n",
       "      <th>route</th>\n",
       "      <th>long</th>\n",
       "      <th>lat</th>\n",
       "      <th>empty</th>\n",
       "      <th>direction</th>\n",
       "      <th>id</th>\n",
       "      <th>timestamp</th>\n",
       "    </tr>\n",
       "    <tr>\n",
       "      <th>transport</th>\n",
       "      <th></th>\n",
       "      <th></th>\n",
       "      <th></th>\n",
       "      <th></th>\n",
       "      <th></th>\n",
       "      <th></th>\n",
       "      <th></th>\n",
       "    </tr>\n",
       "  </thead>\n",
       "  <tbody>\n",
       "    <tr>\n",
       "      <th>3</th>\n",
       "      <td>2</td>\n",
       "      <td>24760450</td>\n",
       "      <td>59434780</td>\n",
       "      <td>NaN</td>\n",
       "      <td>179</td>\n",
       "      <td>97</td>\n",
       "      <td>2019-05-17 19:04:34</td>\n",
       "    </tr>\n",
       "    <tr>\n",
       "      <th>3</th>\n",
       "      <td>3</td>\n",
       "      <td>24742680</td>\n",
       "      <td>59427730</td>\n",
       "      <td>NaN</td>\n",
       "      <td>191</td>\n",
       "      <td>98</td>\n",
       "      <td>2019-05-17 19:04:34</td>\n",
       "    </tr>\n",
       "    <tr>\n",
       "      <th>3</th>\n",
       "      <td>2</td>\n",
       "      <td>24673350</td>\n",
       "      <td>59458940</td>\n",
       "      <td>NaN</td>\n",
       "      <td>309</td>\n",
       "      <td>102</td>\n",
       "      <td>2019-05-17 19:04:34</td>\n",
       "    </tr>\n",
       "    <tr>\n",
       "      <th>3</th>\n",
       "      <td>1</td>\n",
       "      <td>24753220</td>\n",
       "      <td>59440960</td>\n",
       "      <td>NaN</td>\n",
       "      <td>344</td>\n",
       "      <td>109</td>\n",
       "      <td>2019-05-17 19:04:34</td>\n",
       "    </tr>\n",
       "    <tr>\n",
       "      <th>3</th>\n",
       "      <td>1</td>\n",
       "      <td>24675990</td>\n",
       "      <td>59457700</td>\n",
       "      <td>NaN</td>\n",
       "      <td>137</td>\n",
       "      <td>110</td>\n",
       "      <td>2019-05-17 19:04:34</td>\n",
       "    </tr>\n",
       "  </tbody>\n",
       "</table>\n",
       "</div>"
      ],
      "text/plain": [
       "          route      long       lat  empty  direction   id  \\\n",
       "transport                                                    \n",
       "3             2  24760450  59434780    NaN        179   97   \n",
       "3             3  24742680  59427730    NaN        191   98   \n",
       "3             2  24673350  59458940    NaN        309  102   \n",
       "3             1  24753220  59440960    NaN        344  109   \n",
       "3             1  24675990  59457700    NaN        137  110   \n",
       "\n",
       "                     timestamp  \n",
       "transport                       \n",
       "3          2019-05-17 19:04:34  \n",
       "3          2019-05-17 19:04:34  \n",
       "3          2019-05-17 19:04:34  \n",
       "3          2019-05-17 19:04:34  \n",
       "3          2019-05-17 19:04:34  "
      ]
     },
     "execution_count": 9,
     "metadata": {},
     "output_type": "execute_result"
    }
   ],
   "source": [
    "data.head()"
   ]
  },
  {
   "cell_type": "code",
   "execution_count": null,
   "metadata": {},
   "outputs": [],
   "source": []
  }
 ],
 "metadata": {
  "kernelspec": {
   "display_name": "Python 3",
   "language": "python",
   "name": "python3"
  },
  "language_info": {
   "codemirror_mode": {
    "name": "ipython",
    "version": 3
   },
   "file_extension": ".py",
   "mimetype": "text/x-python",
   "name": "python",
   "nbconvert_exporter": "python",
   "pygments_lexer": "ipython3",
   "version": "3.7.6"
  }
 },
 "nbformat": 4,
 "nbformat_minor": 2
}
