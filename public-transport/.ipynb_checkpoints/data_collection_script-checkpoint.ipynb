{
 "cells": [
  {
   "cell_type": "code",
   "execution_count": 1,
   "metadata": {},
   "outputs": [],
   "source": [
    "# set up a cronjon to run this script every minute during a certain time\n",
    "\n",
    "# crontab job:\n",
    "# 0 * * * * cd /Users/kadrilenk/Documents/Projektid/public_transport && /anaconda3/bin/python3 gps.py >> cron_log.txt 2>&1\n",
    "# * 4-23 13 5 * cd /Users/kadrilenk/Documents/Projektid/public_transport && /anaconda3/bin/python3 gps.py >> cron_log.txt 2>&1\n",
    "# * 0-1 14 5 * cd /Users/kadrilenk/Documents/Projektid/public_transport && /anaconda3/bin/python3 gps.py >> cron_log.txt 2>&1\n",
    "\n",
    "# crontab -e to start\n",
    "# press esc.\n",
    "# press i (for \"insert\") to begin editing the file.\n",
    "# paste the cron command in the file.\n",
    "# press esc again to exit editing mode.\n",
    "# type :wq to save ( w - write) and exit ( q - quit) the file.\n",
    "# crontab -l to see the scheduled jobs"
   ]
  },
  {
   "cell_type": "code",
   "execution_count": 49,
   "metadata": {},
   "outputs": [],
   "source": [
    "import urllib\n",
    "import time\n",
    "import datetime\n",
    "import pandas as pd"
   ]
  },
  {
   "cell_type": "code",
   "execution_count": 50,
   "metadata": {},
   "outputs": [],
   "source": [
    "timestamp = datetime.datetime.fromtimestamp(time.time()).strftime('%Y-%m-%d %H:%M:%S')"
   ]
  },
  {
   "cell_type": "code",
   "execution_count": 51,
   "metadata": {},
   "outputs": [
    {
     "data": {
      "text/plain": [
       "('temp_data.txt', <http.client.HTTPMessage at 0x117b4f898>)"
      ]
     },
     "execution_count": 51,
     "metadata": {},
     "output_type": "execute_result"
    }
   ],
   "source": [
    "urllib.request.urlretrieve('https://transport.tallinn.ee/gps.txt', 'temp_data.txt')"
   ]
  },
  {
   "cell_type": "code",
   "execution_count": 52,
   "metadata": {},
   "outputs": [],
   "source": [
    "data = pd.read_csv('temp_data.txt', names = [\"transport\", \"route\", \"long\", \"lat\", \"empty\", \"direction\", \"id\"], index_col=0)\n",
    "data['timestamp'] = timestamp"
   ]
  },
  {
   "cell_type": "code",
   "execution_count": 53,
   "metadata": {},
   "outputs": [],
   "source": [
    "with open('python_log.txt', 'a') as f:\n",
    "    f.write(str(len(data)) +' rows written to data.csv at '+ str(timestamp) + str('\\r\\n'))"
   ]
  },
  {
   "cell_type": "code",
   "execution_count": 54,
   "metadata": {},
   "outputs": [],
   "source": [
    "with open('data.csv', 'a') as f:\n",
    "    data.to_csv(f, header=False)"
   ]
  },
  {
   "cell_type": "code",
   "execution_count": null,
   "metadata": {},
   "outputs": [],
   "source": []
  }
 ],
 "metadata": {
  "kernelspec": {
   "display_name": "Python 3",
   "language": "python",
   "name": "python3"
  },
  "language_info": {
   "codemirror_mode": {
    "name": "ipython",
    "version": 3
   },
   "file_extension": ".py",
   "mimetype": "text/x-python",
   "name": "python",
   "nbconvert_exporter": "python",
   "pygments_lexer": "ipython3",
   "version": "3.7.1"
  }
 },
 "nbformat": 4,
 "nbformat_minor": 2
}
