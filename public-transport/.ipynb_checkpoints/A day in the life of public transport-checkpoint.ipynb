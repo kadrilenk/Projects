{
 "cells": [
  {
   "cell_type": "code",
   "execution_count": 16,
   "metadata": {},
   "outputs": [],
   "source": [
    "import pandas as pd\n",
    "import matplotlib.pyplot as plt\n",
    "import descartes\n",
    "import geopandas as gpd\n",
    "from shapely.geometry import Point, Polygon\n",
    "import math\n",
    "import datetime\n",
    "import imageio\n",
    "import os\n",
    "import glob"
   ]
  },
  {
   "cell_type": "markdown",
   "metadata": {},
   "source": [
    "# Cleaning the data"
   ]
  },
  {
   "cell_type": "code",
   "execution_count": 17,
   "metadata": {},
   "outputs": [
    {
     "name": "stdout",
     "output_type": "stream",
     "text": [
      "rows in file:  482050\n"
     ]
    },
    {
     "data": {
      "text/html": [
       "<div>\n",
       "<style scoped>\n",
       "    .dataframe tbody tr th:only-of-type {\n",
       "        vertical-align: middle;\n",
       "    }\n",
       "\n",
       "    .dataframe tbody tr th {\n",
       "        vertical-align: top;\n",
       "    }\n",
       "\n",
       "    .dataframe thead th {\n",
       "        text-align: right;\n",
       "    }\n",
       "</style>\n",
       "<table border=\"1\" class=\"dataframe\">\n",
       "  <thead>\n",
       "    <tr style=\"text-align: right;\">\n",
       "      <th></th>\n",
       "      <th>transport</th>\n",
       "      <th>route</th>\n",
       "      <th>long</th>\n",
       "      <th>lat</th>\n",
       "      <th>empty</th>\n",
       "      <th>direction</th>\n",
       "      <th>id</th>\n",
       "      <th>timestamp</th>\n",
       "    </tr>\n",
       "  </thead>\n",
       "  <tbody>\n",
       "    <tr>\n",
       "      <th>0</th>\n",
       "      <td>2</td>\n",
       "      <td>0</td>\n",
       "      <td>24747070</td>\n",
       "      <td>59418130</td>\n",
       "      <td>NaN</td>\n",
       "      <td>999</td>\n",
       "      <td>102</td>\n",
       "      <td>2019-05-13 04:00:01</td>\n",
       "    </tr>\n",
       "    <tr>\n",
       "      <th>1</th>\n",
       "      <td>2</td>\n",
       "      <td>0</td>\n",
       "      <td>24745240</td>\n",
       "      <td>59419440</td>\n",
       "      <td>NaN</td>\n",
       "      <td>999</td>\n",
       "      <td>114</td>\n",
       "      <td>2019-05-13 04:00:01</td>\n",
       "    </tr>\n",
       "    <tr>\n",
       "      <th>2</th>\n",
       "      <td>2</td>\n",
       "      <td>0</td>\n",
       "      <td>24665680</td>\n",
       "      <td>59462650</td>\n",
       "      <td>NaN</td>\n",
       "      <td>999</td>\n",
       "      <td>150</td>\n",
       "      <td>2019-05-13 04:00:01</td>\n",
       "    </tr>\n",
       "    <tr>\n",
       "      <th>3</th>\n",
       "      <td>2</td>\n",
       "      <td>0</td>\n",
       "      <td>0</td>\n",
       "      <td>0</td>\n",
       "      <td>NaN</td>\n",
       "      <td>999</td>\n",
       "      <td>169</td>\n",
       "      <td>2019-05-13 04:00:01</td>\n",
       "    </tr>\n",
       "    <tr>\n",
       "      <th>4</th>\n",
       "      <td>2</td>\n",
       "      <td>0</td>\n",
       "      <td>24666080</td>\n",
       "      <td>59462770</td>\n",
       "      <td>NaN</td>\n",
       "      <td>999</td>\n",
       "      <td>170</td>\n",
       "      <td>2019-05-13 04:00:01</td>\n",
       "    </tr>\n",
       "  </tbody>\n",
       "</table>\n",
       "</div>"
      ],
      "text/plain": [
       "   transport route      long       lat  empty  direction   id  \\\n",
       "0          2     0  24747070  59418130    NaN        999  102   \n",
       "1          2     0  24745240  59419440    NaN        999  114   \n",
       "2          2     0  24665680  59462650    NaN        999  150   \n",
       "3          2     0         0         0    NaN        999  169   \n",
       "4          2     0  24666080  59462770    NaN        999  170   \n",
       "\n",
       "             timestamp  \n",
       "0  2019-05-13 04:00:01  \n",
       "1  2019-05-13 04:00:01  \n",
       "2  2019-05-13 04:00:01  \n",
       "3  2019-05-13 04:00:01  \n",
       "4  2019-05-13 04:00:01  "
      ]
     },
     "execution_count": 17,
     "metadata": {},
     "output_type": "execute_result"
    }
   ],
   "source": [
    "df = pd.read_csv('data.csv')\n",
    "print('rows in file: ', len(df))\n",
    "df.head()"
   ]
  },
  {
   "cell_type": "markdown",
   "metadata": {},
   "source": [
    "First lest adjust the coordinates so that the decimal place is \"in the correct place\"."
   ]
  },
  {
   "cell_type": "code",
   "execution_count": 18,
   "metadata": {},
   "outputs": [],
   "source": [
    "df['long'] = df['long']/1000000\n",
    "df['lat'] = df['lat']/1000000"
   ]
  },
  {
   "cell_type": "markdown",
   "metadata": {},
   "source": [
    "After some exploration I discover the bugs in data, mainly missing coordinates which are essential for this project. I also discover that some coordinates are way outside Tallinn perimiter so I need to exclude such data as well."
   ]
  },
  {
   "cell_type": "code",
   "execution_count": 19,
   "metadata": {},
   "outputs": [
    {
     "name": "stdout",
     "output_type": "stream",
     "text": [
      "400714\n"
     ]
    },
    {
     "data": {
      "text/html": [
       "<div>\n",
       "<style scoped>\n",
       "    .dataframe tbody tr th:only-of-type {\n",
       "        vertical-align: middle;\n",
       "    }\n",
       "\n",
       "    .dataframe tbody tr th {\n",
       "        vertical-align: top;\n",
       "    }\n",
       "\n",
       "    .dataframe thead th {\n",
       "        text-align: right;\n",
       "    }\n",
       "</style>\n",
       "<table border=\"1\" class=\"dataframe\">\n",
       "  <thead>\n",
       "    <tr style=\"text-align: right;\">\n",
       "      <th></th>\n",
       "      <th>transport</th>\n",
       "      <th>route</th>\n",
       "      <th>long</th>\n",
       "      <th>lat</th>\n",
       "      <th>empty</th>\n",
       "      <th>direction</th>\n",
       "      <th>id</th>\n",
       "      <th>timestamp</th>\n",
       "    </tr>\n",
       "  </thead>\n",
       "  <tbody>\n",
       "    <tr>\n",
       "      <th>1266</th>\n",
       "      <td>3</td>\n",
       "      <td>2</td>\n",
       "      <td>24.66703</td>\n",
       "      <td>59.46233</td>\n",
       "      <td>NaN</td>\n",
       "      <td>13</td>\n",
       "      <td>176</td>\n",
       "      <td>2019-05-13 04:27:01</td>\n",
       "    </tr>\n",
       "    <tr>\n",
       "      <th>1300</th>\n",
       "      <td>3</td>\n",
       "      <td>2</td>\n",
       "      <td>24.66703</td>\n",
       "      <td>59.46233</td>\n",
       "      <td>NaN</td>\n",
       "      <td>13</td>\n",
       "      <td>176</td>\n",
       "      <td>2019-05-13 04:28:00</td>\n",
       "    </tr>\n",
       "    <tr>\n",
       "      <th>1312</th>\n",
       "      <td>2</td>\n",
       "      <td>5</td>\n",
       "      <td>24.65864</td>\n",
       "      <td>59.41008</td>\n",
       "      <td>NaN</td>\n",
       "      <td>13</td>\n",
       "      <td>2286</td>\n",
       "      <td>2019-05-13 04:28:00</td>\n",
       "    </tr>\n",
       "    <tr>\n",
       "      <th>1335</th>\n",
       "      <td>3</td>\n",
       "      <td>2</td>\n",
       "      <td>24.66703</td>\n",
       "      <td>59.46233</td>\n",
       "      <td>NaN</td>\n",
       "      <td>13</td>\n",
       "      <td>176</td>\n",
       "      <td>2019-05-13 04:29:01</td>\n",
       "    </tr>\n",
       "    <tr>\n",
       "      <th>1339</th>\n",
       "      <td>2</td>\n",
       "      <td>18</td>\n",
       "      <td>24.66082</td>\n",
       "      <td>59.41117</td>\n",
       "      <td>NaN</td>\n",
       "      <td>13</td>\n",
       "      <td>1072</td>\n",
       "      <td>2019-05-13 04:29:01</td>\n",
       "    </tr>\n",
       "  </tbody>\n",
       "</table>\n",
       "</div>"
      ],
      "text/plain": [
       "      transport route      long       lat  empty  direction    id  \\\n",
       "1266          3     2  24.66703  59.46233    NaN         13   176   \n",
       "1300          3     2  24.66703  59.46233    NaN         13   176   \n",
       "1312          2     5  24.65864  59.41008    NaN         13  2286   \n",
       "1335          3     2  24.66703  59.46233    NaN         13   176   \n",
       "1339          2    18  24.66082  59.41117    NaN         13  1072   \n",
       "\n",
       "                timestamp  \n",
       "1266  2019-05-13 04:27:01  \n",
       "1300  2019-05-13 04:28:00  \n",
       "1312  2019-05-13 04:28:00  \n",
       "1335  2019-05-13 04:29:01  \n",
       "1339  2019-05-13 04:29:01  "
      ]
     },
     "execution_count": 19,
     "metadata": {},
     "output_type": "execute_result"
    }
   ],
   "source": [
    "# remove rows with incomplete data\n",
    "df = df[(df.lat != 0) & (df.long != 0) & (df.route != '0') & \n",
    "        (df.direction < 360) & (df.direction >= 0)]\n",
    "\n",
    "# remove rows with coordinates that are outside Tallinn\n",
    "df = df[(df['lat']>59.33) & (df['lat']<59.6) & (df['long']>24.5) & (df['long']<25)]\n",
    "\n",
    "print(len(df))\n",
    "df.head()"
   ]
  },
  {
   "cell_type": "markdown",
   "metadata": {},
   "source": [
    "I also round the timestamp to a minute because that's the precision I need for this project."
   ]
  },
  {
   "cell_type": "code",
   "execution_count": 20,
   "metadata": {},
   "outputs": [],
   "source": [
    "df['timestamp'] = pd.to_datetime(df['timestamp']).astype('datetime64[m]')"
   ]
  },
  {
   "cell_type": "markdown",
   "metadata": {},
   "source": [
    "Now let's take a look at how much data we have per hour."
   ]
  },
  {
   "cell_type": "code",
   "execution_count": 21,
   "metadata": {},
   "outputs": [
    {
     "data": {
      "text/plain": [
       "<matplotlib.axes._subplots.AxesSubplot at 0x121f93438>"
      ]
     },
     "execution_count": 21,
     "metadata": {},
     "output_type": "execute_result"
    },
    {
     "data": {
      "image/png": "[encoded data removed]",
      "text/plain": [
       "<Figure size 432x288 with 1 Axes>"
      ]
     },
     "metadata": {
      "needs_background": "light"
     },
     "output_type": "display_data"
    }
   ],
   "source": [
    "df['timestamp_hour'] = df['timestamp'].dt.to_period('h').dt.to_timestamp()\n",
    "df_hourly = df.groupby(['timestamp_hour'])[['id']].count()\n",
    "df_hourly.plot.bar()"
   ]
  },
  {
   "cell_type": "markdown",
   "metadata": {},
   "source": [
    "Looks good so we can continue with the analysis."
   ]
  },
  {
   "cell_type": "markdown",
   "metadata": {},
   "source": [
    "# Converting the coordinates"
   ]
  },
  {
   "cell_type": "markdown",
   "metadata": {},
   "source": [
    "We need to convert the geo coordinates to L-EST97 coorinates because the shape file we'll use in this project as the map is in that latter format. Fortunately there is this site that can do that conversion and they also have the underlying functions there so we can just use those.\n",
    "\n",
    "\n",
    "https://www.maaamet.ee/rr/geo-lest/"
   ]
  },
  {
   "cell_type": "code",
   "execution_count": 22,
   "metadata": {},
   "outputs": [],
   "source": [
    "def geo_lest_lat(lat, long):\n",
    "    LAT = lat * (3.14159265358979 / 180)\n",
    "    LON = long * (3.14159265358979 / 180)\n",
    "    f1 = 1 / 298.257222100883\n",
    "    B0 = (57 + 31 / 60 + 3.194148 / 3600) * (3.14159265358979 / 180)\n",
    "    L0 = 24 * (3.14159265358979 / 180)\n",
    "    B1 = (59 + 20 / 60) * (3.14159265358979 / 180)\n",
    "    B2 = (58) * (3.14159265358979 / 180)\n",
    "    er = (2 * f1) - (f1 * f1)\n",
    "    e = math.sqrt(er)\n",
    "    t1 = math.sqrt(((1-math.sin(B1)) / (1+math.sin(B1))) * (((1+e*math.sin(B1)) / (1-e*math.sin(B1))) ** e))\n",
    "    t2 = math.sqrt(((1-math.sin(B2)) / (1+math.sin(B2))) * (((1+e*math.sin(B2)) / (1-e*math.sin(B2))) ** e))\n",
    "    t0 = math.sqrt(((1-math.sin(B0)) / (1+math.sin(B0))) * (((1+e*math.sin(B0)) / (1-e*math.sin(B0))) ** e))\n",
    "    t = math.sqrt(((1-math.sin(LAT)) / (1+math.sin(LAT))) * (((1+e*math.sin(LAT)) / (1-e*math.sin(LAT))) ** e))\n",
    "    m1 = math.cos(B1) / ((1 - er * math.sin(B1) * math.sin(B1)) ** 0.5)\n",
    "    m2 = math.cos(B2) / ((1 - er * math.sin(B2) * math.sin(B2)) ** 0.5)\n",
    "    n = (math.log(m1) - math.log(m2)) / (math.log(t1) - math.log(t2))\n",
    "    FF = m1 / (n * t1 ** n)\n",
    "    p0 = 6378137 * FF * (t0 ** n)\n",
    "    FII = n * (LON - L0)\n",
    "    p = 6378137 * FF * t ** n\n",
    "    \n",
    "    n = p0 - (p * math.cos(FII)) + 6375000\n",
    "    e = p * math.sin(FII) + 500000\n",
    "    return(n)"
   ]
  },
  {
   "cell_type": "code",
   "execution_count": 23,
   "metadata": {},
   "outputs": [],
   "source": [
    "def geo_lest_long(lat, long):\n",
    "    LAT = lat * (3.14159265358979 / 180)\n",
    "    LON = long * (3.14159265358979 / 180)\n",
    "    f1 = 1 / 298.257222100883\n",
    "    B0 = (57 + 31 / 60 + 3.194148 / 3600) * (3.14159265358979 / 180)\n",
    "    L0 = 24 * (3.14159265358979 / 180)\n",
    "    B1 = (59 + 20 / 60) * (3.14159265358979 / 180)\n",
    "    B2 = (58) * (3.14159265358979 / 180)\n",
    "    er = (2 * f1) - (f1 * f1)\n",
    "    e = math.sqrt(er)\n",
    "    t1 = math.sqrt(((1-math.sin(B1)) / (1+math.sin(B1))) * (((1+e*math.sin(B1)) / (1-e*math.sin(B1))) ** e))\n",
    "    t2 = math.sqrt(((1-math.sin(B2)) / (1+math.sin(B2))) * (((1+e*math.sin(B2)) / (1-e*math.sin(B2))) ** e))\n",
    "    t0 = math.sqrt(((1-math.sin(B0)) / (1+math.sin(B0))) * (((1+e*math.sin(B0)) / (1-e*math.sin(B0))) ** e))\n",
    "    t = math.sqrt(((1-math.sin(LAT)) / (1+math.sin(LAT))) * (((1+e*math.sin(LAT)) / (1-e*math.sin(LAT))) ** e))\n",
    "    m1 = math.cos(B1) / ((1 - er * math.sin(B1) * math.sin(B1)) ** 0.5)\n",
    "    m2 = math.cos(B2) / ((1 - er * math.sin(B2) * math.sin(B2)) ** 0.5)\n",
    "    n = (math.log(m1) - math.log(m2)) / (math.log(t1) - math.log(t2))\n",
    "    FF = m1 / (n * t1 ** n)\n",
    "    p0 = 6378137 * FF * (t0 ** n)\n",
    "    FII = n * (LON - L0)\n",
    "    p = 6378137 * FF * t ** n\n",
    "    \n",
    "    n = p0 - (p * math.cos(FII)) + 6375000\n",
    "    e = p * math.sin(FII) + 500000\n",
    "    return(e)"
   ]
  },
  {
   "cell_type": "markdown",
   "metadata": {},
   "source": [
    "So let's then convert the coordinates."
   ]
  },
  {
   "cell_type": "code",
   "execution_count": 24,
   "metadata": {},
   "outputs": [
    {
     "data": {
      "text/html": [
       "<div>\n",
       "<style scoped>\n",
       "    .dataframe tbody tr th:only-of-type {\n",
       "        vertical-align: middle;\n",
       "    }\n",
       "\n",
       "    .dataframe tbody tr th {\n",
       "        vertical-align: top;\n",
       "    }\n",
       "\n",
       "    .dataframe thead th {\n",
       "        text-align: right;\n",
       "    }\n",
       "</style>\n",
       "<table border=\"1\" class=\"dataframe\">\n",
       "  <thead>\n",
       "    <tr style=\"text-align: right;\">\n",
       "      <th></th>\n",
       "      <th>transport</th>\n",
       "      <th>route</th>\n",
       "      <th>long</th>\n",
       "      <th>lat</th>\n",
       "      <th>empty</th>\n",
       "      <th>direction</th>\n",
       "      <th>id</th>\n",
       "      <th>timestamp</th>\n",
       "      <th>timestamp_hour</th>\n",
       "      <th>long_lest</th>\n",
       "      <th>lat_lest</th>\n",
       "    </tr>\n",
       "  </thead>\n",
       "  <tbody>\n",
       "    <tr>\n",
       "      <th>1266</th>\n",
       "      <td>3</td>\n",
       "      <td>2</td>\n",
       "      <td>24.66703</td>\n",
       "      <td>59.46233</td>\n",
       "      <td>NaN</td>\n",
       "      <td>13</td>\n",
       "      <td>176</td>\n",
       "      <td>2019-05-13 04:27:00</td>\n",
       "      <td>2019-05-13 04:00:00</td>\n",
       "      <td>537823.027010</td>\n",
       "      <td>6.591806e+06</td>\n",
       "    </tr>\n",
       "    <tr>\n",
       "      <th>1300</th>\n",
       "      <td>3</td>\n",
       "      <td>2</td>\n",
       "      <td>24.66703</td>\n",
       "      <td>59.46233</td>\n",
       "      <td>NaN</td>\n",
       "      <td>13</td>\n",
       "      <td>176</td>\n",
       "      <td>2019-05-13 04:28:00</td>\n",
       "      <td>2019-05-13 04:00:00</td>\n",
       "      <td>537823.027010</td>\n",
       "      <td>6.591806e+06</td>\n",
       "    </tr>\n",
       "    <tr>\n",
       "      <th>1312</th>\n",
       "      <td>2</td>\n",
       "      <td>5</td>\n",
       "      <td>24.65864</td>\n",
       "      <td>59.41008</td>\n",
       "      <td>NaN</td>\n",
       "      <td>13</td>\n",
       "      <td>2286</td>\n",
       "      <td>2019-05-13 04:28:00</td>\n",
       "      <td>2019-05-13 04:00:00</td>\n",
       "      <td>537404.454307</td>\n",
       "      <td>6.585981e+06</td>\n",
       "    </tr>\n",
       "    <tr>\n",
       "      <th>1335</th>\n",
       "      <td>3</td>\n",
       "      <td>2</td>\n",
       "      <td>24.66703</td>\n",
       "      <td>59.46233</td>\n",
       "      <td>NaN</td>\n",
       "      <td>13</td>\n",
       "      <td>176</td>\n",
       "      <td>2019-05-13 04:29:00</td>\n",
       "      <td>2019-05-13 04:00:00</td>\n",
       "      <td>537823.027010</td>\n",
       "      <td>6.591806e+06</td>\n",
       "    </tr>\n",
       "    <tr>\n",
       "      <th>1339</th>\n",
       "      <td>2</td>\n",
       "      <td>18</td>\n",
       "      <td>24.66082</td>\n",
       "      <td>59.41117</td>\n",
       "      <td>NaN</td>\n",
       "      <td>13</td>\n",
       "      <td>1072</td>\n",
       "      <td>2019-05-13 04:29:00</td>\n",
       "      <td>2019-05-13 04:00:00</td>\n",
       "      <td>537527.057196</td>\n",
       "      <td>6.586103e+06</td>\n",
       "    </tr>\n",
       "  </tbody>\n",
       "</table>\n",
       "</div>"
      ],
      "text/plain": [
       "      transport route      long       lat  empty  direction    id  \\\n",
       "1266          3     2  24.66703  59.46233    NaN         13   176   \n",
       "1300          3     2  24.66703  59.46233    NaN         13   176   \n",
       "1312          2     5  24.65864  59.41008    NaN         13  2286   \n",
       "1335          3     2  24.66703  59.46233    NaN         13   176   \n",
       "1339          2    18  24.66082  59.41117    NaN         13  1072   \n",
       "\n",
       "               timestamp      timestamp_hour      long_lest      lat_lest  \n",
       "1266 2019-05-13 04:27:00 2019-05-13 04:00:00  537823.027010  6.591806e+06  \n",
       "1300 2019-05-13 04:28:00 2019-05-13 04:00:00  537823.027010  6.591806e+06  \n",
       "1312 2019-05-13 04:28:00 2019-05-13 04:00:00  537404.454307  6.585981e+06  \n",
       "1335 2019-05-13 04:29:00 2019-05-13 04:00:00  537823.027010  6.591806e+06  \n",
       "1339 2019-05-13 04:29:00 2019-05-13 04:00:00  537527.057196  6.586103e+06  "
      ]
     },
     "execution_count": 24,
     "metadata": {},
     "output_type": "execute_result"
    }
   ],
   "source": [
    "df['long_lest'] = df.apply(lambda row: geo_lest_long(row['lat'],row['long']),axis=1)\n",
    "df['lat_lest'] = df.apply(lambda row: geo_lest_lat(row['lat'],row['long']),axis=1)\n",
    "\n",
    "df.head()"
   ]
  },
  {
   "cell_type": "markdown",
   "metadata": {},
   "source": [
    "# Prepare the data for the map"
   ]
  },
  {
   "cell_type": "code",
   "execution_count": null,
   "metadata": {},
   "outputs": [],
   "source": [
    "# for testing with smaller dataset\n",
    "# df = df[:10000]"
   ]
  },
  {
   "cell_type": "code",
   "execution_count": 26,
   "metadata": {},
   "outputs": [
    {
     "data": {
      "text/html": [
       "<div>\n",
       "<style scoped>\n",
       "    .dataframe tbody tr th:only-of-type {\n",
       "        vertical-align: middle;\n",
       "    }\n",
       "\n",
       "    .dataframe tbody tr th {\n",
       "        vertical-align: top;\n",
       "    }\n",
       "\n",
       "    .dataframe thead th {\n",
       "        text-align: right;\n",
       "    }\n",
       "</style>\n",
       "<table border=\"1\" class=\"dataframe\">\n",
       "  <thead>\n",
       "    <tr style=\"text-align: right;\">\n",
       "      <th></th>\n",
       "      <th>transport</th>\n",
       "      <th>route</th>\n",
       "      <th>long</th>\n",
       "      <th>lat</th>\n",
       "      <th>empty</th>\n",
       "      <th>direction</th>\n",
       "      <th>id</th>\n",
       "      <th>timestamp</th>\n",
       "      <th>timestamp_hour</th>\n",
       "      <th>long_lest</th>\n",
       "      <th>lat_lest</th>\n",
       "      <th>geometry</th>\n",
       "    </tr>\n",
       "  </thead>\n",
       "  <tbody>\n",
       "    <tr>\n",
       "      <th>1266</th>\n",
       "      <td>3</td>\n",
       "      <td>2</td>\n",
       "      <td>24.66703</td>\n",
       "      <td>59.46233</td>\n",
       "      <td>NaN</td>\n",
       "      <td>13</td>\n",
       "      <td>176</td>\n",
       "      <td>2019-05-13 04:27:00</td>\n",
       "      <td>2019-05-13 04:00:00</td>\n",
       "      <td>537823.027010</td>\n",
       "      <td>6.591806e+06</td>\n",
       "      <td>POINT (537823.027 6591806.023)</td>\n",
       "    </tr>\n",
       "    <tr>\n",
       "      <th>1300</th>\n",
       "      <td>3</td>\n",
       "      <td>2</td>\n",
       "      <td>24.66703</td>\n",
       "      <td>59.46233</td>\n",
       "      <td>NaN</td>\n",
       "      <td>13</td>\n",
       "      <td>176</td>\n",
       "      <td>2019-05-13 04:28:00</td>\n",
       "      <td>2019-05-13 04:00:00</td>\n",
       "      <td>537823.027010</td>\n",
       "      <td>6.591806e+06</td>\n",
       "      <td>POINT (537823.027 6591806.023)</td>\n",
       "    </tr>\n",
       "    <tr>\n",
       "      <th>1312</th>\n",
       "      <td>2</td>\n",
       "      <td>5</td>\n",
       "      <td>24.65864</td>\n",
       "      <td>59.41008</td>\n",
       "      <td>NaN</td>\n",
       "      <td>13</td>\n",
       "      <td>2286</td>\n",
       "      <td>2019-05-13 04:28:00</td>\n",
       "      <td>2019-05-13 04:00:00</td>\n",
       "      <td>537404.454307</td>\n",
       "      <td>6.585981e+06</td>\n",
       "      <td>POINT (537404.454 6585980.682)</td>\n",
       "    </tr>\n",
       "    <tr>\n",
       "      <th>1335</th>\n",
       "      <td>3</td>\n",
       "      <td>2</td>\n",
       "      <td>24.66703</td>\n",
       "      <td>59.46233</td>\n",
       "      <td>NaN</td>\n",
       "      <td>13</td>\n",
       "      <td>176</td>\n",
       "      <td>2019-05-13 04:29:00</td>\n",
       "      <td>2019-05-13 04:00:00</td>\n",
       "      <td>537823.027010</td>\n",
       "      <td>6.591806e+06</td>\n",
       "      <td>POINT (537823.027 6591806.023)</td>\n",
       "    </tr>\n",
       "    <tr>\n",
       "      <th>1339</th>\n",
       "      <td>2</td>\n",
       "      <td>18</td>\n",
       "      <td>24.66082</td>\n",
       "      <td>59.41117</td>\n",
       "      <td>NaN</td>\n",
       "      <td>13</td>\n",
       "      <td>1072</td>\n",
       "      <td>2019-05-13 04:29:00</td>\n",
       "      <td>2019-05-13 04:00:00</td>\n",
       "      <td>537527.057196</td>\n",
       "      <td>6.586103e+06</td>\n",
       "      <td>POINT (537527.057 6586103.324)</td>\n",
       "    </tr>\n",
       "  </tbody>\n",
       "</table>\n",
       "</div>"
      ],
      "text/plain": [
       "      transport route      long       lat  empty  direction    id  \\\n",
       "1266          3     2  24.66703  59.46233    NaN         13   176   \n",
       "1300          3     2  24.66703  59.46233    NaN         13   176   \n",
       "1312          2     5  24.65864  59.41008    NaN         13  2286   \n",
       "1335          3     2  24.66703  59.46233    NaN         13   176   \n",
       "1339          2    18  24.66082  59.41117    NaN         13  1072   \n",
       "\n",
       "               timestamp      timestamp_hour      long_lest      lat_lest  \\\n",
       "1266 2019-05-13 04:27:00 2019-05-13 04:00:00  537823.027010  6.591806e+06   \n",
       "1300 2019-05-13 04:28:00 2019-05-13 04:00:00  537823.027010  6.591806e+06   \n",
       "1312 2019-05-13 04:28:00 2019-05-13 04:00:00  537404.454307  6.585981e+06   \n",
       "1335 2019-05-13 04:29:00 2019-05-13 04:00:00  537823.027010  6.591806e+06   \n",
       "1339 2019-05-13 04:29:00 2019-05-13 04:00:00  537527.057196  6.586103e+06   \n",
       "\n",
       "                            geometry  \n",
       "1266  POINT (537823.027 6591806.023)  \n",
       "1300  POINT (537823.027 6591806.023)  \n",
       "1312  POINT (537404.454 6585980.682)  \n",
       "1335  POINT (537823.027 6591806.023)  \n",
       "1339  POINT (537527.057 6586103.324)  "
      ]
     },
     "execution_count": 26,
     "metadata": {},
     "output_type": "execute_result"
    }
   ],
   "source": [
    "tallinn_map = gpd.read_file('jalgrattateed_04032019.shp')\n",
    "\n",
    "crs = {'init': 'epsg:3301'} # lest coordinate reference system\n",
    "geometry = [Point(xy) for xy in zip(df['long_lest'], df['lat_lest'])]\n",
    "df = gpd.GeoDataFrame(df, crs=crs, geometry=geometry)\n",
    "df.head()"
   ]
  },
  {
   "cell_type": "code",
   "execution_count": null,
   "metadata": {},
   "outputs": [],
   "source": [
    "list_of_timestamps = pd.DatetimeIndex(df['timestamp'].unique())\n",
    "len(list_of_timestamps)"
   ]
  },
  {
   "cell_type": "code",
   "execution_count": null,
   "metadata": {},
   "outputs": [],
   "source": [
    "# since some of the coordinates are outside of the base map, we need plot the min and max data points on each map\n",
    "# otherwise the images we'll use to make the gif are not aligned properly\n",
    "\n",
    "data = [[df['long_lest'].min(), df['lat_lest'].min()], [df['long_lest'].max(), df['lat_lest'].max()]]\n",
    "df_dummy = pd.DataFrame(data, columns = ['long_lest', 'lat_lest']) \n",
    "crs = {'init': 'epsg:3301'} # lest coordinate reference system\n",
    "geometry = [Point(xy) for xy in zip(df_dummy['long_lest'], df_dummy['lat_lest'])]\n",
    "df_dummy = gpd.GeoDataFrame(df_dummy, crs=crs, geometry=geometry)\n",
    "df_dummy"
   ]
  },
  {
   "cell_type": "markdown",
   "metadata": {},
   "source": [
    "# Produce the images for the timelapse"
   ]
  },
  {
   "cell_type": "markdown",
   "metadata": {},
   "source": [
    "Now we can start creating the images what I use as frames for the timelapse. I'll creat one image per minute."
   ]
  },
  {
   "cell_type": "code",
   "execution_count": null,
   "metadata": {},
   "outputs": [],
   "source": [
    "# # just testing\n",
    "# fig,ax = plt.subplots(figsize = (15, 15))\n",
    "# tallinn_map.plot(ax = ax, alpha=.4, color='grey')\n",
    "\n",
    "# df[(df['transport']==1)].plot(ax=ax, markersize=20, color='blue', marker='o', label='trolley')\n",
    "# df[(df['transport']==2)].plot(ax=ax, markersize=20, color='green', marker='o', label='bus')\n",
    "# df[(df['transport']==3)].plot(ax=ax, markersize=20, color='red', marker='o', label='tram')\n",
    "# df_dummy.plot(ax=ax, markersize=20, color='purple', marker='o', label='fake', alpha=1)\n",
    "\n",
    "# fig.text(0.25, .75, '14:30', ha='left', va='top', fontsize=16, color='gray', alpha=.8, fontname='Tahoma')\n",
    "# plt.axis('off')\n",
    "# # plt.savefig('map.svg', dpi=300)\n",
    "# plt.savefig('maps_png/00_test.png', dpi=100)\n"
   ]
  },
  {
   "cell_type": "code",
   "execution_count": null,
   "metadata": {
    "scrolled": false
   },
   "outputs": [],
   "source": [
    "# # just testing\n",
    "# fig,ax = plt.subplots(figsize = (15, 15))\n",
    "# tallinn_map.plot(ax = ax, alpha=.4, color='grey')\n",
    "\n",
    "# df[(df['transport']==1) & (df['timestamp']=='2019-05-13 08:00:00')].plot(ax=ax, markersize=20, color='blue', marker='o', label='trolley')\n",
    "# df[(df['transport']==2) & (df['timestamp']=='2019-05-13 08:00:00')].plot(ax=ax, markersize=20, color='green', marker='o', label='bus')\n",
    "# df[(df['transport']==3) & (df['timestamp']=='2019-05-13 08:00:00')].plot(ax=ax, markersize=20, color='red', marker='o', label='tram')\n",
    "# df_dummy.plot(ax=ax, markersize=20, color='purple', marker='o', label='fake', alpha=0)\n",
    "\n",
    "# # fig.text(0.25, .75, '14:30', ha='left', va='top', fontsize=16, color='gray', alpha=.8, fontname='Tahoma')\n",
    "# plt.axis('off')\n",
    "# # plt.savefig('map.svg', dpi=300)\n",
    "# plt.savefig('map.png', dpi=100)\n"
   ]
  },
  {
   "cell_type": "code",
   "execution_count": null,
   "metadata": {
    "scrolled": true
   },
   "outputs": [],
   "source": [
    "i = 0\n",
    "\n",
    "for timestamp in list_of_timestamps:\n",
    "    \n",
    "    fig,ax = plt.subplots(figsize = (15, 15))\n",
    "    tallinn_map.plot(ax = ax, alpha=.4, color='grey')\n",
    "\n",
    "    df[(df['transport']==1) & (df['timestamp']==timestamp)].plot(ax=ax, markersize=20, color='blue', marker='o', label='trolley')\n",
    "    df[(df['transport']==2) & (df['timestamp']==timestamp)].plot(ax=ax, markersize=20, color='green', marker='o', label='bus')\n",
    "    df[(df['transport']==3) & (df['timestamp']==timestamp)].plot(ax=ax, markersize=20, color='red', marker='o', label='tram')\n",
    "    df_dummy.plot(ax=ax, markersize=20, color='white', marker='o', label='fake', alpha=0)\n",
    "    \n",
    "    fig.text(0.25, .75, str(timestamp.time())[:-3], ha='left', va='top', fontsize=16, color='gray', alpha=.8, fontname='Tahoma')\n",
    "    plt.axis('off')\n",
    "    \n",
    "    plt.savefig('maps_png/map_' + str(i) + '.png', dpi=100)\n",
    "    plt.close()\n",
    "    i += 1\n",
    "\n",
    "print(i, 'images exported')"
   ]
  },
  {
   "cell_type": "markdown",
   "metadata": {},
   "source": [
    "# Crop images to remove the whitespace"
   ]
  },
  {
   "cell_type": "code",
   "execution_count": null,
   "metadata": {},
   "outputs": [],
   "source": [
    "from PIL import Image, ImageDraw"
   ]
  },
  {
   "cell_type": "code",
   "execution_count": null,
   "metadata": {},
   "outputs": [],
   "source": [
    "filenames = glob.glob(\"maps_png/*.png\")\n",
    "filenames.sort(key=os.path.getmtime)\n",
    "print(len(filenames))"
   ]
  },
  {
   "cell_type": "code",
   "execution_count": null,
   "metadata": {},
   "outputs": [],
   "source": [
    "image_path_output = 'maps_png/cropped/'\n",
    "\n",
    "for file in filenames:\n",
    "    im = Image.open(file)\n",
    "    im_width, im_height = im.size\n",
    "    im = im.crop((im_width*.1, im_height*.15, im_width-(im_width*.1), im_height-(im_height*.15)))  # (left, upper, right, lower)-tuple.\n",
    "    image_name_output = file[9:]\n",
    "    im.save(image_path_output + image_name_output)\n",
    "    "
   ]
  },
  {
   "cell_type": "markdown",
   "metadata": {},
   "source": [
    "# Make gif"
   ]
  },
  {
   "cell_type": "code",
   "execution_count": null,
   "metadata": {},
   "outputs": [],
   "source": [
    "filenames_cropped = glob.glob('maps_png/cropped/*.png')\n",
    "filenames_cropped.sort(key=os.path.getmtime)\n",
    "print(len(filenames_cropped))\n",
    "filenames[:3]"
   ]
  },
  {
   "cell_type": "code",
   "execution_count": 14,
   "metadata": {
    "scrolled": true
   },
   "outputs": [
    {
     "ename": "NameError",
     "evalue": "name 'filenames_cropped' is not defined",
     "output_type": "error",
     "traceback": [
      "\u001b[0;31m---------------------------------------------------------------------------\u001b[0m",
      "\u001b[0;31mNameError\u001b[0m                                 Traceback (most recent call last)",
      "\u001b[0;32m<ipython-input-14-5fcba92a3188>\u001b[0m in \u001b[0;36m<module>\u001b[0;34m\u001b[0m\n\u001b[1;32m      1\u001b[0m \u001b[0mimages\u001b[0m \u001b[0;34m=\u001b[0m \u001b[0;34m[\u001b[0m\u001b[0;34m]\u001b[0m\u001b[0;34m\u001b[0m\u001b[0;34m\u001b[0m\u001b[0m\n\u001b[1;32m      2\u001b[0m \u001b[0;34m\u001b[0m\u001b[0m\n\u001b[0;32m----> 3\u001b[0;31m \u001b[0;32mfor\u001b[0m \u001b[0mfilename\u001b[0m \u001b[0;32min\u001b[0m \u001b[0mfilenames_cropped\u001b[0m\u001b[0;34m:\u001b[0m\u001b[0;34m\u001b[0m\u001b[0;34m\u001b[0m\u001b[0m\n\u001b[0m\u001b[1;32m      4\u001b[0m     \u001b[0mimages\u001b[0m\u001b[0;34m.\u001b[0m\u001b[0mappend\u001b[0m\u001b[0;34m(\u001b[0m\u001b[0mimageio\u001b[0m\u001b[0;34m.\u001b[0m\u001b[0mimread\u001b[0m\u001b[0;34m(\u001b[0m\u001b[0mfilename\u001b[0m\u001b[0;34m)\u001b[0m\u001b[0;34m)\u001b[0m\u001b[0;34m\u001b[0m\u001b[0;34m\u001b[0m\u001b[0m\n\u001b[1;32m      5\u001b[0m \u001b[0;34m\u001b[0m\u001b[0m\n",
      "\u001b[0;31mNameError\u001b[0m: name 'filenames_cropped' is not defined"
     ]
    }
   ],
   "source": [
    "images = []\n",
    "\n",
    "for filename in filenames_cropped:\n",
    "    images.append(imageio.imread(filename))\n",
    "\n",
    "imageio.mimsave('tallinn_transport.gif', images)"
   ]
  },
  {
   "cell_type": "markdown",
   "metadata": {},
   "source": [
    "# Make video"
   ]
  },
  {
   "cell_type": "code",
   "execution_count": null,
   "metadata": {},
   "outputs": [],
   "source": [
    "import cv2\n",
    "import numpy as np\n",
    "import glob\n",
    " \n",
    "img_array = []\n",
    "for filename in filenames_cropped:\n",
    "    img = cv2.imread(filename)\n",
    "    height, width, layers = img.shape\n",
    "    size = (width,height)\n",
    "    img_array.append(img)\n",
    " \n",
    " \n",
    "out = cv2.VideoWriter('video.avi',cv2.VideoWriter_fourcc(*'DIVX'), 15, size)\n",
    " \n",
    "for i in range(len(img_array)):\n",
    "    out.write(img_array[i])\n",
    "out.release()"
   ]
  },
  {
   "cell_type": "code",
   "execution_count": null,
   "metadata": {},
   "outputs": [],
   "source": [
    "import cv2\n",
    "import os\n",
    "\n",
    "# image_folder = 'maps_png/cropped/'\n",
    "fps = 10\n",
    "video_name = str(10)+'_video.avi'\n",
    "images = []\n",
    "\n",
    "# images = [img for img in os.listdir(image_folder) if img.endswith(\".png\")]\n",
    "\n",
    "for file in filenames_cropped:\n",
    "    images.append(file[17:])"
   ]
  },
  {
   "cell_type": "code",
   "execution_count": null,
   "metadata": {},
   "outputs": [],
   "source": [
    "frame = cv2.imread(os.path.join(image_folder, images[0]))\n",
    "height, width, layers = frame.shape\n",
    "\n",
    "\n",
    "video = cv2.VideoWriter(video_name, 0, fps, (width,height))\n",
    "\n",
    "for image in images:\n",
    "    video.write(cv2.imread(os.path.join(image_folder, image)))\n",
    "\n",
    "cv2.destroyAllWindows()\n",
    "video.release()"
   ]
  },
  {
   "cell_type": "code",
   "execution_count": null,
   "metadata": {},
   "outputs": [],
   "source": []
  },
  {
   "cell_type": "code",
   "execution_count": null,
   "metadata": {},
   "outputs": [],
   "source": []
  }
 ],
 "metadata": {
  "kernelspec": {
   "display_name": "Python 3",
   "language": "python",
   "name": "python3"
  },
  "language_info": {
   "codemirror_mode": {
    "name": "ipython",
    "version": 3
   },
   "file_extension": ".py",
   "mimetype": "text/x-python",
   "name": "python",
   "nbconvert_exporter": "python",
   "pygments_lexer": "ipython3",
   "version": "3.7.3"
  }
 },
 "nbformat": 4,
 "nbformat_minor": 2
}
