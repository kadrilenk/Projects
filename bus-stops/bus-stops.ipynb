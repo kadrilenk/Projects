{
 "cells": [
  {
   "cell_type": "markdown",
   "metadata": {},
   "source": [
    "The data I used for this analysis is publicly available on Tallinn City Government's Transport Department website.\n",
    "More precisely, I used data on [routes](https://transport.tallinn.ee/data/routes.txt) \n",
    "and [stops](https://transport.tallinn.ee/data/stops.txt)."
   ]
  },
  {
   "cell_type": "markdown",
   "metadata": {},
   "source": [
    "# Cleaning the routes data\n",
    "Let's have a look at the routes data. Since I wanted to have the data as it is now (Feb 2020), I saved it as a CSV file. Another option would have been to read the data directly from the URL."
   ]
  },
  {
   "cell_type": "code",
   "execution_count": 1,
   "metadata": {},
   "outputs": [],
   "source": [
    "import pandas as pd\n",
    "import matplotlib.pyplot as plt\n",
    "import numpy as np"
   ]
  },
  {
   "cell_type": "code",
   "execution_count": 2,
   "metadata": {},
   "outputs": [
    {
     "data": {
      "text/html": [
       "<div>\n",
       "<style scoped>\n",
       "    .dataframe tbody tr th:only-of-type {\n",
       "        vertical-align: middle;\n",
       "    }\n",
       "\n",
       "    .dataframe tbody tr th {\n",
       "        vertical-align: top;\n",
       "    }\n",
       "\n",
       "    .dataframe thead th {\n",
       "        text-align: right;\n",
       "    }\n",
       "</style>\n",
       "<table border=\"1\" class=\"dataframe\">\n",
       "  <thead>\n",
       "    <tr style=\"text-align: right;\">\n",
       "      <th></th>\n",
       "      <th>RouteNum</th>\n",
       "      <th>Authority</th>\n",
       "      <th>City</th>\n",
       "      <th>Transport</th>\n",
       "      <th>Operator</th>\n",
       "      <th>ValidityPeriods</th>\n",
       "      <th>SpecialDates</th>\n",
       "      <th>RouteTag</th>\n",
       "      <th>RouteType</th>\n",
       "      <th>Commercial</th>\n",
       "      <th>RouteName</th>\n",
       "      <th>Weekdays</th>\n",
       "      <th>Streets</th>\n",
       "      <th>RouteStops</th>\n",
       "      <th>RouteStopsPlatforms</th>\n",
       "      <th>Pikas2019.7.21</th>\n",
       "    </tr>\n",
       "  </thead>\n",
       "  <tbody>\n",
       "    <tr>\n",
       "      <th>0</th>\n",
       "      <td>1</td>\n",
       "      <td>SpecialDates</td>\n",
       "      <td>NaN</td>\n",
       "      <td>NaN</td>\n",
       "      <td>NaN</td>\n",
       "      <td>18316,46,2,19,30,23,1,57,126,1,,6,54,37,2,27,2...</td>\n",
       "      <td>NaN</td>\n",
       "      <td>NaN</td>\n",
       "      <td>NaN</td>\n",
       "      <td>NaN</td>\n",
       "      <td>NaN</td>\n",
       "      <td>NaN</td>\n",
       "      <td>NaN</td>\n",
       "      <td>NaN</td>\n",
       "      <td>NaN</td>\n",
       "      <td>NaN</td>\n",
       "    </tr>\n",
       "    <tr>\n",
       "      <th>1</th>\n",
       "      <td>2</td>\n",
       "      <td>NaN</td>\n",
       "      <td>NaN</td>\n",
       "      <td>NaN</td>\n",
       "      <td>NaN</td>\n",
       "      <td>18295,1,,,,3,1,,,,3,1,,,,10,1,,,,3,1,,,,3,1,,,...</td>\n",
       "      <td>NaN</td>\n",
       "      <td>NaN</td>\n",
       "      <td>NaN</td>\n",
       "      <td>NaN</td>\n",
       "      <td>NaN</td>\n",
       "      <td>NaN</td>\n",
       "      <td>NaN</td>\n",
       "      <td>NaN</td>\n",
       "      <td>NaN</td>\n",
       "      <td>NaN</td>\n",
       "    </tr>\n",
       "    <tr>\n",
       "      <th>2</th>\n",
       "      <td>3</td>\n",
       "      <td>NaN</td>\n",
       "      <td>NaN</td>\n",
       "      <td>NaN</td>\n",
       "      <td>NaN</td>\n",
       "      <td>18316,1,,,,,,50,1,,,,,,45,1,,,,,,,,,,,,,,,,,,,...</td>\n",
       "      <td>NaN</td>\n",
       "      <td>NaN</td>\n",
       "      <td>NaN</td>\n",
       "      <td>NaN</td>\n",
       "      <td>NaN</td>\n",
       "      <td>NaN</td>\n",
       "      <td>NaN</td>\n",
       "      <td>NaN</td>\n",
       "      <td>NaN</td>\n",
       "      <td>NaN</td>\n",
       "    </tr>\n",
       "    <tr>\n",
       "      <th>3</th>\n",
       "      <td>7</td>\n",
       "      <td>NaN</td>\n",
       "      <td>NaN</td>\n",
       "      <td>NaN</td>\n",
       "      <td>NaN</td>\n",
       "      <td>18295,1,,,,,,,,,,,,,,,,,,,,,,,,,,,,,,,,,,,,,,,...</td>\n",
       "      <td>NaN</td>\n",
       "      <td>NaN</td>\n",
       "      <td>NaN</td>\n",
       "      <td>NaN</td>\n",
       "      <td>NaN</td>\n",
       "      <td>NaN</td>\n",
       "      <td>NaN</td>\n",
       "      <td>NaN</td>\n",
       "      <td>NaN</td>\n",
       "      <td>NaN</td>\n",
       "    </tr>\n",
       "    <tr>\n",
       "      <th>4</th>\n",
       "      <td>38</td>\n",
       "      <td>NaN</td>\n",
       "      <td>NaN</td>\n",
       "      <td>NaN</td>\n",
       "      <td>NaN</td>\n",
       "      <td>58378</td>\n",
       "      <td>NaN</td>\n",
       "      <td>NaN</td>\n",
       "      <td>NaN</td>\n",
       "      <td>NaN</td>\n",
       "      <td>NaN</td>\n",
       "      <td>NaN</td>\n",
       "      <td>NaN</td>\n",
       "      <td>NaN</td>\n",
       "      <td>NaN</td>\n",
       "      <td>NaN</td>\n",
       "    </tr>\n",
       "  </tbody>\n",
       "</table>\n",
       "</div>"
      ],
      "text/plain": [
       "  RouteNum     Authority City Transport Operator  \\\n",
       "0        1  SpecialDates  NaN       NaN      NaN   \n",
       "1        2           NaN  NaN       NaN      NaN   \n",
       "2        3           NaN  NaN       NaN      NaN   \n",
       "3        7           NaN  NaN       NaN      NaN   \n",
       "4       38           NaN  NaN       NaN      NaN   \n",
       "\n",
       "                                     ValidityPeriods SpecialDates  RouteTag  \\\n",
       "0  18316,46,2,19,30,23,1,57,126,1,,6,54,37,2,27,2...          NaN       NaN   \n",
       "1  18295,1,,,,3,1,,,,3,1,,,,10,1,,,,3,1,,,,3,1,,,...          NaN       NaN   \n",
       "2  18316,1,,,,,,50,1,,,,,,45,1,,,,,,,,,,,,,,,,,,,...          NaN       NaN   \n",
       "3  18295,1,,,,,,,,,,,,,,,,,,,,,,,,,,,,,,,,,,,,,,,...          NaN       NaN   \n",
       "4                                              58378          NaN       NaN   \n",
       "\n",
       "  RouteType Commercial RouteName Weekdays  Streets RouteStops  \\\n",
       "0       NaN        NaN       NaN      NaN      NaN        NaN   \n",
       "1       NaN        NaN       NaN      NaN      NaN        NaN   \n",
       "2       NaN        NaN       NaN      NaN      NaN        NaN   \n",
       "3       NaN        NaN       NaN      NaN      NaN        NaN   \n",
       "4       NaN        NaN       NaN      NaN      NaN        NaN   \n",
       "\n",
       "   RouteStopsPlatforms  Pikas2019.7.21  \n",
       "0                  NaN             NaN  \n",
       "1                  NaN             NaN  \n",
       "2                  NaN             NaN  \n",
       "3                  NaN             NaN  \n",
       "4                  NaN             NaN  "
      ]
     },
     "execution_count": 2,
     "metadata": {},
     "output_type": "execute_result"
    }
   ],
   "source": [
    "df_routes = pd.read_csv('routes.csv', sep=';')\n",
    "df_routes.head()"
   ]
  },
  {
   "cell_type": "markdown",
   "metadata": {},
   "source": [
    "There are many many NaNs and columns which I don't know what they mean. What's more, after digging more into the data I discovered that it doesn't only contain the routes data for the city of Tallinn but also for a wider region."
   ]
  },
  {
   "cell_type": "markdown",
   "metadata": {},
   "source": [
    "After exploring the data a bit more I found two things. First, all Tallinn routes have RouteType and RouteName so I can use those columns for initial filtering. Second, although the RouteNum data is also incomplete, similar routes are in consecutive rows. So for example, if the bus no 5 in the direction a-b is in one row then the route for the same bus but in the opposite direction b-a is in the following row."
   ]
  },
  {
   "cell_type": "code",
   "execution_count": 3,
   "metadata": {},
   "outputs": [
    {
     "name": "stdout",
     "output_type": "stream",
     "text": [
      "779\n"
     ]
    },
    {
     "data": {
      "text/html": [
       "<div>\n",
       "<style scoped>\n",
       "    .dataframe tbody tr th:only-of-type {\n",
       "        vertical-align: middle;\n",
       "    }\n",
       "\n",
       "    .dataframe tbody tr th {\n",
       "        vertical-align: top;\n",
       "    }\n",
       "\n",
       "    .dataframe thead th {\n",
       "        text-align: right;\n",
       "    }\n",
       "</style>\n",
       "<table border=\"1\" class=\"dataframe\">\n",
       "  <thead>\n",
       "    <tr style=\"text-align: right;\">\n",
       "      <th></th>\n",
       "      <th>RouteNum</th>\n",
       "      <th>RouteName</th>\n",
       "      <th>RouteType</th>\n",
       "      <th>RouteStops</th>\n",
       "    </tr>\n",
       "  </thead>\n",
       "  <tbody>\n",
       "    <tr>\n",
       "      <th>75</th>\n",
       "      <td>1A</td>\n",
       "      <td>Viru keskus - Viimsi keskus</td>\n",
       "      <td>a-b</td>\n",
       "      <td>[21215-1, 12214-1, 11903-2, 11803-2, 11805-1, ...</td>\n",
       "    </tr>\n",
       "    <tr>\n",
       "      <th>77</th>\n",
       "      <td>1A</td>\n",
       "      <td>Hobujaama - Viimsi keskus</td>\n",
       "      <td>a1-b</td>\n",
       "      <td>[12211-1, 12214-1, 11903-2, 11803-2, 11805-1, ...</td>\n",
       "    </tr>\n",
       "    <tr>\n",
       "      <th>79</th>\n",
       "      <td>1A</td>\n",
       "      <td>Viimsi keskus - Viru keskus</td>\n",
       "      <td>b-a</td>\n",
       "      <td>[20803-1, 20823-1, 18805-1, 18803-1, 18801-1, ...</td>\n",
       "    </tr>\n",
       "    <tr>\n",
       "      <th>81</th>\n",
       "      <td>2</td>\n",
       "      <td>Mõigu - Reisisadam (A-terminal)</td>\n",
       "      <td>a-b</td>\n",
       "      <td>[13601-1, 13604-1, 13603-1, 13516-1, 13006-1, ...</td>\n",
       "    </tr>\n",
       "    <tr>\n",
       "      <th>83</th>\n",
       "      <td>2</td>\n",
       "      <td>Reisisadam (A-terminal) - Mõigu</td>\n",
       "      <td>b-a</td>\n",
       "      <td>[10606-1, 10701-3, 16211-1, 16305-1, 21209-2, ...</td>\n",
       "    </tr>\n",
       "  </tbody>\n",
       "</table>\n",
       "</div>"
      ],
      "text/plain": [
       "   RouteNum                        RouteName RouteType  \\\n",
       "75       1A      Viru keskus - Viimsi keskus       a-b   \n",
       "77       1A        Hobujaama - Viimsi keskus      a1-b   \n",
       "79       1A      Viimsi keskus - Viru keskus       b-a   \n",
       "81        2  Mõigu - Reisisadam (A-terminal)       a-b   \n",
       "83        2  Reisisadam (A-terminal) - Mõigu       b-a   \n",
       "\n",
       "                                           RouteStops  \n",
       "75  [21215-1, 12214-1, 11903-2, 11803-2, 11805-1, ...  \n",
       "77  [12211-1, 12214-1, 11903-2, 11803-2, 11805-1, ...  \n",
       "79  [20803-1, 20823-1, 18805-1, 18803-1, 18801-1, ...  \n",
       "81  [13601-1, 13604-1, 13603-1, 13516-1, 13006-1, ...  \n",
       "83  [10606-1, 10701-3, 16211-1, 16305-1, 21209-2, ...  "
      ]
     },
     "execution_count": 3,
     "metadata": {},
     "output_type": "execute_result"
    }
   ],
   "source": [
    "# keeping only necessary columns\n",
    "df_routes = df_routes[['RouteNum', 'RouteName', 'RouteType', 'RouteStops']]\n",
    "\n",
    "# all Tallinn routes have type and Name so using this filter initially\n",
    "df_routes = df_routes.loc[(df_routes['RouteType'].notnull())&\n",
    "                          (df_routes['RouteName'].notnull())]\n",
    "\n",
    "# using forward fill because similar routes are in consequtive rows\n",
    "df_routes['RouteNum'] = df_routes['RouteNum'].fillna(method='ffill')\n",
    "\n",
    "# turning RouteStops from string to list so that I can iterat over them later\n",
    "df_routes['RouteStops'] = df_routes['RouteStops'].str.split(',')\n",
    "\n",
    "print(len(df_routes))\n",
    "df_routes.head()"
   ]
  },
  {
   "cell_type": "markdown",
   "metadata": {},
   "source": [
    "Reviewing the data revealed that there were some more routes in the data that were not Tallinn city routes. But it is known that 1) Tallinn city route numbers only go as high as 73 and 2) when they do contain letters, they only contain A or B. Thus I used those two additional rules to remove unnecessary rows."
   ]
  },
  {
   "cell_type": "code",
   "execution_count": 4,
   "metadata": {},
   "outputs": [
    {
     "name": "stdout",
     "output_type": "stream",
     "text": [
      "201\n"
     ]
    },
    {
     "data": {
      "text/html": [
       "<div>\n",
       "<style scoped>\n",
       "    .dataframe tbody tr th:only-of-type {\n",
       "        vertical-align: middle;\n",
       "    }\n",
       "\n",
       "    .dataframe tbody tr th {\n",
       "        vertical-align: top;\n",
       "    }\n",
       "\n",
       "    .dataframe thead th {\n",
       "        text-align: right;\n",
       "    }\n",
       "</style>\n",
       "<table border=\"1\" class=\"dataframe\">\n",
       "  <thead>\n",
       "    <tr style=\"text-align: right;\">\n",
       "      <th></th>\n",
       "      <th>RouteNum</th>\n",
       "      <th>RouteName</th>\n",
       "      <th>RouteType</th>\n",
       "      <th>RouteStops</th>\n",
       "    </tr>\n",
       "  </thead>\n",
       "  <tbody>\n",
       "    <tr>\n",
       "      <th>75</th>\n",
       "      <td>1A</td>\n",
       "      <td>Viru keskus - Viimsi keskus</td>\n",
       "      <td>a-b</td>\n",
       "      <td>[21215-1, 12214-1, 11903-2, 11803-2, 11805-1, ...</td>\n",
       "    </tr>\n",
       "    <tr>\n",
       "      <th>77</th>\n",
       "      <td>1A</td>\n",
       "      <td>Hobujaama - Viimsi keskus</td>\n",
       "      <td>a1-b</td>\n",
       "      <td>[12211-1, 12214-1, 11903-2, 11803-2, 11805-1, ...</td>\n",
       "    </tr>\n",
       "    <tr>\n",
       "      <th>79</th>\n",
       "      <td>1A</td>\n",
       "      <td>Viimsi keskus - Viru keskus</td>\n",
       "      <td>b-a</td>\n",
       "      <td>[20803-1, 20823-1, 18805-1, 18803-1, 18801-1, ...</td>\n",
       "    </tr>\n",
       "    <tr>\n",
       "      <th>81</th>\n",
       "      <td>2</td>\n",
       "      <td>Mõigu - Reisisadam (A-terminal)</td>\n",
       "      <td>a-b</td>\n",
       "      <td>[13601-1, 13604-1, 13603-1, 13516-1, 13006-1, ...</td>\n",
       "    </tr>\n",
       "    <tr>\n",
       "      <th>83</th>\n",
       "      <td>2</td>\n",
       "      <td>Reisisadam (A-terminal) - Mõigu</td>\n",
       "      <td>b-a</td>\n",
       "      <td>[10606-1, 10701-3, 16211-1, 16305-1, 21209-2, ...</td>\n",
       "    </tr>\n",
       "  </tbody>\n",
       "</table>\n",
       "</div>"
      ],
      "text/plain": [
       "   RouteNum                        RouteName RouteType  \\\n",
       "75       1A      Viru keskus - Viimsi keskus       a-b   \n",
       "77       1A        Hobujaama - Viimsi keskus      a1-b   \n",
       "79       1A      Viimsi keskus - Viru keskus       b-a   \n",
       "81        2  Mõigu - Reisisadam (A-terminal)       a-b   \n",
       "83        2  Reisisadam (A-terminal) - Mõigu       b-a   \n",
       "\n",
       "                                           RouteStops  \n",
       "75  [21215-1, 12214-1, 11903-2, 11803-2, 11805-1, ...  \n",
       "77  [12211-1, 12214-1, 11903-2, 11803-2, 11805-1, ...  \n",
       "79  [20803-1, 20823-1, 18805-1, 18803-1, 18801-1, ...  \n",
       "81  [13601-1, 13604-1, 13603-1, 13516-1, 13006-1, ...  \n",
       "83  [10606-1, 10701-3, 16211-1, 16305-1, 21209-2, ...  "
      ]
     },
     "execution_count": 4,
     "metadata": {},
     "output_type": "execute_result"
    }
   ],
   "source": [
    "df_routes = df_routes[df_routes['RouteNum'].str.len()<=3]\n",
    "df_routes = df_routes[~df_routes['RouteNum'].str.contains('J|H|K|P|R|S|V|Ä', regex=True)]\n",
    "df_exclude = df_routes[(df_routes['RouteNum'].str.len()==3)&\\\n",
    "                       (df_routes['RouteNum'].str.isdigit())]\n",
    "df_routes = df_routes[(~df_routes.RouteNum.isin(df_exclude.RouteNum))]\n",
    "\n",
    "print(len(df_routes))\n",
    "df_routes.head() "
   ]
  },
  {
   "cell_type": "markdown",
   "metadata": {},
   "source": [
    "So we're down to 201 rows from the initial 779 which seems about right. Going through the rows I don't see any data that shouldn't be there either."
   ]
  },
  {
   "cell_type": "markdown",
   "metadata": {},
   "source": [
    "Another thing I noticed is that the type of transport is also in consecutive order, meaning the bus routes are listed first, then trams and lastly trolleys. There is no fool-proof way to determine which route is which type of transport so I just have to look and determine the rows where one type of transport ends and the other begins."
   ]
  },
  {
   "cell_type": "code",
   "execution_count": 5,
   "metadata": {},
   "outputs": [
    {
     "data": {
      "text/html": [
       "<div>\n",
       "<style scoped>\n",
       "    .dataframe tbody tr th:only-of-type {\n",
       "        vertical-align: middle;\n",
       "    }\n",
       "\n",
       "    .dataframe tbody tr th {\n",
       "        vertical-align: top;\n",
       "    }\n",
       "\n",
       "    .dataframe thead th {\n",
       "        text-align: right;\n",
       "    }\n",
       "</style>\n",
       "<table border=\"1\" class=\"dataframe\">\n",
       "  <thead>\n",
       "    <tr style=\"text-align: right;\">\n",
       "      <th></th>\n",
       "      <th>RouteNum</th>\n",
       "      <th>TransportType</th>\n",
       "    </tr>\n",
       "  </thead>\n",
       "  <tbody>\n",
       "    <tr>\n",
       "      <th>0</th>\n",
       "      <td>1A</td>\n",
       "      <td>bus</td>\n",
       "    </tr>\n",
       "    <tr>\n",
       "      <th>1</th>\n",
       "      <td>1A</td>\n",
       "      <td>bus</td>\n",
       "    </tr>\n",
       "    <tr>\n",
       "      <th>2</th>\n",
       "      <td>1A</td>\n",
       "      <td>bus</td>\n",
       "    </tr>\n",
       "    <tr>\n",
       "      <th>3</th>\n",
       "      <td>2</td>\n",
       "      <td>bus</td>\n",
       "    </tr>\n",
       "    <tr>\n",
       "      <th>4</th>\n",
       "      <td>2</td>\n",
       "      <td>bus</td>\n",
       "    </tr>\n",
       "  </tbody>\n",
       "</table>\n",
       "</div>"
      ],
      "text/plain": [
       "  RouteNum TransportType\n",
       "0       1A           bus\n",
       "1       1A           bus\n",
       "2       1A           bus\n",
       "3        2           bus\n",
       "4        2           bus"
      ]
     },
     "execution_count": 5,
     "metadata": {},
     "output_type": "execute_result"
    }
   ],
   "source": [
    "df_routes.reset_index(drop=True, inplace=True)\n",
    "df_routes['TransportType'] = 'bus'\n",
    "df_routes.loc[176:192, 'TransportType'] = 'tram'\n",
    "df_routes.loc[193:, 'TransportType'] = 'trolley'\n",
    "df_routes[['RouteNum', 'TransportType']].head()"
   ]
  },
  {
   "cell_type": "markdown",
   "metadata": {},
   "source": [
    "# Cleaning the stops data"
   ]
  },
  {
   "cell_type": "code",
   "execution_count": 6,
   "metadata": {},
   "outputs": [
    {
     "data": {
      "text/html": [
       "<div>\n",
       "<style scoped>\n",
       "    .dataframe tbody tr th:only-of-type {\n",
       "        vertical-align: middle;\n",
       "    }\n",
       "\n",
       "    .dataframe tbody tr th {\n",
       "        vertical-align: top;\n",
       "    }\n",
       "\n",
       "    .dataframe thead th {\n",
       "        text-align: right;\n",
       "    }\n",
       "</style>\n",
       "<table border=\"1\" class=\"dataframe\">\n",
       "  <thead>\n",
       "    <tr style=\"text-align: right;\">\n",
       "      <th></th>\n",
       "      <th>ID</th>\n",
       "      <th>SiriID</th>\n",
       "      <th>Lat</th>\n",
       "      <th>Lng</th>\n",
       "      <th>Stops</th>\n",
       "      <th>Name</th>\n",
       "      <th>Info</th>\n",
       "      <th>Street</th>\n",
       "      <th>Area</th>\n",
       "      <th>City</th>\n",
       "      <th>Pikas2019.7.21</th>\n",
       "    </tr>\n",
       "  </thead>\n",
       "  <tbody>\n",
       "    <tr>\n",
       "      <th>0</th>\n",
       "      <td>22723-1</td>\n",
       "      <td>4854</td>\n",
       "      <td>5900036</td>\n",
       "      <td>2410741</td>\n",
       "      <td>22724-1,5700337-1</td>\n",
       "      <td>Rehemäe</td>\n",
       "      <td>5.0</td>\n",
       "      <td>Ääsmäe - Haapsalu - Rohuküla</td>\n",
       "      <td>Harjumaa ÜTK</td>\n",
       "      <td>NaN</td>\n",
       "      <td>NaN</td>\n",
       "    </tr>\n",
       "    <tr>\n",
       "      <th>1</th>\n",
       "      <td>22724-1</td>\n",
       "      <td>4855</td>\n",
       "      <td>5900035</td>\n",
       "      <td>2410791</td>\n",
       "      <td>22723-1,22725-1</td>\n",
       "      <td>NaN</td>\n",
       "      <td>NaN</td>\n",
       "      <td>NaN</td>\n",
       "      <td>NaN</td>\n",
       "      <td>NaN</td>\n",
       "      <td>NaN</td>\n",
       "    </tr>\n",
       "    <tr>\n",
       "      <th>2</th>\n",
       "      <td>22725-1</td>\n",
       "      <td>4852</td>\n",
       "      <td>5902844</td>\n",
       "      <td>2415262</td>\n",
       "      <td>22726-1,22724-1</td>\n",
       "      <td>Riiaküla</td>\n",
       "      <td>NaN</td>\n",
       "      <td>NaN</td>\n",
       "      <td>NaN</td>\n",
       "      <td>NaN</td>\n",
       "      <td>NaN</td>\n",
       "    </tr>\n",
       "    <tr>\n",
       "      <th>3</th>\n",
       "      <td>22726-1</td>\n",
       "      <td>4853</td>\n",
       "      <td>5902854</td>\n",
       "      <td>2415305</td>\n",
       "      <td>22725-1,22706-1</td>\n",
       "      <td>NaN</td>\n",
       "      <td>NaN</td>\n",
       "      <td>NaN</td>\n",
       "      <td>NaN</td>\n",
       "      <td>NaN</td>\n",
       "      <td>NaN</td>\n",
       "    </tr>\n",
       "    <tr>\n",
       "      <th>4</th>\n",
       "      <td>5700032-1</td>\n",
       "      <td>21945</td>\n",
       "      <td>5893842</td>\n",
       "      <td>2353317</td>\n",
       "      <td>5700065-1</td>\n",
       "      <td>Haapsalu bussijaam</td>\n",
       "      <td>7.0</td>\n",
       "      <td>0</td>\n",
       "      <td>Lääne MV</td>\n",
       "      <td>NaN</td>\n",
       "      <td>NaN</td>\n",
       "    </tr>\n",
       "  </tbody>\n",
       "</table>\n",
       "</div>"
      ],
      "text/plain": [
       "          ID  SiriID      Lat      Lng              Stops                Name  \\\n",
       "0    22723-1    4854  5900036  2410741  22724-1,5700337-1             Rehemäe   \n",
       "1    22724-1    4855  5900035  2410791    22723-1,22725-1                 NaN   \n",
       "2    22725-1    4852  5902844  2415262    22726-1,22724-1            Riiaküla   \n",
       "3    22726-1    4853  5902854  2415305    22725-1,22706-1                 NaN   \n",
       "4  5700032-1   21945  5893842  2353317          5700065-1  Haapsalu bussijaam   \n",
       "\n",
       "   Info                        Street          Area City  Pikas2019.7.21  \n",
       "0   5.0  Ääsmäe - Haapsalu - Rohuküla  Harjumaa ÜTK  NaN             NaN  \n",
       "1   NaN                           NaN           NaN  NaN             NaN  \n",
       "2   NaN                           NaN           NaN  NaN             NaN  \n",
       "3   NaN                           NaN           NaN  NaN             NaN  \n",
       "4   7.0                             0      Lääne MV  NaN             NaN  "
      ]
     },
     "execution_count": 6,
     "metadata": {},
     "output_type": "execute_result"
    }
   ],
   "source": [
    "df_stops = pd.read_csv('stops.csv', sep=';')\n",
    "df_stops.head()"
   ]
  },
  {
   "cell_type": "markdown",
   "metadata": {},
   "source": [
    "Again, the data looks a bit messy so let's start cleaning. Fortunately, this time there is not that much to do. Only a couple of lines of code."
   ]
  },
  {
   "cell_type": "code",
   "execution_count": 7,
   "metadata": {},
   "outputs": [
    {
     "data": {
      "text/html": [
       "<div>\n",
       "<style scoped>\n",
       "    .dataframe tbody tr th:only-of-type {\n",
       "        vertical-align: middle;\n",
       "    }\n",
       "\n",
       "    .dataframe tbody tr th {\n",
       "        vertical-align: top;\n",
       "    }\n",
       "\n",
       "    .dataframe thead th {\n",
       "        text-align: right;\n",
       "    }\n",
       "</style>\n",
       "<table border=\"1\" class=\"dataframe\">\n",
       "  <thead>\n",
       "    <tr style=\"text-align: right;\">\n",
       "      <th></th>\n",
       "      <th>ID</th>\n",
       "      <th>SiriID</th>\n",
       "      <th>Lat</th>\n",
       "      <th>Lng</th>\n",
       "      <th>Name</th>\n",
       "      <th>Coordinates</th>\n",
       "    </tr>\n",
       "  </thead>\n",
       "  <tbody>\n",
       "    <tr>\n",
       "      <th>0</th>\n",
       "      <td>22723-1</td>\n",
       "      <td>4854</td>\n",
       "      <td>5900036</td>\n",
       "      <td>2410741</td>\n",
       "      <td>Rehemäe</td>\n",
       "      <td>59.00036, 24.10741</td>\n",
       "    </tr>\n",
       "    <tr>\n",
       "      <th>1</th>\n",
       "      <td>22724-1</td>\n",
       "      <td>4855</td>\n",
       "      <td>5900035</td>\n",
       "      <td>2410791</td>\n",
       "      <td>NaN</td>\n",
       "      <td>59.00035, 24.10791</td>\n",
       "    </tr>\n",
       "    <tr>\n",
       "      <th>2</th>\n",
       "      <td>22725-1</td>\n",
       "      <td>4852</td>\n",
       "      <td>5902844</td>\n",
       "      <td>2415262</td>\n",
       "      <td>Riiaküla</td>\n",
       "      <td>59.02844, 24.15262</td>\n",
       "    </tr>\n",
       "    <tr>\n",
       "      <th>3</th>\n",
       "      <td>22726-1</td>\n",
       "      <td>4853</td>\n",
       "      <td>5902854</td>\n",
       "      <td>2415305</td>\n",
       "      <td>NaN</td>\n",
       "      <td>59.02854, 24.15305</td>\n",
       "    </tr>\n",
       "    <tr>\n",
       "      <th>4</th>\n",
       "      <td>5700032-1</td>\n",
       "      <td>21945</td>\n",
       "      <td>5893842</td>\n",
       "      <td>2353317</td>\n",
       "      <td>Haapsalu bussijaam</td>\n",
       "      <td>58.93842, 23.53317</td>\n",
       "    </tr>\n",
       "  </tbody>\n",
       "</table>\n",
       "</div>"
      ],
      "text/plain": [
       "          ID  SiriID      Lat      Lng                Name         Coordinates\n",
       "0    22723-1    4854  5900036  2410741             Rehemäe  59.00036, 24.10741\n",
       "1    22724-1    4855  5900035  2410791                 NaN  59.00035, 24.10791\n",
       "2    22725-1    4852  5902844  2415262            Riiaküla  59.02844, 24.15262\n",
       "3    22726-1    4853  5902854  2415305                 NaN  59.02854, 24.15305\n",
       "4  5700032-1   21945  5893842  2353317  Haapsalu bussijaam  58.93842, 23.53317"
      ]
     },
     "execution_count": 7,
     "metadata": {},
     "output_type": "execute_result"
    }
   ],
   "source": [
    "# keeping only necessary columns\n",
    "df_stops = df_stops[['ID', 'SiriID', 'Lat', 'Lng', 'Name']]\n",
    "\n",
    "df_stops['Coordinates'] = (df_stops['Lat']/100000).astype(str) + ', ' \\\n",
    "                        + (df_stops['Lng']/100000).astype(str)\n",
    "\n",
    "df_stops.head()"
   ]
  },
  {
   "cell_type": "markdown",
   "metadata": {},
   "source": [
    "# Add stop coordinates to routes data"
   ]
  },
  {
   "cell_type": "markdown",
   "metadata": {},
   "source": [
    "The routes data frame has a list of all the stops in a particular route in the consecutive order. Let's add another column to the routes data frame where we replace the stop ID with coordinates."
   ]
  },
  {
   "cell_type": "markdown",
   "metadata": {},
   "source": [
    "Let's start by creating a dictionary where the keys are the stop IDs and the values are stop coordinates."
   ]
  },
  {
   "cell_type": "code",
   "execution_count": 8,
   "metadata": {},
   "outputs": [],
   "source": [
    "coord_dict = dict(zip(df_stops.ID, df_stops.Coordinates))"
   ]
  },
  {
   "cell_type": "markdown",
   "metadata": {},
   "source": [
    "Now we can use the apply method and the dictionary to create a new column of stop coordinates."
   ]
  },
  {
   "cell_type": "code",
   "execution_count": 9,
   "metadata": {},
   "outputs": [
    {
     "data": {
      "text/html": [
       "<div>\n",
       "<style scoped>\n",
       "    .dataframe tbody tr th:only-of-type {\n",
       "        vertical-align: middle;\n",
       "    }\n",
       "\n",
       "    .dataframe tbody tr th {\n",
       "        vertical-align: top;\n",
       "    }\n",
       "\n",
       "    .dataframe thead th {\n",
       "        text-align: right;\n",
       "    }\n",
       "</style>\n",
       "<table border=\"1\" class=\"dataframe\">\n",
       "  <thead>\n",
       "    <tr style=\"text-align: right;\">\n",
       "      <th></th>\n",
       "      <th>RouteNum</th>\n",
       "      <th>RouteStops</th>\n",
       "      <th>StopsCoordinates</th>\n",
       "    </tr>\n",
       "  </thead>\n",
       "  <tbody>\n",
       "    <tr>\n",
       "      <th>0</th>\n",
       "      <td>1A</td>\n",
       "      <td>[21215-1, 12214-1, 11903-2, 11803-2, 11805-1, ...</td>\n",
       "      <td>[59.43647, 24.75669, 59.43712, 24.76218, 59.43...</td>\n",
       "    </tr>\n",
       "    <tr>\n",
       "      <th>1</th>\n",
       "      <td>1A</td>\n",
       "      <td>[12211-1, 12214-1, 11903-2, 11803-2, 11805-1, ...</td>\n",
       "      <td>[59.43711, 24.75862, 59.43712, 24.76218, 59.43...</td>\n",
       "    </tr>\n",
       "    <tr>\n",
       "      <th>2</th>\n",
       "      <td>1A</td>\n",
       "      <td>[20803-1, 20823-1, 18805-1, 18803-1, 18801-1, ...</td>\n",
       "      <td>[59.50906, 24.83017, 59.50404, 24.82818, 59.49...</td>\n",
       "    </tr>\n",
       "    <tr>\n",
       "      <th>3</th>\n",
       "      <td>2</td>\n",
       "      <td>[13601-1, 13604-1, 13603-1, 13516-1, 13006-1, ...</td>\n",
       "      <td>[59.40628, 24.81604, 59.40802, 24.81109, 59.40...</td>\n",
       "    </tr>\n",
       "    <tr>\n",
       "      <th>4</th>\n",
       "      <td>2</td>\n",
       "      <td>[10606-1, 10701-3, 16211-1, 16305-1, 21209-2, ...</td>\n",
       "      <td>[59.44461, 24.76014, 59.4427, 24.76475, 59.440...</td>\n",
       "    </tr>\n",
       "  </tbody>\n",
       "</table>\n",
       "</div>"
      ],
      "text/plain": [
       "  RouteNum                                         RouteStops  \\\n",
       "0       1A  [21215-1, 12214-1, 11903-2, 11803-2, 11805-1, ...   \n",
       "1       1A  [12211-1, 12214-1, 11903-2, 11803-2, 11805-1, ...   \n",
       "2       1A  [20803-1, 20823-1, 18805-1, 18803-1, 18801-1, ...   \n",
       "3        2  [13601-1, 13604-1, 13603-1, 13516-1, 13006-1, ...   \n",
       "4        2  [10606-1, 10701-3, 16211-1, 16305-1, 21209-2, ...   \n",
       "\n",
       "                                    StopsCoordinates  \n",
       "0  [59.43647, 24.75669, 59.43712, 24.76218, 59.43...  \n",
       "1  [59.43711, 24.75862, 59.43712, 24.76218, 59.43...  \n",
       "2  [59.50906, 24.83017, 59.50404, 24.82818, 59.49...  \n",
       "3  [59.40628, 24.81604, 59.40802, 24.81109, 59.40...  \n",
       "4  [59.44461, 24.76014, 59.4427, 24.76475, 59.440...  "
      ]
     },
     "execution_count": 9,
     "metadata": {},
     "output_type": "execute_result"
    }
   ],
   "source": [
    "df_routes['StopsCoordinates'] = df_routes['RouteStops'].apply(lambda x: \n",
    "                                [coord_dict.get(item,item) for item in x])\n",
    "df_routes[['RouteNum', 'RouteStops', 'StopsCoordinates']].head()"
   ]
  },
  {
   "cell_type": "markdown",
   "metadata": {},
   "source": [
    "Next, let's create a list of all the consecutive stop pair coordinates. We can then use these coordinate pairs as an input for calculating the distance between each pair."
   ]
  },
  {
   "cell_type": "code",
   "execution_count": 10,
   "metadata": {},
   "outputs": [
    {
     "name": "stdout",
     "output_type": "stream",
     "text": [
      "1410\n"
     ]
    },
    {
     "data": {
      "text/plain": [
       "[('59.42812, 24.79209', '59.42997, 24.78653'),\n",
       " ('59.35347, 24.62933', '59.35044, 24.62691'),\n",
       " ('59.38608, 24.67751', '59.38878, 24.6833'),\n",
       " ('59.42401, 24.85646', '59.42632, 24.85092'),\n",
       " ('59.42941, 24.84011', '59.42888, 24.83702')]"
      ]
     },
     "execution_count": 10,
     "metadata": {},
     "output_type": "execute_result"
    }
   ],
   "source": [
    "stop_pairs = []\n",
    "\n",
    "for i, coordinates in enumerate(df_routes['StopsCoordinates']):\n",
    "    for i in range(len(coordinates)-1):\n",
    "        stop_pairs.append((coordinates[i], coordinates[i+1]))\n",
    "\n",
    "# remove duplicates\n",
    "stop_pairs = list(set(stop_pairs))\n",
    "\n",
    "print(len(stop_pairs))\n",
    "stop_pairs[:5]"
   ]
  },
  {
   "cell_type": "markdown",
   "metadata": {},
   "source": [
    "# Get distance data from Google Maps"
   ]
  },
  {
   "cell_type": "markdown",
   "metadata": {},
   "source": [
    "I'm using the Google Maps API to get the road distance between two coordinates. I don't want to use the \"air\" or \"flying\" distance because I want to be as accurate as possible. Using the API requires you to sign up to get your API key. For a small number of requests, their service is free of charge."
   ]
  },
  {
   "cell_type": "code",
   "execution_count": 11,
   "metadata": {},
   "outputs": [],
   "source": [
    "import googlemaps \n",
    "gmaps = googlemaps.Client(key='###') # API key\n",
    "\n",
    "gmaps_data = {}\n",
    "\n",
    "for i in stop_pairs:\n",
    "    gmaps_data[i] = gmaps.distance_matrix(i[0],i[1])['rows'][0]['elements'][0] "
   ]
  },
  {
   "cell_type": "markdown",
   "metadata": {},
   "source": [
    "The end result is a dictionary where the key is a coordinate pair and the values are 1) the distance between the coordinates in meters and 2) the duration it takes to travel that distance in seconds by car."
   ]
  },
  {
   "cell_type": "code",
   "execution_count": 12,
   "metadata": {},
   "outputs": [],
   "source": [
    "next(iter(gmaps_data.values()))"
   ]
  },
  {
   "cell_type": "markdown",
   "metadata": {},
   "source": [
    "Next, I'm gathering the data in the dictionary into lists."
   ]
  },
  {
   "cell_type": "code",
   "execution_count": 13,
   "metadata": {},
   "outputs": [],
   "source": [
    "coordinates = []\n",
    "distance_m = []\n",
    "duration_s = []\n",
    "status = []\n",
    "\n",
    "for i in gmaps_data:\n",
    "    coordinates.append(i)\n",
    "    distance_m.append(gmaps_data[i]['distance']['value'])\n",
    "    duration_s.append(gmaps_data[i]['duration']['value'])\n",
    "    status.append(gmaps_data[i]['status'])"
   ]
  },
  {
   "cell_type": "markdown",
   "metadata": {},
   "source": [
    "Then I can use those lists to create the data frame."
   ]
  },
  {
   "cell_type": "code",
   "execution_count": 14,
   "metadata": {},
   "outputs": [],
   "source": [
    "data = {'coordinates':coordinates, \n",
    "        'distance_m':distance_m, \n",
    "        'duration_s':duration_s, \n",
    "        'status':status}\n",
    "df_gmaps_data = pd.DataFrame(data)\n",
    "df_gmaps_data.head()"
   ]
  },
  {
   "cell_type": "markdown",
   "metadata": {},
   "source": [
    "Checking whether all statuses are \"OK\"."
   ]
  },
  {
   "cell_type": "code",
   "execution_count": 15,
   "metadata": {},
   "outputs": [],
   "source": [
    "df_gmaps_data['status'].value_counts()"
   ]
  },
  {
   "cell_type": "markdown",
   "metadata": {},
   "source": [
    "I'm saving the results into a CSV so I don't have to make more requests to the API again."
   ]
  },
  {
   "cell_type": "code",
   "execution_count": 16,
   "metadata": {},
   "outputs": [],
   "source": [
    "df_gmaps_data.to_csv('googlemaps_data.csv', index=False)"
   ]
  },
  {
   "cell_type": "markdown",
   "metadata": {},
   "source": [
    "# Analysing distances between stops"
   ]
  },
  {
   "cell_type": "code",
   "execution_count": 17,
   "metadata": {},
   "outputs": [],
   "source": [
    "df_gmaps_data = pd.read_csv('googlemaps_data.csv')"
   ]
  },
  {
   "cell_type": "markdown",
   "metadata": {},
   "source": [
    "Now we have a problem that the coordinates pair is a string but we need it to be a tuple."
   ]
  },
  {
   "cell_type": "code",
   "execution_count": 18,
   "metadata": {},
   "outputs": [
    {
     "data": {
      "text/plain": [
       "str"
      ]
     },
     "execution_count": 18,
     "metadata": {},
     "output_type": "execute_result"
    }
   ],
   "source": [
    "type(df_gmaps_data['coordinates'][0])"
   ]
  },
  {
   "cell_type": "markdown",
   "metadata": {},
   "source": [
    "I'm using the literal_eval module to read the string as a tuple."
   ]
  },
  {
   "cell_type": "code",
   "execution_count": 19,
   "metadata": {},
   "outputs": [],
   "source": [
    "from ast import literal_eval\n",
    "\n",
    "# cast coordinates as tuple not string\n",
    "df_gmaps_data['coordinates'] = [literal_eval(x) for x in df_gmaps_data['coordinates']]"
   ]
  },
  {
   "cell_type": "code",
   "execution_count": 20,
   "metadata": {},
   "outputs": [
    {
     "data": {
      "text/plain": [
       "tuple"
      ]
     },
     "execution_count": 20,
     "metadata": {},
     "output_type": "execute_result"
    }
   ],
   "source": [
    "type(df_gmaps_data['coordinates'][0])"
   ]
  },
  {
   "cell_type": "code",
   "execution_count": 21,
   "metadata": {},
   "outputs": [
    {
     "data": {
      "text/html": [
       "<div>\n",
       "<style scoped>\n",
       "    .dataframe tbody tr th:only-of-type {\n",
       "        vertical-align: middle;\n",
       "    }\n",
       "\n",
       "    .dataframe tbody tr th {\n",
       "        vertical-align: top;\n",
       "    }\n",
       "\n",
       "    .dataframe thead th {\n",
       "        text-align: right;\n",
       "    }\n",
       "</style>\n",
       "<table border=\"1\" class=\"dataframe\">\n",
       "  <thead>\n",
       "    <tr style=\"text-align: right;\">\n",
       "      <th></th>\n",
       "      <th>coordinates</th>\n",
       "      <th>distance_m</th>\n",
       "      <th>duration_s</th>\n",
       "      <th>status</th>\n",
       "    </tr>\n",
       "  </thead>\n",
       "  <tbody>\n",
       "    <tr>\n",
       "      <th>0</th>\n",
       "      <td>(59.44119, 24.71317, 59.44019, 24.70737)</td>\n",
       "      <td>417</td>\n",
       "      <td>64</td>\n",
       "      <td>OK</td>\n",
       "    </tr>\n",
       "    <tr>\n",
       "      <th>1</th>\n",
       "      <td>(59.43605, 24.71172, 59.44019, 24.70737)</td>\n",
       "      <td>522</td>\n",
       "      <td>56</td>\n",
       "      <td>OK</td>\n",
       "    </tr>\n",
       "    <tr>\n",
       "      <th>2</th>\n",
       "      <td>(59.45813, 24.82979, 59.45893, 24.83552)</td>\n",
       "      <td>336</td>\n",
       "      <td>33</td>\n",
       "      <td>OK</td>\n",
       "    </tr>\n",
       "    <tr>\n",
       "      <th>3</th>\n",
       "      <td>(59.38219, 24.63807, 59.37893, 24.63641)</td>\n",
       "      <td>375</td>\n",
       "      <td>31</td>\n",
       "      <td>OK</td>\n",
       "    </tr>\n",
       "    <tr>\n",
       "      <th>4</th>\n",
       "      <td>(59.42296, 24.79297, 59.42145, 24.80205)</td>\n",
       "      <td>695</td>\n",
       "      <td>95</td>\n",
       "      <td>OK</td>\n",
       "    </tr>\n",
       "  </tbody>\n",
       "</table>\n",
       "</div>"
      ],
      "text/plain": [
       "                                coordinates  distance_m  duration_s status\n",
       "0  (59.44119, 24.71317, 59.44019, 24.70737)         417          64     OK\n",
       "1  (59.43605, 24.71172, 59.44019, 24.70737)         522          56     OK\n",
       "2  (59.45813, 24.82979, 59.45893, 24.83552)         336          33     OK\n",
       "3  (59.38219, 24.63807, 59.37893, 24.63641)         375          31     OK\n",
       "4  (59.42296, 24.79297, 59.42145, 24.80205)         695          95     OK"
      ]
     },
     "execution_count": 21,
     "metadata": {},
     "output_type": "execute_result"
    }
   ],
   "source": [
    "df_gmaps_data.head()"
   ]
  },
  {
   "cell_type": "markdown",
   "metadata": {},
   "source": [
    "Let's have a look at the descriptive statistics of distance data."
   ]
  },
  {
   "cell_type": "code",
   "execution_count": 22,
   "metadata": {},
   "outputs": [
    {
     "data": {
      "text/html": [
       "<div>\n",
       "<style scoped>\n",
       "    .dataframe tbody tr th:only-of-type {\n",
       "        vertical-align: middle;\n",
       "    }\n",
       "\n",
       "    .dataframe tbody tr th {\n",
       "        vertical-align: top;\n",
       "    }\n",
       "\n",
       "    .dataframe thead th {\n",
       "        text-align: right;\n",
       "    }\n",
       "</style>\n",
       "<table border=\"1\" class=\"dataframe\">\n",
       "  <thead>\n",
       "    <tr style=\"text-align: right;\">\n",
       "      <th></th>\n",
       "      <th>distance_m</th>\n",
       "    </tr>\n",
       "  </thead>\n",
       "  <tbody>\n",
       "    <tr>\n",
       "      <th>count</th>\n",
       "      <td>1410.0</td>\n",
       "    </tr>\n",
       "    <tr>\n",
       "      <th>mean</th>\n",
       "      <td>685.9</td>\n",
       "    </tr>\n",
       "    <tr>\n",
       "      <th>std</th>\n",
       "      <td>547.8</td>\n",
       "    </tr>\n",
       "    <tr>\n",
       "      <th>min</th>\n",
       "      <td>47.0</td>\n",
       "    </tr>\n",
       "    <tr>\n",
       "      <th>25%</th>\n",
       "      <td>413.0</td>\n",
       "    </tr>\n",
       "    <tr>\n",
       "      <th>50%</th>\n",
       "      <td>543.0</td>\n",
       "    </tr>\n",
       "    <tr>\n",
       "      <th>75%</th>\n",
       "      <td>751.8</td>\n",
       "    </tr>\n",
       "    <tr>\n",
       "      <th>max</th>\n",
       "      <td>5575.0</td>\n",
       "    </tr>\n",
       "  </tbody>\n",
       "</table>\n",
       "</div>"
      ],
      "text/plain": [
       "       distance_m\n",
       "count      1410.0\n",
       "mean        685.9\n",
       "std         547.8\n",
       "min          47.0\n",
       "25%         413.0\n",
       "50%         543.0\n",
       "75%         751.8\n",
       "max        5575.0"
      ]
     },
     "execution_count": 22,
     "metadata": {},
     "output_type": "execute_result"
    }
   ],
   "source": [
    "df_gmaps_data[['distance_m']].describe().round(1)"
   ]
  },
  {
   "cell_type": "markdown",
   "metadata": {},
   "source": [
    "Let's now visualize the distance data between two consecutive stops."
   ]
  },
  {
   "cell_type": "code",
   "execution_count": 23,
   "metadata": {},
   "outputs": [],
   "source": [
    "from matplotlib.ticker import PercentFormatter"
   ]
  },
  {
   "cell_type": "code",
   "execution_count": 48,
   "metadata": {},
   "outputs": [
    {
     "data": {
      "image/png": "[encoded data removed]",
      "text/plain": [
       "<Figure size 720x360 with 1 Axes>"
      ]
     },
     "metadata": {
      "needs_background": "light"
     },
     "output_type": "display_data"
    }
   ],
   "source": [
    "fig,ax = plt.subplots(figsize = (10, 5))\n",
    "\n",
    "x = df_gmaps_data['distance_m']\n",
    "\n",
    "plt.hist(x, weights=np.ones(len(x)) / len(x), histtype='stepfilled',\n",
    "             bins=np.arange(0, 5601, 100), alpha=.5, ec=\"k\")\n",
    "\n",
    "plt.axvline(x.mean(), color='#000000', linestyle='dashed', linewidth=1.2)\n",
    "\n",
    "plt.xlabel('distance between two stops in meters')\n",
    "plt.ylabel('percent of stops from total')\n",
    "ax.text(x=x.mean()+40, y=.185, s='Mean '+str(int(x.mean())))\n",
    "\n",
    "ax.spines['right'].set_visible(False)\n",
    "ax.spines['top'].set_visible(False)\n",
    "\n",
    "plt.gca().yaxis.set_major_formatter(PercentFormatter(1))\n",
    "\n",
    "# plt.savefig('stop_distance_overall.png', bbox_inches='tight', dpi=500)\n",
    "\n",
    "plt.show()"
   ]
  },
  {
   "cell_type": "markdown",
   "metadata": {},
   "source": [
    "Since we already found out that the minimum distance between two stops is 47m then the stops near my home are not with the shortest distance. But is it still one of the shortest? Let's find their coordinates first."
   ]
  },
  {
   "cell_type": "code",
   "execution_count": 25,
   "metadata": {},
   "outputs": [
    {
     "data": {
      "text/html": [
       "<div>\n",
       "<style scoped>\n",
       "    .dataframe tbody tr th:only-of-type {\n",
       "        vertical-align: middle;\n",
       "    }\n",
       "\n",
       "    .dataframe tbody tr th {\n",
       "        vertical-align: top;\n",
       "    }\n",
       "\n",
       "    .dataframe thead th {\n",
       "        text-align: right;\n",
       "    }\n",
       "</style>\n",
       "<table border=\"1\" class=\"dataframe\">\n",
       "  <thead>\n",
       "    <tr style=\"text-align: right;\">\n",
       "      <th></th>\n",
       "      <th>ID</th>\n",
       "      <th>SiriID</th>\n",
       "      <th>Lat</th>\n",
       "      <th>Lng</th>\n",
       "      <th>Name</th>\n",
       "      <th>Coordinates</th>\n",
       "    </tr>\n",
       "  </thead>\n",
       "  <tbody>\n",
       "    <tr>\n",
       "      <th>2160</th>\n",
       "      <td>07506-1</td>\n",
       "      <td>72</td>\n",
       "      <td>5941919</td>\n",
       "      <td>2475413</td>\n",
       "      <td>Varre</td>\n",
       "      <td>59.41919, 24.75413</td>\n",
       "    </tr>\n",
       "    <tr>\n",
       "      <th>2186</th>\n",
       "      <td>12909-1</td>\n",
       "      <td>4274</td>\n",
       "      <td>5941906</td>\n",
       "      <td>2475412</td>\n",
       "      <td>Varre</td>\n",
       "      <td>59.41906, 24.75412</td>\n",
       "    </tr>\n",
       "    <tr>\n",
       "      <th>2405</th>\n",
       "      <td>13201-1</td>\n",
       "      <td>1355</td>\n",
       "      <td>5941964</td>\n",
       "      <td>2475139</td>\n",
       "      <td>Varre</td>\n",
       "      <td>59.41964, 24.75139</td>\n",
       "    </tr>\n",
       "    <tr>\n",
       "      <th>2409</th>\n",
       "      <td>13202-1</td>\n",
       "      <td>1356</td>\n",
       "      <td>5942117</td>\n",
       "      <td>2475080</td>\n",
       "      <td>Õilme</td>\n",
       "      <td>59.42117, 24.7508</td>\n",
       "    </tr>\n",
       "  </tbody>\n",
       "</table>\n",
       "</div>"
      ],
      "text/plain": [
       "           ID  SiriID      Lat      Lng   Name         Coordinates\n",
       "2160  07506-1      72  5941919  2475413  Varre  59.41919, 24.75413\n",
       "2186  12909-1    4274  5941906  2475412  Varre  59.41906, 24.75412\n",
       "2405  13201-1    1355  5941964  2475139  Varre  59.41964, 24.75139\n",
       "2409  13202-1    1356  5942117  2475080  Õilme   59.42117, 24.7508"
      ]
     },
     "execution_count": 25,
     "metadata": {},
     "output_type": "execute_result"
    }
   ],
   "source": [
    "df_stops.loc[(df_stops['Name']=='Varre')|(df_stops['Name']=='Õilme')]"
   ]
  },
  {
   "cell_type": "markdown",
   "metadata": {},
   "source": [
    "Since there are three Varre stops, I had to check manually which one is the correct one."
   ]
  },
  {
   "cell_type": "code",
   "execution_count": 26,
   "metadata": {},
   "outputs": [
    {
     "name": "stdout",
     "output_type": "stream",
     "text": [
      "174\n"
     ]
    }
   ],
   "source": [
    "x = df_gmaps_data.loc[df_gmaps_data['coordinates']==(\"59.41964, 24.75139\", \n",
    "                                                     \"59.42117, 24.7508\"), \n",
    "                                    'distance_m'].values[0]\n",
    "print(x) # distance between Varre and Õilme"
   ]
  },
  {
   "cell_type": "code",
   "execution_count": 27,
   "metadata": {},
   "outputs": [
    {
     "data": {
      "text/plain": [
       "0.92"
      ]
     },
     "execution_count": 27,
     "metadata": {},
     "output_type": "execute_result"
    }
   ],
   "source": [
    "round(len(df_gmaps_data.loc[df_gmaps_data['distance_m']<=x]) / \n",
    "      len(df_gmaps_data) * 100, 2)"
   ]
  },
  {
   "cell_type": "markdown",
   "metadata": {},
   "source": [
    "It turns out the distance between the stops near my home is in the top 1% of the shortest in Tallinn."
   ]
  },
  {
   "cell_type": "markdown",
   "metadata": {},
   "source": [
    "# Analysing total route distances"
   ]
  },
  {
   "cell_type": "markdown",
   "metadata": {},
   "source": [
    "Now let's see how the data for the whole route distances look like."
   ]
  },
  {
   "cell_type": "markdown",
   "metadata": {},
   "source": [
    "To calculate the distance of the whole route I start from adding the coordinate pairs of the adjacent stops to the routes table so that I could use those pairs to get the distance."
   ]
  },
  {
   "cell_type": "code",
   "execution_count": 28,
   "metadata": {},
   "outputs": [
    {
     "data": {
      "text/html": [
       "<div>\n",
       "<style scoped>\n",
       "    .dataframe tbody tr th:only-of-type {\n",
       "        vertical-align: middle;\n",
       "    }\n",
       "\n",
       "    .dataframe tbody tr th {\n",
       "        vertical-align: top;\n",
       "    }\n",
       "\n",
       "    .dataframe thead th {\n",
       "        text-align: right;\n",
       "    }\n",
       "</style>\n",
       "<table border=\"1\" class=\"dataframe\">\n",
       "  <thead>\n",
       "    <tr style=\"text-align: right;\">\n",
       "      <th></th>\n",
       "      <th>RouteNum</th>\n",
       "      <th>StopsCoordPairs</th>\n",
       "    </tr>\n",
       "  </thead>\n",
       "  <tbody>\n",
       "    <tr>\n",
       "      <th>0</th>\n",
       "      <td>1A</td>\n",
       "      <td>[(59.43647, 24.75669, 59.43712, 24.76218), (59...</td>\n",
       "    </tr>\n",
       "    <tr>\n",
       "      <th>1</th>\n",
       "      <td>1A</td>\n",
       "      <td>[(59.43711, 24.75862, 59.43712, 24.76218), (59...</td>\n",
       "    </tr>\n",
       "    <tr>\n",
       "      <th>2</th>\n",
       "      <td>1A</td>\n",
       "      <td>[(59.50906, 24.83017, 59.50404, 24.82818), (59...</td>\n",
       "    </tr>\n",
       "    <tr>\n",
       "      <th>3</th>\n",
       "      <td>2</td>\n",
       "      <td>[(59.40628, 24.81604, 59.40802, 24.81109), (59...</td>\n",
       "    </tr>\n",
       "    <tr>\n",
       "      <th>4</th>\n",
       "      <td>2</td>\n",
       "      <td>[(59.44461, 24.76014, 59.4427, 24.76475), (59....</td>\n",
       "    </tr>\n",
       "  </tbody>\n",
       "</table>\n",
       "</div>"
      ],
      "text/plain": [
       "  RouteNum                                    StopsCoordPairs\n",
       "0       1A  [(59.43647, 24.75669, 59.43712, 24.76218), (59...\n",
       "1       1A  [(59.43711, 24.75862, 59.43712, 24.76218), (59...\n",
       "2       1A  [(59.50906, 24.83017, 59.50404, 24.82818), (59...\n",
       "3        2  [(59.40628, 24.81604, 59.40802, 24.81109), (59...\n",
       "4        2  [(59.44461, 24.76014, 59.4427, 24.76475), (59...."
      ]
     },
     "execution_count": 28,
     "metadata": {},
     "output_type": "execute_result"
    }
   ],
   "source": [
    "route_stops_coordinate_pairs = []\n",
    "\n",
    "for i, coordinates in enumerate(df_routes['StopsCoordinates']):\n",
    "    pairs = []\n",
    "    for j in range(len(coordinates)-1):\n",
    "        pairs.append((coordinates[j], coordinates[j+1]))\n",
    "    route_stops_coordinate_pairs.append(pairs)\n",
    "\n",
    "df_routes['StopsCoordPairs'] = route_stops_coordinate_pairs\n",
    "\n",
    "df_routes[['RouteNum', 'StopsCoordPairs']].head()"
   ]
  },
  {
   "cell_type": "markdown",
   "metadata": {},
   "source": [
    "Now that I added the coordinate pairs, I'll substitute them with the distance data and sum them up to have the total length of the route."
   ]
  },
  {
   "cell_type": "code",
   "execution_count": 29,
   "metadata": {},
   "outputs": [
    {
     "data": {
      "text/html": [
       "<div>\n",
       "<style scoped>\n",
       "    .dataframe tbody tr th:only-of-type {\n",
       "        vertical-align: middle;\n",
       "    }\n",
       "\n",
       "    .dataframe tbody tr th {\n",
       "        vertical-align: top;\n",
       "    }\n",
       "\n",
       "    .dataframe thead th {\n",
       "        text-align: right;\n",
       "    }\n",
       "</style>\n",
       "<table border=\"1\" class=\"dataframe\">\n",
       "  <thead>\n",
       "    <tr style=\"text-align: right;\">\n",
       "      <th></th>\n",
       "      <th>RouteNum</th>\n",
       "      <th>StopsDistances</th>\n",
       "      <th>TotalDistance_km</th>\n",
       "    </tr>\n",
       "  </thead>\n",
       "  <tbody>\n",
       "    <tr>\n",
       "      <th>0</th>\n",
       "      <td>1A</td>\n",
       "      <td>[858, 876, 596, 280, 992, 603, 546, 600, 320, ...</td>\n",
       "      <td>12.548</td>\n",
       "    </tr>\n",
       "    <tr>\n",
       "      <th>1</th>\n",
       "      <td>1A</td>\n",
       "      <td>[201, 876, 596, 280, 992, 603, 546, 600, 320, ...</td>\n",
       "      <td>11.891</td>\n",
       "    </tr>\n",
       "    <tr>\n",
       "      <th>2</th>\n",
       "      <td>1A</td>\n",
       "      <td>[1092, 856, 581, 415, 589, 532, 1456, 567, 465...</td>\n",
       "      <td>14.633</td>\n",
       "    </tr>\n",
       "    <tr>\n",
       "      <th>3</th>\n",
       "      <td>2</td>\n",
       "      <td>[408, 331, 1053, 411, 830, 483, 614, 502, 449,...</td>\n",
       "      <td>8.785</td>\n",
       "    </tr>\n",
       "    <tr>\n",
       "      <th>4</th>\n",
       "      <td>2</td>\n",
       "      <td>[1853, 627, 519, 1864, 506, 392, 736, 521, 802...</td>\n",
       "      <td>10.477</td>\n",
       "    </tr>\n",
       "  </tbody>\n",
       "</table>\n",
       "</div>"
      ],
      "text/plain": [
       "  RouteNum                                     StopsDistances  \\\n",
       "0       1A  [858, 876, 596, 280, 992, 603, 546, 600, 320, ...   \n",
       "1       1A  [201, 876, 596, 280, 992, 603, 546, 600, 320, ...   \n",
       "2       1A  [1092, 856, 581, 415, 589, 532, 1456, 567, 465...   \n",
       "3        2  [408, 331, 1053, 411, 830, 483, 614, 502, 449,...   \n",
       "4        2  [1853, 627, 519, 1864, 506, 392, 736, 521, 802...   \n",
       "\n",
       "   TotalDistance_km  \n",
       "0            12.548  \n",
       "1            11.891  \n",
       "2            14.633  \n",
       "3             8.785  \n",
       "4            10.477  "
      ]
     },
     "execution_count": 29,
     "metadata": {},
     "output_type": "execute_result"
    }
   ],
   "source": [
    "dist_dict = dict(zip(df_gmaps_data.coordinates, df_gmaps_data.distance_m))\n",
    "\n",
    "df_routes['StopsDistances'] = df_routes['StopsCoordPairs'].apply(lambda x: [dist_dict.get(item,item) for item in x])\n",
    "\n",
    "df_routes['TotalDistance_km'] = df_routes['StopsDistances'].apply(lambda x: sum(x)) / 1000\n",
    "\n",
    "df_routes[['RouteNum', 'StopsDistances', 'TotalDistance_km']].head()"
   ]
  },
  {
   "cell_type": "markdown",
   "metadata": {},
   "source": [
    "Let's see some descriptive info on the route distances."
   ]
  },
  {
   "cell_type": "code",
   "execution_count": 30,
   "metadata": {
    "scrolled": true
   },
   "outputs": [
    {
     "data": {
      "text/html": [
       "<div>\n",
       "<style scoped>\n",
       "    .dataframe tbody tr th:only-of-type {\n",
       "        vertical-align: middle;\n",
       "    }\n",
       "\n",
       "    .dataframe tbody tr th {\n",
       "        vertical-align: top;\n",
       "    }\n",
       "\n",
       "    .dataframe thead th {\n",
       "        text-align: right;\n",
       "    }\n",
       "</style>\n",
       "<table border=\"1\" class=\"dataframe\">\n",
       "  <thead>\n",
       "    <tr style=\"text-align: right;\">\n",
       "      <th></th>\n",
       "      <th>TotalDistance_km</th>\n",
       "    </tr>\n",
       "  </thead>\n",
       "  <tbody>\n",
       "    <tr>\n",
       "      <th>count</th>\n",
       "      <td>201.0</td>\n",
       "    </tr>\n",
       "    <tr>\n",
       "      <th>mean</th>\n",
       "      <td>11.6</td>\n",
       "    </tr>\n",
       "    <tr>\n",
       "      <th>std</th>\n",
       "      <td>4.8</td>\n",
       "    </tr>\n",
       "    <tr>\n",
       "      <th>min</th>\n",
       "      <td>0.4</td>\n",
       "    </tr>\n",
       "    <tr>\n",
       "      <th>25%</th>\n",
       "      <td>8.5</td>\n",
       "    </tr>\n",
       "    <tr>\n",
       "      <th>50%</th>\n",
       "      <td>11.1</td>\n",
       "    </tr>\n",
       "    <tr>\n",
       "      <th>75%</th>\n",
       "      <td>14.5</td>\n",
       "    </tr>\n",
       "    <tr>\n",
       "      <th>max</th>\n",
       "      <td>26.5</td>\n",
       "    </tr>\n",
       "  </tbody>\n",
       "</table>\n",
       "</div>"
      ],
      "text/plain": [
       "       TotalDistance_km\n",
       "count             201.0\n",
       "mean               11.6\n",
       "std                 4.8\n",
       "min                 0.4\n",
       "25%                 8.5\n",
       "50%                11.1\n",
       "75%                14.5\n",
       "max                26.5"
      ]
     },
     "execution_count": 30,
     "metadata": {},
     "output_type": "execute_result"
    }
   ],
   "source": [
    "df_routes[['TotalDistance_km']].describe().round(1)"
   ]
  },
  {
   "cell_type": "markdown",
   "metadata": {},
   "source": [
    "And now, let's also visualize the distribution of the route distances."
   ]
  },
  {
   "cell_type": "code",
   "execution_count": 55,
   "metadata": {},
   "outputs": [
    {
     "data": {
      "image/png": "[encoded data removed]",
      "text/plain": [
       "<Figure size 720x360 with 1 Axes>"
      ]
     },
     "metadata": {
      "needs_background": "light"
     },
     "output_type": "display_data"
    }
   ],
   "source": [
    "fig,ax = plt.subplots(figsize = (10, 5))\n",
    "x = df_routes['TotalDistance_km']\n",
    "\n",
    "plt.hist(x, weights=np.ones(len(x)) / len(x), histtype='stepfilled',\n",
    "             bins=np.arange(0, 27, .5), alpha=.5, ec=\"k\")\n",
    "plt.axvline(x.mean(), color='#000000', linestyle='dashed', linewidth=1.2)\n",
    "\n",
    "ax.spines['right'].set_visible(False)\n",
    "ax.spines['top'].set_visible(False)\n",
    "\n",
    "plt.xlabel('total route distance in km')\n",
    "plt.ylabel('percent of routes from total')\n",
    "ax.text(x=x.mean()+.2, y=.065, s='Mean '+str(round(x.mean(),1)))\n",
    "\n",
    "plt.gca().yaxis.set_major_formatter(PercentFormatter(1))\n",
    "\n",
    "# plt.savefig('route_distance_overall.png', bbox_inches='tight', dpi=500)\n",
    "\n",
    "plt.show()"
   ]
  },
  {
   "cell_type": "markdown",
   "metadata": {},
   "source": [
    "# Analysing distances between stops by transport type"
   ]
  },
  {
   "cell_type": "markdown",
   "metadata": {},
   "source": [
    "I'm also curious how the distributions look by transport type. I do have the transport type in the routes data frame but since some of the stops are shared between different transport types, I need to make a new data frame."
   ]
  },
  {
   "cell_type": "markdown",
   "metadata": {},
   "source": [
    "I start by extracting the coordinate pairs for each transport type from the existing routes data frame."
   ]
  },
  {
   "cell_type": "code",
   "execution_count": 32,
   "metadata": {},
   "outputs": [],
   "source": [
    "transport = []\n",
    "coordinates = []\n",
    "for i, coordpair in enumerate(df_routes['StopsCoordPairs']):\n",
    "    for coord in coordpair:\n",
    "        transport.append(df_routes.loc[i, 'TransportType'])\n",
    "        coordinates.append(coord)"
   ]
  },
  {
   "cell_type": "code",
   "execution_count": 33,
   "metadata": {},
   "outputs": [],
   "source": [
    "df_stops_by_transport = pd.DataFrame({'TransportType':transport, 'StopCoordinates':coordinates} )"
   ]
  },
  {
   "cell_type": "markdown",
   "metadata": {},
   "source": [
    "I then need to merge it with the data frame of distances collected with Google Maps."
   ]
  },
  {
   "cell_type": "code",
   "execution_count": 34,
   "metadata": {},
   "outputs": [
    {
     "name": "stdout",
     "output_type": "stream",
     "text": [
      "3706\n"
     ]
    },
    {
     "data": {
      "text/html": [
       "<div>\n",
       "<style scoped>\n",
       "    .dataframe tbody tr th:only-of-type {\n",
       "        vertical-align: middle;\n",
       "    }\n",
       "\n",
       "    .dataframe tbody tr th {\n",
       "        vertical-align: top;\n",
       "    }\n",
       "\n",
       "    .dataframe thead th {\n",
       "        text-align: right;\n",
       "    }\n",
       "</style>\n",
       "<table border=\"1\" class=\"dataframe\">\n",
       "  <thead>\n",
       "    <tr style=\"text-align: right;\">\n",
       "      <th></th>\n",
       "      <th>TransportType</th>\n",
       "      <th>StopCoordinates</th>\n",
       "      <th>distance_m</th>\n",
       "    </tr>\n",
       "  </thead>\n",
       "  <tbody>\n",
       "    <tr>\n",
       "      <th>0</th>\n",
       "      <td>bus</td>\n",
       "      <td>(59.43647, 24.75669, 59.43712, 24.76218)</td>\n",
       "      <td>858</td>\n",
       "    </tr>\n",
       "    <tr>\n",
       "      <th>1</th>\n",
       "      <td>bus</td>\n",
       "      <td>(59.43712, 24.76218, 59.4391, 24.77716)</td>\n",
       "      <td>876</td>\n",
       "    </tr>\n",
       "    <tr>\n",
       "      <th>2</th>\n",
       "      <td>bus</td>\n",
       "      <td>(59.4391, 24.77716, 59.44098, 24.78701)</td>\n",
       "      <td>596</td>\n",
       "    </tr>\n",
       "    <tr>\n",
       "      <th>3</th>\n",
       "      <td>bus</td>\n",
       "      <td>(59.44098, 24.78701, 59.44232, 24.79074)</td>\n",
       "      <td>280</td>\n",
       "    </tr>\n",
       "    <tr>\n",
       "      <th>4</th>\n",
       "      <td>bus</td>\n",
       "      <td>(59.44232, 24.79074, 59.44816, 24.8033)</td>\n",
       "      <td>992</td>\n",
       "    </tr>\n",
       "  </tbody>\n",
       "</table>\n",
       "</div>"
      ],
      "text/plain": [
       "  TransportType                           StopCoordinates  distance_m\n",
       "0           bus  (59.43647, 24.75669, 59.43712, 24.76218)         858\n",
       "1           bus   (59.43712, 24.76218, 59.4391, 24.77716)         876\n",
       "2           bus   (59.4391, 24.77716, 59.44098, 24.78701)         596\n",
       "3           bus  (59.44098, 24.78701, 59.44232, 24.79074)         280\n",
       "4           bus   (59.44232, 24.79074, 59.44816, 24.8033)         992"
      ]
     },
     "execution_count": 34,
     "metadata": {},
     "output_type": "execute_result"
    }
   ],
   "source": [
    "df_stops_by_transport = df_stops_by_transport.merge(df_gmaps_data, how='left', \n",
    "                                                    left_on='StopCoordinates', right_on='coordinates')\n",
    "df_stops_by_transport = df_stops_by_transport[['TransportType', 'StopCoordinates', 'distance_m']]\n",
    "print(len(df_stops_by_transport))\n",
    "df_stops_by_transport.head()"
   ]
  },
  {
   "cell_type": "markdown",
   "metadata": {},
   "source": [
    "Since some routes which are of the same transport type share some of the stops as well, I have many duplicates in the data. So let's remove them."
   ]
  },
  {
   "cell_type": "code",
   "execution_count": 35,
   "metadata": {},
   "outputs": [
    {
     "name": "stdout",
     "output_type": "stream",
     "text": [
      "1469\n"
     ]
    }
   ],
   "source": [
    "df_stops_by_transport.drop_duplicates(inplace=True)\n",
    "print(len(df_stops_by_transport))"
   ]
  },
  {
   "cell_type": "markdown",
   "metadata": {},
   "source": [
    "Let's visualize!"
   ]
  },
  {
   "cell_type": "code",
   "execution_count": 36,
   "metadata": {},
   "outputs": [
    {
     "data": {
      "image/png": "[encoded data removed]",
      "text/plain": [
       "<Figure size 720x360 with 1 Axes>"
      ]
     },
     "metadata": {
      "needs_background": "light"
     },
     "output_type": "display_data"
    }
   ],
   "source": [
    "fig,ax = plt.subplots(figsize = (10, 5))\n",
    "\n",
    "bus_data = df_stops_by_transport.loc[df_stops_by_transport['TransportType']=='bus', 'distance_m']\n",
    "trolley_data = df_stops_by_transport.loc[df_stops_by_transport['TransportType']=='trolley', 'distance_m']\n",
    "tram_data = df_stops_by_transport.loc[df_stops_by_transport['TransportType']=='tram', 'distance_m']\n",
    "colors = ['green', 'blue', 'red']\n",
    "\n",
    "for i, data in enumerate([bus_data, trolley_data, tram_data]):\n",
    "    plt.hist(data, weights=np.ones(len(data)) / len(data),\n",
    "             histtype='stepfilled',\n",
    "             bins=np.arange(0, 5601, 100), \n",
    "             color=colors[i],\n",
    "             alpha=.5, ec=\"k\")\n",
    "\n",
    "plt.xlabel('distance between stops in meters')\n",
    "plt.ylabel('percent of stops from total')\n",
    "\n",
    "ax.spines['right'].set_visible(False)\n",
    "ax.spines['top'].set_visible(False)\n",
    "ax.legend(labels=['bus', 'trolley', 'tram'])\n",
    "\n",
    "plt.gca().yaxis.set_major_formatter(PercentFormatter(1))\n",
    "\n",
    "# plt.savefig('stop_distance_by_type.png', bbox_inches='tight', dpi=500)\n",
    "\n",
    "plt.show()"
   ]
  },
  {
   "cell_type": "markdown",
   "metadata": {},
   "source": [
    "It looks too messy so let's use the small multiples approach."
   ]
  },
  {
   "cell_type": "code",
   "execution_count": 54,
   "metadata": {},
   "outputs": [
    {
     "data": {
      "image/png": "[encoded data removed]",
      "text/plain": [
       "<Figure size 864x216 with 3 Axes>"
      ]
     },
     "metadata": {
      "needs_background": "light"
     },
     "output_type": "display_data"
    }
   ],
   "source": [
    "fig, ax = plt.subplots(nrows=1, ncols=3, figsize = (12, 3))\n",
    "\n",
    "bus_data = df_stops_by_transport.loc[df_stops_by_transport['TransportType']=='bus', 'distance_m']\n",
    "trolley_data = df_stops_by_transport.loc[df_stops_by_transport['TransportType']=='trolley', 'distance_m']\n",
    "tram_data = df_stops_by_transport.loc[df_stops_by_transport['TransportType']=='tram', 'distance_m']\n",
    "colors = ['green', 'blue', 'red']\n",
    "\n",
    "for i, data in enumerate([bus_data, trolley_data, tram_data]):\n",
    "    ax[i].hist(data, histtype='stepfilled',\n",
    "               weights=np.ones(len(data)) / len(data),\n",
    "               bins=np.arange(0, 5601, 100),\n",
    "               alpha=.5,\n",
    "               color=colors[i], ec=\"k\", zorder=1)\n",
    "    ax[i].axvline(data.mean(), color='#000000', linestyle='dashed', linewidth=1, label='_nolegend_')\n",
    "    ax[i].spines['right'].set_visible(False)\n",
    "    ax[i].spines['top'].set_visible(False)\n",
    "    ax[i].yaxis.set_major_formatter(PercentFormatter(1))\n",
    "    ax[i].set_ylim(0, .25)\n",
    "    ax[i].text(x=data.mean()+90, y=.24, s='Mean '+str(int(round(data.mean(),0))))\n",
    "\n",
    "plt.figlegend(labels=['bus', 'trolley', 'tram', 'bus', 'trolley', 'tram'])\n",
    "\n",
    "fig.tight_layout()\n",
    "\n",
    "# plt.savefig('stop_distance_by_type_multiple.png', bbox_inches='tight', dpi=500)\n",
    "\n",
    "plt.show()"
   ]
  },
  {
   "cell_type": "code",
   "execution_count": 38,
   "metadata": {},
   "outputs": [
    {
     "data": {
      "text/html": [
       "<div>\n",
       "<style scoped>\n",
       "    .dataframe tbody tr th:only-of-type {\n",
       "        vertical-align: middle;\n",
       "    }\n",
       "\n",
       "    .dataframe tbody tr th {\n",
       "        vertical-align: top;\n",
       "    }\n",
       "\n",
       "    .dataframe thead th {\n",
       "        text-align: right;\n",
       "    }\n",
       "</style>\n",
       "<table border=\"1\" class=\"dataframe\">\n",
       "  <thead>\n",
       "    <tr style=\"text-align: right;\">\n",
       "      <th></th>\n",
       "      <th>count</th>\n",
       "      <th>max</th>\n",
       "      <th>mean</th>\n",
       "      <th>median</th>\n",
       "      <th>min</th>\n",
       "      <th>std</th>\n",
       "    </tr>\n",
       "    <tr>\n",
       "      <th>TransportType</th>\n",
       "      <th></th>\n",
       "      <th></th>\n",
       "      <th></th>\n",
       "      <th></th>\n",
       "      <th></th>\n",
       "      <th></th>\n",
       "    </tr>\n",
       "  </thead>\n",
       "  <tbody>\n",
       "    <tr>\n",
       "      <th>bus</th>\n",
       "      <td>1316.0</td>\n",
       "      <td>5575.0</td>\n",
       "      <td>674.0</td>\n",
       "      <td>542.0</td>\n",
       "      <td>47.0</td>\n",
       "      <td>534.0</td>\n",
       "    </tr>\n",
       "    <tr>\n",
       "      <th>tram</th>\n",
       "      <td>77.0</td>\n",
       "      <td>3069.0</td>\n",
       "      <td>948.0</td>\n",
       "      <td>641.0</td>\n",
       "      <td>179.0</td>\n",
       "      <td>732.0</td>\n",
       "    </tr>\n",
       "    <tr>\n",
       "      <th>trolley</th>\n",
       "      <td>76.0</td>\n",
       "      <td>1954.0</td>\n",
       "      <td>549.0</td>\n",
       "      <td>479.0</td>\n",
       "      <td>209.0</td>\n",
       "      <td>293.0</td>\n",
       "    </tr>\n",
       "  </tbody>\n",
       "</table>\n",
       "</div>"
      ],
      "text/plain": [
       "                count     max   mean  median    min    std\n",
       "TransportType                                             \n",
       "bus            1316.0  5575.0  674.0   542.0   47.0  534.0\n",
       "tram             77.0  3069.0  948.0   641.0  179.0  732.0\n",
       "trolley          76.0  1954.0  549.0   479.0  209.0  293.0"
      ]
     },
     "execution_count": 38,
     "metadata": {},
     "output_type": "execute_result"
    }
   ],
   "source": [
    "df_stops_by_transport.pivot_table(values='distance_m',\n",
    "                                  index='TransportType',\n",
    "                                  aggfunc=('count', 'median', 'mean', 'std', 'min', 'max')).round()"
   ]
  },
  {
   "cell_type": "markdown",
   "metadata": {},
   "source": [
    "# Analysing total route distances by transport type"
   ]
  },
  {
   "cell_type": "markdown",
   "metadata": {},
   "source": [
    "And now I want to see the data by transport type for the whole routes as well. Fortunately this time, I already have the data in the necessary form in the routes data frame so no need to do anything extra."
   ]
  },
  {
   "cell_type": "code",
   "execution_count": 39,
   "metadata": {},
   "outputs": [
    {
     "data": {
      "text/html": [
       "<div>\n",
       "<style scoped>\n",
       "    .dataframe tbody tr th:only-of-type {\n",
       "        vertical-align: middle;\n",
       "    }\n",
       "\n",
       "    .dataframe tbody tr th {\n",
       "        vertical-align: top;\n",
       "    }\n",
       "\n",
       "    .dataframe thead th {\n",
       "        text-align: right;\n",
       "    }\n",
       "</style>\n",
       "<table border=\"1\" class=\"dataframe\">\n",
       "  <thead>\n",
       "    <tr style=\"text-align: right;\">\n",
       "      <th></th>\n",
       "      <th>TransportType</th>\n",
       "      <th>TotalDistance_km</th>\n",
       "    </tr>\n",
       "  </thead>\n",
       "  <tbody>\n",
       "    <tr>\n",
       "      <th>0</th>\n",
       "      <td>bus</td>\n",
       "      <td>12.548</td>\n",
       "    </tr>\n",
       "    <tr>\n",
       "      <th>1</th>\n",
       "      <td>bus</td>\n",
       "      <td>11.891</td>\n",
       "    </tr>\n",
       "    <tr>\n",
       "      <th>2</th>\n",
       "      <td>bus</td>\n",
       "      <td>14.633</td>\n",
       "    </tr>\n",
       "    <tr>\n",
       "      <th>3</th>\n",
       "      <td>bus</td>\n",
       "      <td>8.785</td>\n",
       "    </tr>\n",
       "    <tr>\n",
       "      <th>4</th>\n",
       "      <td>bus</td>\n",
       "      <td>10.477</td>\n",
       "    </tr>\n",
       "  </tbody>\n",
       "</table>\n",
       "</div>"
      ],
      "text/plain": [
       "  TransportType  TotalDistance_km\n",
       "0           bus            12.548\n",
       "1           bus            11.891\n",
       "2           bus            14.633\n",
       "3           bus             8.785\n",
       "4           bus            10.477"
      ]
     },
     "execution_count": 39,
     "metadata": {},
     "output_type": "execute_result"
    }
   ],
   "source": [
    "df_routes[['TransportType', 'TotalDistance_km']].head()"
   ]
  },
  {
   "cell_type": "code",
   "execution_count": 40,
   "metadata": {},
   "outputs": [
    {
     "data": {
      "image/png": "[encoded data removed]",
      "text/plain": [
       "<Figure size 720x360 with 1 Axes>"
      ]
     },
     "metadata": {
      "needs_background": "light"
     },
     "output_type": "display_data"
    }
   ],
   "source": [
    "fig,ax = plt.subplots(figsize = (10, 5))\n",
    "\n",
    "bus_data = df_routes.loc[df_routes['TransportType']=='bus', 'TotalDistance_km']\n",
    "trolley_data = df_routes.loc[df_routes['TransportType']=='trolley', 'TotalDistance_km']\n",
    "tram_data = df_routes.loc[df_routes['TransportType']=='tram', 'TotalDistance_km']\n",
    "colors = ['green', 'blue', 'red']\n",
    "\n",
    "for i, data in enumerate([bus_data, trolley_data, tram_data]):\n",
    "    plt.hist(data, weights=np.ones(len(data)) / len(data),\n",
    "             histtype='stepfilled',\n",
    "             color=colors[i],\n",
    "             bins=np.arange(0, 27, .5),\n",
    "             alpha=.5, ec=\"k\")\n",
    "\n",
    "plt.xlabel('distance of the routes in kilometers')\n",
    "plt.ylabel('percent of routes from total')\n",
    "\n",
    "ax.spines['right'].set_visible(False)\n",
    "ax.spines['top'].set_visible(False)\n",
    "ax.legend(labels=['bus', 'trolley', 'tram'])\n",
    "\n",
    "plt.gca().yaxis.set_major_formatter(PercentFormatter(1))\n",
    "\n",
    "# plt.savefig('route_distance_by_type.png', bbox_inches='tight', dpi=500)\n",
    "\n",
    "plt.show()"
   ]
  },
  {
   "cell_type": "code",
   "execution_count": 41,
   "metadata": {},
   "outputs": [
    {
     "data": {
      "text/html": [
       "<div>\n",
       "<style scoped>\n",
       "    .dataframe tbody tr th:only-of-type {\n",
       "        vertical-align: middle;\n",
       "    }\n",
       "\n",
       "    .dataframe tbody tr th {\n",
       "        vertical-align: top;\n",
       "    }\n",
       "\n",
       "    .dataframe thead th {\n",
       "        text-align: right;\n",
       "    }\n",
       "</style>\n",
       "<table border=\"1\" class=\"dataframe\">\n",
       "  <thead>\n",
       "    <tr style=\"text-align: right;\">\n",
       "      <th></th>\n",
       "      <th>count</th>\n",
       "      <th>max</th>\n",
       "      <th>mean</th>\n",
       "      <th>median</th>\n",
       "      <th>min</th>\n",
       "      <th>std</th>\n",
       "    </tr>\n",
       "    <tr>\n",
       "      <th>TransportType</th>\n",
       "      <th></th>\n",
       "      <th></th>\n",
       "      <th></th>\n",
       "      <th></th>\n",
       "      <th></th>\n",
       "      <th></th>\n",
       "    </tr>\n",
       "  </thead>\n",
       "  <tbody>\n",
       "    <tr>\n",
       "      <th>bus</th>\n",
       "      <td>176</td>\n",
       "      <td>26.5</td>\n",
       "      <td>11.7</td>\n",
       "      <td>11.2</td>\n",
       "      <td>1.5</td>\n",
       "      <td>4.6</td>\n",
       "    </tr>\n",
       "    <tr>\n",
       "      <th>tram</th>\n",
       "      <td>17</td>\n",
       "      <td>24.5</td>\n",
       "      <td>12.5</td>\n",
       "      <td>12.9</td>\n",
       "      <td>0.4</td>\n",
       "      <td>7.6</td>\n",
       "    </tr>\n",
       "    <tr>\n",
       "      <th>trolley</th>\n",
       "      <td>8</td>\n",
       "      <td>10.3</td>\n",
       "      <td>8.4</td>\n",
       "      <td>8.5</td>\n",
       "      <td>7.3</td>\n",
       "      <td>0.9</td>\n",
       "    </tr>\n",
       "  </tbody>\n",
       "</table>\n",
       "</div>"
      ],
      "text/plain": [
       "               count   max  mean  median  min  std\n",
       "TransportType                                     \n",
       "bus              176  26.5  11.7    11.2  1.5  4.6\n",
       "tram              17  24.5  12.5    12.9  0.4  7.6\n",
       "trolley            8  10.3   8.4     8.5  7.3  0.9"
      ]
     },
     "execution_count": 41,
     "metadata": {},
     "output_type": "execute_result"
    }
   ],
   "source": [
    "df_routes.pivot_table(values='TotalDistance_km',\n",
    "                      index='TransportType',\n",
    "                      aggfunc=('count', 'median', 'mean', 'std', 'min', 'max')).round(1)"
   ]
  }
 ],
 "metadata": {
  "kernelspec": {
   "display_name": "Python 3",
   "language": "python",
   "name": "python3"
  },
  "language_info": {
   "codemirror_mode": {
    "name": "ipython",
    "version": 3
   },
   "file_extension": ".py",
   "mimetype": "text/x-python",
   "name": "python",
   "nbconvert_exporter": "python",
   "pygments_lexer": "ipython3",
   "version": "3.7.6"
  }
 },
 "nbformat": 4,
 "nbformat_minor": 2
}
